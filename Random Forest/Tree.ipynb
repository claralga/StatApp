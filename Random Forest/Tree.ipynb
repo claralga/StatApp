{
 "cells": [
  {
   "cell_type": "code",
   "execution_count": 1,
   "metadata": {},
   "outputs": [],
   "source": [
    "import numpy as np\n",
    "import pandas as pd"
   ]
  },
  {
   "cell_type": "code",
   "execution_count": 2,
   "metadata": {},
   "outputs": [],
   "source": [
    "df_votants = pd.read_csv('database_deputes.csv', index_col=0)\n",
    "df_votes2 = pd.read_csv('database_votes2.csv', index_col=0)"
   ]
  },
  {
   "cell_type": "code",
   "execution_count": 3,
   "metadata": {},
   "outputs": [],
   "source": [
    "df_votes = df_votes2[['idScrutin', 'idVotant']]"
   ]
  },
  {
   "cell_type": "code",
   "execution_count": 4,
   "metadata": {},
   "outputs": [],
   "source": [
    "copy = df_votes2.copy()\n",
    "copy = copy.pivot(index = 'idVotant', columns = 'idScrutin', values = 'vote')"
   ]
  },
  {
   "cell_type": "code",
   "execution_count": 5,
   "metadata": {},
   "outputs": [],
   "source": [
    "#on remplace les NaN par de l'abstention (en confondant abstention et non-votant)\n",
    "copy = copy.fillna('0')\n",
    "\n",
    "copy = copy.replace(['Pour'],'1')\n",
    "copy = copy.replace(['Contre'],'1')\n",
    "copy = copy.replace(['Non-votant'],'1')"
   ]
  },
  {
   "cell_type": "code",
   "execution_count": 6,
   "metadata": {
    "scrolled": true
   },
   "outputs": [
    {
     "data": {
      "text/plain": [
       "idScrutin  idVotant\n",
       "0          PA1008      0\n",
       "           PA1012      0\n",
       "           PA1029      0\n",
       "           PA1198      0\n",
       "           PA1206      0\n",
       "                      ..\n",
       "3116       PA774962    0\n",
       "           PA856       0\n",
       "           PA923       0\n",
       "           PA942       0\n",
       "           PA998       0\n",
       "Length: 1792275, dtype: object"
      ]
     },
     "execution_count": 6,
     "metadata": {},
     "output_type": "execute_result"
    }
   ],
   "source": [
    "copy.unstack()"
   ]
  },
  {
   "cell_type": "code",
   "execution_count": 7,
   "metadata": {},
   "outputs": [],
   "source": [
    "copy2 = pd.DataFrame(copy.unstack())"
   ]
  },
  {
   "cell_type": "code",
   "execution_count": 8,
   "metadata": {},
   "outputs": [],
   "source": [
    "copy2 = copy2.reset_index()"
   ]
  },
  {
   "cell_type": "code",
   "execution_count": 9,
   "metadata": {},
   "outputs": [],
   "source": [
    "copy2 = copy2.rename(columns = {0 : 'présence'})"
   ]
  },
  {
   "cell_type": "code",
   "execution_count": 10,
   "metadata": {
    "scrolled": true
   },
   "outputs": [
    {
     "data": {
      "text/html": [
       "<div>\n",
       "<style scoped>\n",
       "    .dataframe tbody tr th:only-of-type {\n",
       "        vertical-align: middle;\n",
       "    }\n",
       "\n",
       "    .dataframe tbody tr th {\n",
       "        vertical-align: top;\n",
       "    }\n",
       "\n",
       "    .dataframe thead th {\n",
       "        text-align: right;\n",
       "    }\n",
       "</style>\n",
       "<table border=\"1\" class=\"dataframe\">\n",
       "  <thead>\n",
       "    <tr style=\"text-align: right;\">\n",
       "      <th></th>\n",
       "      <th>idScrutin</th>\n",
       "      <th>idVotant</th>\n",
       "      <th>présence</th>\n",
       "    </tr>\n",
       "  </thead>\n",
       "  <tbody>\n",
       "    <tr>\n",
       "      <th>0</th>\n",
       "      <td>0</td>\n",
       "      <td>PA1008</td>\n",
       "      <td>0</td>\n",
       "    </tr>\n",
       "    <tr>\n",
       "      <th>1</th>\n",
       "      <td>0</td>\n",
       "      <td>PA1012</td>\n",
       "      <td>0</td>\n",
       "    </tr>\n",
       "    <tr>\n",
       "      <th>2</th>\n",
       "      <td>0</td>\n",
       "      <td>PA1029</td>\n",
       "      <td>0</td>\n",
       "    </tr>\n",
       "    <tr>\n",
       "      <th>3</th>\n",
       "      <td>0</td>\n",
       "      <td>PA1198</td>\n",
       "      <td>0</td>\n",
       "    </tr>\n",
       "    <tr>\n",
       "      <th>4</th>\n",
       "      <td>0</td>\n",
       "      <td>PA1206</td>\n",
       "      <td>0</td>\n",
       "    </tr>\n",
       "    <tr>\n",
       "      <th>...</th>\n",
       "      <td>...</td>\n",
       "      <td>...</td>\n",
       "      <td>...</td>\n",
       "    </tr>\n",
       "    <tr>\n",
       "      <th>1792270</th>\n",
       "      <td>3116</td>\n",
       "      <td>PA774962</td>\n",
       "      <td>0</td>\n",
       "    </tr>\n",
       "    <tr>\n",
       "      <th>1792271</th>\n",
       "      <td>3116</td>\n",
       "      <td>PA856</td>\n",
       "      <td>0</td>\n",
       "    </tr>\n",
       "    <tr>\n",
       "      <th>1792272</th>\n",
       "      <td>3116</td>\n",
       "      <td>PA923</td>\n",
       "      <td>0</td>\n",
       "    </tr>\n",
       "    <tr>\n",
       "      <th>1792273</th>\n",
       "      <td>3116</td>\n",
       "      <td>PA942</td>\n",
       "      <td>0</td>\n",
       "    </tr>\n",
       "    <tr>\n",
       "      <th>1792274</th>\n",
       "      <td>3116</td>\n",
       "      <td>PA998</td>\n",
       "      <td>0</td>\n",
       "    </tr>\n",
       "  </tbody>\n",
       "</table>\n",
       "<p>1792275 rows × 3 columns</p>\n",
       "</div>"
      ],
      "text/plain": [
       "         idScrutin  idVotant présence\n",
       "0                0    PA1008        0\n",
       "1                0    PA1012        0\n",
       "2                0    PA1029        0\n",
       "3                0    PA1198        0\n",
       "4                0    PA1206        0\n",
       "...            ...       ...      ...\n",
       "1792270       3116  PA774962        0\n",
       "1792271       3116     PA856        0\n",
       "1792272       3116     PA923        0\n",
       "1792273       3116     PA942        0\n",
       "1792274       3116     PA998        0\n",
       "\n",
       "[1792275 rows x 3 columns]"
      ]
     },
     "execution_count": 10,
     "metadata": {},
     "output_type": "execute_result"
    }
   ],
   "source": [
    "copy2 = copy2.sort_values(['idScrutin', 'idVotant'])\n",
    "copy2"
   ]
  },
  {
   "cell_type": "code",
   "execution_count": 11,
   "metadata": {},
   "outputs": [
    {
     "data": {
      "text/html": [
       "<div>\n",
       "<style scoped>\n",
       "    .dataframe tbody tr th:only-of-type {\n",
       "        vertical-align: middle;\n",
       "    }\n",
       "\n",
       "    .dataframe tbody tr th {\n",
       "        vertical-align: top;\n",
       "    }\n",
       "\n",
       "    .dataframe thead th {\n",
       "        text-align: right;\n",
       "    }\n",
       "</style>\n",
       "<table border=\"1\" class=\"dataframe\">\n",
       "  <thead>\n",
       "    <tr style=\"text-align: right;\">\n",
       "      <th></th>\n",
       "      <th>idScrutin</th>\n",
       "      <th>idVotant</th>\n",
       "    </tr>\n",
       "  </thead>\n",
       "  <tbody>\n",
       "    <tr>\n",
       "      <th>54</th>\n",
       "      <td>0</td>\n",
       "      <td>PA1838</td>\n",
       "    </tr>\n",
       "    <tr>\n",
       "      <th>45</th>\n",
       "      <td>0</td>\n",
       "      <td>PA266793</td>\n",
       "    </tr>\n",
       "    <tr>\n",
       "      <th>41</th>\n",
       "      <td>0</td>\n",
       "      <td>PA266797</td>\n",
       "    </tr>\n",
       "    <tr>\n",
       "      <th>52</th>\n",
       "      <td>0</td>\n",
       "      <td>PA267780</td>\n",
       "    </tr>\n",
       "    <tr>\n",
       "      <th>50</th>\n",
       "      <td>0</td>\n",
       "      <td>PA331567</td>\n",
       "    </tr>\n",
       "    <tr>\n",
       "      <th>...</th>\n",
       "      <td>...</td>\n",
       "      <td>...</td>\n",
       "    </tr>\n",
       "    <tr>\n",
       "      <th>290434</th>\n",
       "      <td>3116</td>\n",
       "      <td>PA722202</td>\n",
       "    </tr>\n",
       "    <tr>\n",
       "      <th>290440</th>\n",
       "      <td>3116</td>\n",
       "      <td>PA722292</td>\n",
       "    </tr>\n",
       "    <tr>\n",
       "      <th>290359</th>\n",
       "      <td>3116</td>\n",
       "      <td>PA722336</td>\n",
       "    </tr>\n",
       "    <tr>\n",
       "      <th>290404</th>\n",
       "      <td>3116</td>\n",
       "      <td>PA722398</td>\n",
       "    </tr>\n",
       "    <tr>\n",
       "      <th>290457</th>\n",
       "      <td>3116</td>\n",
       "      <td>PA748954</td>\n",
       "    </tr>\n",
       "  </tbody>\n",
       "</table>\n",
       "<p>290496 rows × 2 columns</p>\n",
       "</div>"
      ],
      "text/plain": [
       "        idScrutin  idVotant\n",
       "54              0    PA1838\n",
       "45              0  PA266793\n",
       "41              0  PA266797\n",
       "52              0  PA267780\n",
       "50              0  PA331567\n",
       "...           ...       ...\n",
       "290434       3116  PA722202\n",
       "290440       3116  PA722292\n",
       "290359       3116  PA722336\n",
       "290404       3116  PA722398\n",
       "290457       3116  PA748954\n",
       "\n",
       "[290496 rows x 2 columns]"
      ]
     },
     "execution_count": 11,
     "metadata": {},
     "output_type": "execute_result"
    }
   ],
   "source": [
    "df_votes.sort_values(['idScrutin', 'idVotant'])"
   ]
  },
  {
   "cell_type": "code",
   "execution_count": 12,
   "metadata": {},
   "outputs": [],
   "source": [
    "bjr = copy2.merge(df_votes, on = ['idScrutin', 'idVotant'], how = 'outer')"
   ]
  },
  {
   "cell_type": "code",
   "execution_count": 13,
   "metadata": {
    "scrolled": true
   },
   "outputs": [
    {
     "data": {
      "text/html": [
       "<div>\n",
       "<style scoped>\n",
       "    .dataframe tbody tr th:only-of-type {\n",
       "        vertical-align: middle;\n",
       "    }\n",
       "\n",
       "    .dataframe tbody tr th {\n",
       "        vertical-align: top;\n",
       "    }\n",
       "\n",
       "    .dataframe thead th {\n",
       "        text-align: right;\n",
       "    }\n",
       "</style>\n",
       "<table border=\"1\" class=\"dataframe\">\n",
       "  <thead>\n",
       "    <tr style=\"text-align: right;\">\n",
       "      <th></th>\n",
       "      <th>idScrutin</th>\n",
       "      <th>idVotant</th>\n",
       "      <th>présence</th>\n",
       "    </tr>\n",
       "  </thead>\n",
       "  <tbody>\n",
       "    <tr>\n",
       "      <th>0</th>\n",
       "      <td>0</td>\n",
       "      <td>PA1008</td>\n",
       "      <td>0</td>\n",
       "    </tr>\n",
       "    <tr>\n",
       "      <th>1</th>\n",
       "      <td>0</td>\n",
       "      <td>PA1012</td>\n",
       "      <td>0</td>\n",
       "    </tr>\n",
       "    <tr>\n",
       "      <th>2</th>\n",
       "      <td>0</td>\n",
       "      <td>PA1029</td>\n",
       "      <td>0</td>\n",
       "    </tr>\n",
       "    <tr>\n",
       "      <th>3</th>\n",
       "      <td>0</td>\n",
       "      <td>PA1198</td>\n",
       "      <td>0</td>\n",
       "    </tr>\n",
       "    <tr>\n",
       "      <th>4</th>\n",
       "      <td>0</td>\n",
       "      <td>PA1206</td>\n",
       "      <td>0</td>\n",
       "    </tr>\n",
       "    <tr>\n",
       "      <th>...</th>\n",
       "      <td>...</td>\n",
       "      <td>...</td>\n",
       "      <td>...</td>\n",
       "    </tr>\n",
       "    <tr>\n",
       "      <th>1792270</th>\n",
       "      <td>3116</td>\n",
       "      <td>PA774962</td>\n",
       "      <td>0</td>\n",
       "    </tr>\n",
       "    <tr>\n",
       "      <th>1792271</th>\n",
       "      <td>3116</td>\n",
       "      <td>PA856</td>\n",
       "      <td>0</td>\n",
       "    </tr>\n",
       "    <tr>\n",
       "      <th>1792272</th>\n",
       "      <td>3116</td>\n",
       "      <td>PA923</td>\n",
       "      <td>0</td>\n",
       "    </tr>\n",
       "    <tr>\n",
       "      <th>1792273</th>\n",
       "      <td>3116</td>\n",
       "      <td>PA942</td>\n",
       "      <td>0</td>\n",
       "    </tr>\n",
       "    <tr>\n",
       "      <th>1792274</th>\n",
       "      <td>3116</td>\n",
       "      <td>PA998</td>\n",
       "      <td>0</td>\n",
       "    </tr>\n",
       "  </tbody>\n",
       "</table>\n",
       "<p>1792275 rows × 3 columns</p>\n",
       "</div>"
      ],
      "text/plain": [
       "         idScrutin  idVotant présence\n",
       "0                0    PA1008        0\n",
       "1                0    PA1012        0\n",
       "2                0    PA1029        0\n",
       "3                0    PA1198        0\n",
       "4                0    PA1206        0\n",
       "...            ...       ...      ...\n",
       "1792270       3116  PA774962        0\n",
       "1792271       3116     PA856        0\n",
       "1792272       3116     PA923        0\n",
       "1792273       3116     PA942        0\n",
       "1792274       3116     PA998        0\n",
       "\n",
       "[1792275 rows x 3 columns]"
      ]
     },
     "execution_count": 13,
     "metadata": {},
     "output_type": "execute_result"
    }
   ],
   "source": [
    "bjr"
   ]
  },
  {
   "cell_type": "code",
   "execution_count": null,
   "metadata": {},
   "outputs": [],
   "source": []
  },
  {
   "cell_type": "code",
   "execution_count": 14,
   "metadata": {},
   "outputs": [],
   "source": [
    "df_votes2 = df_votes2[['idVotant', 'Groupe politique (complet)']]"
   ]
  },
  {
   "cell_type": "code",
   "execution_count": null,
   "metadata": {},
   "outputs": [],
   "source": [
    "bjr2 = df_votes2.merge(bjr, on = ['idVotant'], how = 'outer')"
   ]
  },
  {
   "cell_type": "code",
   "execution_count": null,
   "metadata": {},
   "outputs": [],
   "source": [
    "bjr2"
   ]
  },
  {
   "cell_type": "code",
   "execution_count": null,
   "metadata": {},
   "outputs": [],
   "source": []
  }
 ],
 "metadata": {
  "kernelspec": {
   "display_name": "Python 3",
   "language": "python",
   "name": "python3"
  },
  "language_info": {
   "codemirror_mode": {
    "name": "ipython",
    "version": 3
   },
   "file_extension": ".py",
   "mimetype": "text/x-python",
   "name": "python",
   "nbconvert_exporter": "python",
   "pygments_lexer": "ipython3",
   "version": "3.8.5"
  }
 },
 "nbformat": 4,
 "nbformat_minor": 4
}
