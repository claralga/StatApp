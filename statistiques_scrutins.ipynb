{
 "cells": [
  {
   "cell_type": "code",
   "execution_count": 1,
   "metadata": {},
   "outputs": [],
   "source": [
    "import pandas as pd\n",
    "import numpy as np\n",
    "import matplotlib.pyplot as plt\n",
    "import seaborn as sns"
   ]
  },
  {
   "cell_type": "code",
   "execution_count": 3,
   "metadata": {},
   "outputs": [],
   "source": [
    "df = pd.read_csv(\"database_votes.csv\")"
   ]
  },
  {
   "cell_type": "code",
   "execution_count": 4,
   "metadata": {
    "scrolled": true
   },
   "outputs": [
    {
     "data": {
      "text/plain": [
       "Index(['Unnamed: 0', 'idScrutin', 'idVotant', 'vote', 'organeRefGroupe',\n",
       "       'date_scrutin', 'code_type_vote', 'titre', 'demandeur', 'organe_ref',\n",
       "       'votants', 'pour', 'contre', 'non_votants', 'non_votants_volontaires',\n",
       "       'abstention', 'resultat'],\n",
       "      dtype='object')"
      ]
     },
     "execution_count": 4,
     "metadata": {},
     "output_type": "execute_result"
    }
   ],
   "source": [
    "df.columns"
   ]
  },
  {
   "cell_type": "code",
   "execution_count": 5,
   "metadata": {
    "scrolled": true
   },
   "outputs": [
    {
     "data": {
      "text/html": [
       "<div>\n",
       "<style scoped>\n",
       "    .dataframe tbody tr th:only-of-type {\n",
       "        vertical-align: middle;\n",
       "    }\n",
       "\n",
       "    .dataframe tbody tr th {\n",
       "        vertical-align: top;\n",
       "    }\n",
       "\n",
       "    .dataframe thead th {\n",
       "        text-align: right;\n",
       "    }\n",
       "</style>\n",
       "<table border=\"1\" class=\"dataframe\">\n",
       "  <thead>\n",
       "    <tr style=\"text-align: right;\">\n",
       "      <th></th>\n",
       "      <th>Unnamed: 0</th>\n",
       "      <th>idScrutin</th>\n",
       "      <th>idVotant</th>\n",
       "      <th>vote</th>\n",
       "      <th>organeRefGroupe</th>\n",
       "      <th>date_scrutin</th>\n",
       "      <th>code_type_vote</th>\n",
       "      <th>titre</th>\n",
       "      <th>demandeur</th>\n",
       "      <th>organe_ref</th>\n",
       "      <th>votants</th>\n",
       "      <th>pour</th>\n",
       "      <th>contre</th>\n",
       "      <th>non_votants</th>\n",
       "      <th>non_votants_volontaires</th>\n",
       "      <th>abstention</th>\n",
       "      <th>resultat</th>\n",
       "    </tr>\n",
       "  </thead>\n",
       "  <tbody>\n",
       "    <tr>\n",
       "      <th>0</th>\n",
       "      <td>0</td>\n",
       "      <td>0</td>\n",
       "      <td>PA606171</td>\n",
       "      <td>Non-votant</td>\n",
       "      <td>PO730964</td>\n",
       "      <td>2020-10-07</td>\n",
       "      <td>SPO</td>\n",
       "      <td>l'article 24 bis du projet de loi portant dive...</td>\n",
       "      <td>Président du groupe \"La République en Marche\"</td>\n",
       "      <td>PO717460</td>\n",
       "      <td>57</td>\n",
       "      <td>56</td>\n",
       "      <td>0</td>\n",
       "      <td>2</td>\n",
       "      <td>0</td>\n",
       "      <td>1</td>\n",
       "      <td>adopté</td>\n",
       "    </tr>\n",
       "    <tr>\n",
       "      <th>1</th>\n",
       "      <td>1</td>\n",
       "      <td>0</td>\n",
       "      <td>PA721824</td>\n",
       "      <td>Non-votant</td>\n",
       "      <td>PO730964</td>\n",
       "      <td>2020-10-07</td>\n",
       "      <td>SPO</td>\n",
       "      <td>l'article 24 bis du projet de loi portant dive...</td>\n",
       "      <td>Président du groupe \"La République en Marche\"</td>\n",
       "      <td>PO717460</td>\n",
       "      <td>57</td>\n",
       "      <td>56</td>\n",
       "      <td>0</td>\n",
       "      <td>2</td>\n",
       "      <td>0</td>\n",
       "      <td>1</td>\n",
       "      <td>adopté</td>\n",
       "    </tr>\n",
       "    <tr>\n",
       "      <th>2</th>\n",
       "      <td>2</td>\n",
       "      <td>0</td>\n",
       "      <td>PA719952</td>\n",
       "      <td>Pour</td>\n",
       "      <td>PO730964</td>\n",
       "      <td>2020-10-07</td>\n",
       "      <td>SPO</td>\n",
       "      <td>l'article 24 bis du projet de loi portant dive...</td>\n",
       "      <td>Président du groupe \"La République en Marche\"</td>\n",
       "      <td>PO717460</td>\n",
       "      <td>57</td>\n",
       "      <td>56</td>\n",
       "      <td>0</td>\n",
       "      <td>2</td>\n",
       "      <td>0</td>\n",
       "      <td>1</td>\n",
       "      <td>adopté</td>\n",
       "    </tr>\n",
       "    <tr>\n",
       "      <th>3</th>\n",
       "      <td>3</td>\n",
       "      <td>0</td>\n",
       "      <td>PA607395</td>\n",
       "      <td>Pour</td>\n",
       "      <td>PO730964</td>\n",
       "      <td>2020-10-07</td>\n",
       "      <td>SPO</td>\n",
       "      <td>l'article 24 bis du projet de loi portant dive...</td>\n",
       "      <td>Président du groupe \"La République en Marche\"</td>\n",
       "      <td>PO717460</td>\n",
       "      <td>57</td>\n",
       "      <td>56</td>\n",
       "      <td>0</td>\n",
       "      <td>2</td>\n",
       "      <td>0</td>\n",
       "      <td>1</td>\n",
       "      <td>adopté</td>\n",
       "    </tr>\n",
       "    <tr>\n",
       "      <th>4</th>\n",
       "      <td>4</td>\n",
       "      <td>0</td>\n",
       "      <td>PA718710</td>\n",
       "      <td>Pour</td>\n",
       "      <td>PO730964</td>\n",
       "      <td>2020-10-07</td>\n",
       "      <td>SPO</td>\n",
       "      <td>l'article 24 bis du projet de loi portant dive...</td>\n",
       "      <td>Président du groupe \"La République en Marche\"</td>\n",
       "      <td>PO717460</td>\n",
       "      <td>57</td>\n",
       "      <td>56</td>\n",
       "      <td>0</td>\n",
       "      <td>2</td>\n",
       "      <td>0</td>\n",
       "      <td>1</td>\n",
       "      <td>adopté</td>\n",
       "    </tr>\n",
       "    <tr>\n",
       "      <th>...</th>\n",
       "      <td>...</td>\n",
       "      <td>...</td>\n",
       "      <td>...</td>\n",
       "      <td>...</td>\n",
       "      <td>...</td>\n",
       "      <td>...</td>\n",
       "      <td>...</td>\n",
       "      <td>...</td>\n",
       "      <td>...</td>\n",
       "      <td>...</td>\n",
       "      <td>...</td>\n",
       "      <td>...</td>\n",
       "      <td>...</td>\n",
       "      <td>...</td>\n",
       "      <td>...</td>\n",
       "      <td>...</td>\n",
       "      <td>...</td>\n",
       "    </tr>\n",
       "    <tr>\n",
       "      <th>395</th>\n",
       "      <td>395</td>\n",
       "      <td>6</td>\n",
       "      <td>PA719230</td>\n",
       "      <td>Contre</td>\n",
       "      <td>PO730964</td>\n",
       "      <td>2020-07-30</td>\n",
       "      <td>SPO</td>\n",
       "      <td>l'amendement n° 930 de Mme Obono à l'article 4...</td>\n",
       "      <td>Président du groupe \"La France insoumise\"</td>\n",
       "      <td>PO717460</td>\n",
       "      <td>85</td>\n",
       "      <td>8</td>\n",
       "      <td>75</td>\n",
       "      <td>2</td>\n",
       "      <td>0</td>\n",
       "      <td>2</td>\n",
       "      <td>rejeté</td>\n",
       "    </tr>\n",
       "    <tr>\n",
       "      <th>396</th>\n",
       "      <td>396</td>\n",
       "      <td>6</td>\n",
       "      <td>PA719338</td>\n",
       "      <td>Contre</td>\n",
       "      <td>PO730964</td>\n",
       "      <td>2020-07-30</td>\n",
       "      <td>SPO</td>\n",
       "      <td>l'amendement n° 930 de Mme Obono à l'article 4...</td>\n",
       "      <td>Président du groupe \"La France insoumise\"</td>\n",
       "      <td>PO717460</td>\n",
       "      <td>85</td>\n",
       "      <td>8</td>\n",
       "      <td>75</td>\n",
       "      <td>2</td>\n",
       "      <td>0</td>\n",
       "      <td>2</td>\n",
       "      <td>rejeté</td>\n",
       "    </tr>\n",
       "    <tr>\n",
       "      <th>397</th>\n",
       "      <td>397</td>\n",
       "      <td>6</td>\n",
       "      <td>PA719350</td>\n",
       "      <td>Contre</td>\n",
       "      <td>PO730964</td>\n",
       "      <td>2020-07-30</td>\n",
       "      <td>SPO</td>\n",
       "      <td>l'amendement n° 930 de Mme Obono à l'article 4...</td>\n",
       "      <td>Président du groupe \"La France insoumise\"</td>\n",
       "      <td>PO717460</td>\n",
       "      <td>85</td>\n",
       "      <td>8</td>\n",
       "      <td>75</td>\n",
       "      <td>2</td>\n",
       "      <td>0</td>\n",
       "      <td>2</td>\n",
       "      <td>rejeté</td>\n",
       "    </tr>\n",
       "    <tr>\n",
       "      <th>398</th>\n",
       "      <td>398</td>\n",
       "      <td>6</td>\n",
       "      <td>PA719364</td>\n",
       "      <td>Contre</td>\n",
       "      <td>PO730964</td>\n",
       "      <td>2020-07-30</td>\n",
       "      <td>SPO</td>\n",
       "      <td>l'amendement n° 930 de Mme Obono à l'article 4...</td>\n",
       "      <td>Président du groupe \"La France insoumise\"</td>\n",
       "      <td>PO717460</td>\n",
       "      <td>85</td>\n",
       "      <td>8</td>\n",
       "      <td>75</td>\n",
       "      <td>2</td>\n",
       "      <td>0</td>\n",
       "      <td>2</td>\n",
       "      <td>rejeté</td>\n",
       "    </tr>\n",
       "    <tr>\n",
       "      <th>399</th>\n",
       "      <td>399</td>\n",
       "      <td>6</td>\n",
       "      <td>PA719372</td>\n",
       "      <td>Contre</td>\n",
       "      <td>PO730964</td>\n",
       "      <td>2020-07-30</td>\n",
       "      <td>SPO</td>\n",
       "      <td>l'amendement n° 930 de Mme Obono à l'article 4...</td>\n",
       "      <td>Président du groupe \"La France insoumise\"</td>\n",
       "      <td>PO717460</td>\n",
       "      <td>85</td>\n",
       "      <td>8</td>\n",
       "      <td>75</td>\n",
       "      <td>2</td>\n",
       "      <td>0</td>\n",
       "      <td>2</td>\n",
       "      <td>rejeté</td>\n",
       "    </tr>\n",
       "  </tbody>\n",
       "</table>\n",
       "<p>400 rows × 17 columns</p>\n",
       "</div>"
      ],
      "text/plain": [
       "     Unnamed: 0  idScrutin  idVotant        vote organeRefGroupe date_scrutin  \\\n",
       "0             0          0  PA606171  Non-votant        PO730964   2020-10-07   \n",
       "1             1          0  PA721824  Non-votant        PO730964   2020-10-07   \n",
       "2             2          0  PA719952        Pour        PO730964   2020-10-07   \n",
       "3             3          0  PA607395        Pour        PO730964   2020-10-07   \n",
       "4             4          0  PA718710        Pour        PO730964   2020-10-07   \n",
       "..          ...        ...       ...         ...             ...          ...   \n",
       "395         395          6  PA719230      Contre        PO730964   2020-07-30   \n",
       "396         396          6  PA719338      Contre        PO730964   2020-07-30   \n",
       "397         397          6  PA719350      Contre        PO730964   2020-07-30   \n",
       "398         398          6  PA719364      Contre        PO730964   2020-07-30   \n",
       "399         399          6  PA719372      Contre        PO730964   2020-07-30   \n",
       "\n",
       "    code_type_vote                                              titre  \\\n",
       "0              SPO  l'article 24 bis du projet de loi portant dive...   \n",
       "1              SPO  l'article 24 bis du projet de loi portant dive...   \n",
       "2              SPO  l'article 24 bis du projet de loi portant dive...   \n",
       "3              SPO  l'article 24 bis du projet de loi portant dive...   \n",
       "4              SPO  l'article 24 bis du projet de loi portant dive...   \n",
       "..             ...                                                ...   \n",
       "395            SPO  l'amendement n° 930 de Mme Obono à l'article 4...   \n",
       "396            SPO  l'amendement n° 930 de Mme Obono à l'article 4...   \n",
       "397            SPO  l'amendement n° 930 de Mme Obono à l'article 4...   \n",
       "398            SPO  l'amendement n° 930 de Mme Obono à l'article 4...   \n",
       "399            SPO  l'amendement n° 930 de Mme Obono à l'article 4...   \n",
       "\n",
       "                                         demandeur organe_ref  votants  pour  \\\n",
       "0    Président du groupe \"La République en Marche\"   PO717460       57    56   \n",
       "1    Président du groupe \"La République en Marche\"   PO717460       57    56   \n",
       "2    Président du groupe \"La République en Marche\"   PO717460       57    56   \n",
       "3    Président du groupe \"La République en Marche\"   PO717460       57    56   \n",
       "4    Président du groupe \"La République en Marche\"   PO717460       57    56   \n",
       "..                                             ...        ...      ...   ...   \n",
       "395      Président du groupe \"La France insoumise\"   PO717460       85     8   \n",
       "396      Président du groupe \"La France insoumise\"   PO717460       85     8   \n",
       "397      Président du groupe \"La France insoumise\"   PO717460       85     8   \n",
       "398      Président du groupe \"La France insoumise\"   PO717460       85     8   \n",
       "399      Président du groupe \"La France insoumise\"   PO717460       85     8   \n",
       "\n",
       "     contre  non_votants  non_votants_volontaires  abstention resultat  \n",
       "0         0            2                        0           1   adopté  \n",
       "1         0            2                        0           1   adopté  \n",
       "2         0            2                        0           1   adopté  \n",
       "3         0            2                        0           1   adopté  \n",
       "4         0            2                        0           1   adopté  \n",
       "..      ...          ...                      ...         ...      ...  \n",
       "395      75            2                        0           2   rejeté  \n",
       "396      75            2                        0           2   rejeté  \n",
       "397      75            2                        0           2   rejeté  \n",
       "398      75            2                        0           2   rejeté  \n",
       "399      75            2                        0           2   rejeté  \n",
       "\n",
       "[400 rows x 17 columns]"
      ]
     },
     "execution_count": 5,
     "metadata": {},
     "output_type": "execute_result"
    }
   ],
   "source": [
    "df.head(400)"
   ]
  },
  {
   "cell_type": "code",
   "execution_count": 6,
   "metadata": {
    "scrolled": true
   },
   "outputs": [
    {
     "data": {
      "text/plain": [
       "Unnamed: 0                 30.022562\n",
       "idScrutin                  30.022562\n",
       "idVotant                   30.022756\n",
       "vote                       30.022756\n",
       "organeRefGroupe            30.022756\n",
       "date_scrutin               30.022562\n",
       "code_type_vote             30.022562\n",
       "titre                      30.022562\n",
       "demandeur                  30.079033\n",
       "organe_ref                 30.022562\n",
       "votants                    30.022562\n",
       "pour                       30.022562\n",
       "contre                     30.022562\n",
       "non_votants                30.022562\n",
       "non_votants_volontaires    30.022562\n",
       "abstention                 30.022562\n",
       "resultat                   30.022562\n",
       "dtype: float64"
      ]
     },
     "execution_count": 6,
     "metadata": {},
     "output_type": "execute_result"
    }
   ],
   "source": [
    "#30% scrutin soumis au vote ont été adoptés \n",
    "df[df['resultat'].isin(['adopté'])].count()*100/df.count()"
   ]
  },
  {
   "cell_type": "code",
   "execution_count": 7,
   "metadata": {
    "scrolled": true
   },
   "outputs": [
    {
     "data": {
      "text/html": [
       "<div>\n",
       "<style scoped>\n",
       "    .dataframe tbody tr th:only-of-type {\n",
       "        vertical-align: middle;\n",
       "    }\n",
       "\n",
       "    .dataframe tbody tr th {\n",
       "        vertical-align: top;\n",
       "    }\n",
       "\n",
       "    .dataframe thead th {\n",
       "        text-align: right;\n",
       "    }\n",
       "</style>\n",
       "<table border=\"1\" class=\"dataframe\">\n",
       "  <thead>\n",
       "    <tr style=\"text-align: right;\">\n",
       "      <th></th>\n",
       "      <th>Unnamed: 0</th>\n",
       "      <th>votants</th>\n",
       "      <th>pour</th>\n",
       "      <th>contre</th>\n",
       "      <th>non_votants</th>\n",
       "      <th>non_votants_volontaires</th>\n",
       "      <th>abstention</th>\n",
       "    </tr>\n",
       "    <tr>\n",
       "      <th>idScrutin</th>\n",
       "      <th></th>\n",
       "      <th></th>\n",
       "      <th></th>\n",
       "      <th></th>\n",
       "      <th></th>\n",
       "      <th></th>\n",
       "      <th></th>\n",
       "    </tr>\n",
       "  </thead>\n",
       "  <tbody>\n",
       "    <tr>\n",
       "      <th>0</th>\n",
       "      <td>1653</td>\n",
       "      <td>3306</td>\n",
       "      <td>3248</td>\n",
       "      <td>0</td>\n",
       "      <td>116</td>\n",
       "      <td>0</td>\n",
       "      <td>58</td>\n",
       "    </tr>\n",
       "    <tr>\n",
       "      <th>1</th>\n",
       "      <td>2812</td>\n",
       "      <td>1295</td>\n",
       "      <td>333</td>\n",
       "      <td>962</td>\n",
       "      <td>74</td>\n",
       "      <td>0</td>\n",
       "      <td>0</td>\n",
       "    </tr>\n",
       "    <tr>\n",
       "      <th>2</th>\n",
       "      <td>13301</td>\n",
       "      <td>8742</td>\n",
       "      <td>3102</td>\n",
       "      <td>5546</td>\n",
       "      <td>188</td>\n",
       "      <td>0</td>\n",
       "      <td>94</td>\n",
       "    </tr>\n",
       "    <tr>\n",
       "      <th>3</th>\n",
       "      <td>26190</td>\n",
       "      <td>11556</td>\n",
       "      <td>2052</td>\n",
       "      <td>9396</td>\n",
       "      <td>216</td>\n",
       "      <td>0</td>\n",
       "      <td>108</td>\n",
       "    </tr>\n",
       "    <tr>\n",
       "      <th>4</th>\n",
       "      <td>13674</td>\n",
       "      <td>1763</td>\n",
       "      <td>215</td>\n",
       "      <td>1548</td>\n",
       "      <td>86</td>\n",
       "      <td>0</td>\n",
       "      <td>0</td>\n",
       "    </tr>\n",
       "    <tr>\n",
       "      <th>...</th>\n",
       "      <td>...</td>\n",
       "      <td>...</td>\n",
       "      <td>...</td>\n",
       "      <td>...</td>\n",
       "      <td>...</td>\n",
       "      <td>...</td>\n",
       "      <td>...</td>\n",
       "    </tr>\n",
       "    <tr>\n",
       "      <th>3114</th>\n",
       "      <td>21297609</td>\n",
       "      <td>8901</td>\n",
       "      <td>1173</td>\n",
       "      <td>7590</td>\n",
       "      <td>138</td>\n",
       "      <td>0</td>\n",
       "      <td>138</td>\n",
       "    </tr>\n",
       "    <tr>\n",
       "      <th>3115</th>\n",
       "      <td>22846205</td>\n",
       "      <td>2738</td>\n",
       "      <td>2368</td>\n",
       "      <td>296</td>\n",
       "      <td>148</td>\n",
       "      <td>0</td>\n",
       "      <td>74</td>\n",
       "    </tr>\n",
       "    <tr>\n",
       "      <th>3116</th>\n",
       "      <td>49106991</td>\n",
       "      <td>11607</td>\n",
       "      <td>4134</td>\n",
       "      <td>6519</td>\n",
       "      <td>318</td>\n",
       "      <td>0</td>\n",
       "      <td>954</td>\n",
       "    </tr>\n",
       "    <tr>\n",
       "      <th>3117</th>\n",
       "      <td>308929</td>\n",
       "      <td>74</td>\n",
       "      <td>17</td>\n",
       "      <td>55</td>\n",
       "      <td>2</td>\n",
       "      <td>0</td>\n",
       "      <td>2</td>\n",
       "    </tr>\n",
       "    <tr>\n",
       "      <th>3118</th>\n",
       "      <td>308930</td>\n",
       "      <td>158</td>\n",
       "      <td>64</td>\n",
       "      <td>93</td>\n",
       "      <td>2</td>\n",
       "      <td>0</td>\n",
       "      <td>1</td>\n",
       "    </tr>\n",
       "  </tbody>\n",
       "</table>\n",
       "<p>3119 rows × 7 columns</p>\n",
       "</div>"
      ],
      "text/plain": [
       "           Unnamed: 0  votants  pour  contre  non_votants  \\\n",
       "idScrutin                                                   \n",
       "0                1653     3306  3248       0          116   \n",
       "1                2812     1295   333     962           74   \n",
       "2               13301     8742  3102    5546          188   \n",
       "3               26190    11556  2052    9396          216   \n",
       "4               13674     1763   215    1548           86   \n",
       "...               ...      ...   ...     ...          ...   \n",
       "3114         21297609     8901  1173    7590          138   \n",
       "3115         22846205     2738  2368     296          148   \n",
       "3116         49106991    11607  4134    6519          318   \n",
       "3117           308929       74    17      55            2   \n",
       "3118           308930      158    64      93            2   \n",
       "\n",
       "           non_votants_volontaires  abstention  \n",
       "idScrutin                                       \n",
       "0                                0          58  \n",
       "1                                0           0  \n",
       "2                                0          94  \n",
       "3                                0         108  \n",
       "4                                0           0  \n",
       "...                            ...         ...  \n",
       "3114                             0         138  \n",
       "3115                             0          74  \n",
       "3116                             0         954  \n",
       "3117                             0           2  \n",
       "3118                             0           1  \n",
       "\n",
       "[3119 rows x 7 columns]"
      ]
     },
     "execution_count": 7,
     "metadata": {},
     "output_type": "execute_result"
    }
   ],
   "source": [
    "#on regarde les stats pour chaque scrutin\n",
    "df.groupby('idScrutin').sum()"
   ]
  },
  {
   "cell_type": "code",
   "execution_count": 8,
   "metadata": {},
   "outputs": [
    {
     "data": {
      "text/html": [
       "<div>\n",
       "<style scoped>\n",
       "    .dataframe tbody tr th:only-of-type {\n",
       "        vertical-align: middle;\n",
       "    }\n",
       "\n",
       "    .dataframe tbody tr th {\n",
       "        vertical-align: top;\n",
       "    }\n",
       "\n",
       "    .dataframe thead th {\n",
       "        text-align: right;\n",
       "    }\n",
       "</style>\n",
       "<table border=\"1\" class=\"dataframe\">\n",
       "  <thead>\n",
       "    <tr style=\"text-align: right;\">\n",
       "      <th></th>\n",
       "      <th>Unnamed: 0</th>\n",
       "      <th>idVotant</th>\n",
       "      <th>vote</th>\n",
       "      <th>organeRefGroupe</th>\n",
       "      <th>date_scrutin</th>\n",
       "      <th>code_type_vote</th>\n",
       "      <th>titre</th>\n",
       "      <th>demandeur</th>\n",
       "      <th>organe_ref</th>\n",
       "      <th>votants</th>\n",
       "      <th>pour</th>\n",
       "      <th>contre</th>\n",
       "      <th>non_votants</th>\n",
       "      <th>non_votants_volontaires</th>\n",
       "      <th>abstention</th>\n",
       "      <th>resultat</th>\n",
       "    </tr>\n",
       "    <tr>\n",
       "      <th>idScrutin</th>\n",
       "      <th></th>\n",
       "      <th></th>\n",
       "      <th></th>\n",
       "      <th></th>\n",
       "      <th></th>\n",
       "      <th></th>\n",
       "      <th></th>\n",
       "      <th></th>\n",
       "      <th></th>\n",
       "      <th></th>\n",
       "      <th></th>\n",
       "      <th></th>\n",
       "      <th></th>\n",
       "      <th></th>\n",
       "      <th></th>\n",
       "      <th></th>\n",
       "    </tr>\n",
       "  </thead>\n",
       "  <tbody>\n",
       "    <tr>\n",
       "      <th>0</th>\n",
       "      <td>58</td>\n",
       "      <td>58</td>\n",
       "      <td>58</td>\n",
       "      <td>58</td>\n",
       "      <td>58</td>\n",
       "      <td>58</td>\n",
       "      <td>58</td>\n",
       "      <td>58</td>\n",
       "      <td>58</td>\n",
       "      <td>58</td>\n",
       "      <td>58</td>\n",
       "      <td>58</td>\n",
       "      <td>58</td>\n",
       "      <td>58</td>\n",
       "      <td>58</td>\n",
       "      <td>58</td>\n",
       "    </tr>\n",
       "    <tr>\n",
       "      <th>1</th>\n",
       "      <td>37</td>\n",
       "      <td>37</td>\n",
       "      <td>37</td>\n",
       "      <td>37</td>\n",
       "      <td>37</td>\n",
       "      <td>37</td>\n",
       "      <td>37</td>\n",
       "      <td>37</td>\n",
       "      <td>37</td>\n",
       "      <td>37</td>\n",
       "      <td>37</td>\n",
       "      <td>37</td>\n",
       "      <td>37</td>\n",
       "      <td>37</td>\n",
       "      <td>37</td>\n",
       "      <td>37</td>\n",
       "    </tr>\n",
       "    <tr>\n",
       "      <th>2</th>\n",
       "      <td>94</td>\n",
       "      <td>94</td>\n",
       "      <td>94</td>\n",
       "      <td>94</td>\n",
       "      <td>94</td>\n",
       "      <td>94</td>\n",
       "      <td>94</td>\n",
       "      <td>94</td>\n",
       "      <td>94</td>\n",
       "      <td>94</td>\n",
       "      <td>94</td>\n",
       "      <td>94</td>\n",
       "      <td>94</td>\n",
       "      <td>94</td>\n",
       "      <td>94</td>\n",
       "      <td>94</td>\n",
       "    </tr>\n",
       "    <tr>\n",
       "      <th>3</th>\n",
       "      <td>108</td>\n",
       "      <td>108</td>\n",
       "      <td>108</td>\n",
       "      <td>108</td>\n",
       "      <td>108</td>\n",
       "      <td>108</td>\n",
       "      <td>108</td>\n",
       "      <td>108</td>\n",
       "      <td>108</td>\n",
       "      <td>108</td>\n",
       "      <td>108</td>\n",
       "      <td>108</td>\n",
       "      <td>108</td>\n",
       "      <td>108</td>\n",
       "      <td>108</td>\n",
       "      <td>108</td>\n",
       "    </tr>\n",
       "    <tr>\n",
       "      <th>4</th>\n",
       "      <td>43</td>\n",
       "      <td>43</td>\n",
       "      <td>43</td>\n",
       "      <td>43</td>\n",
       "      <td>43</td>\n",
       "      <td>43</td>\n",
       "      <td>43</td>\n",
       "      <td>43</td>\n",
       "      <td>43</td>\n",
       "      <td>43</td>\n",
       "      <td>43</td>\n",
       "      <td>43</td>\n",
       "      <td>43</td>\n",
       "      <td>43</td>\n",
       "      <td>43</td>\n",
       "      <td>43</td>\n",
       "    </tr>\n",
       "    <tr>\n",
       "      <th>...</th>\n",
       "      <td>...</td>\n",
       "      <td>...</td>\n",
       "      <td>...</td>\n",
       "      <td>...</td>\n",
       "      <td>...</td>\n",
       "      <td>...</td>\n",
       "      <td>...</td>\n",
       "      <td>...</td>\n",
       "      <td>...</td>\n",
       "      <td>...</td>\n",
       "      <td>...</td>\n",
       "      <td>...</td>\n",
       "      <td>...</td>\n",
       "      <td>...</td>\n",
       "      <td>...</td>\n",
       "      <td>...</td>\n",
       "    </tr>\n",
       "    <tr>\n",
       "      <th>3114</th>\n",
       "      <td>69</td>\n",
       "      <td>69</td>\n",
       "      <td>69</td>\n",
       "      <td>69</td>\n",
       "      <td>69</td>\n",
       "      <td>69</td>\n",
       "      <td>69</td>\n",
       "      <td>69</td>\n",
       "      <td>69</td>\n",
       "      <td>69</td>\n",
       "      <td>69</td>\n",
       "      <td>69</td>\n",
       "      <td>69</td>\n",
       "      <td>69</td>\n",
       "      <td>69</td>\n",
       "      <td>69</td>\n",
       "    </tr>\n",
       "    <tr>\n",
       "      <th>3115</th>\n",
       "      <td>74</td>\n",
       "      <td>74</td>\n",
       "      <td>74</td>\n",
       "      <td>74</td>\n",
       "      <td>74</td>\n",
       "      <td>74</td>\n",
       "      <td>74</td>\n",
       "      <td>74</td>\n",
       "      <td>74</td>\n",
       "      <td>74</td>\n",
       "      <td>74</td>\n",
       "      <td>74</td>\n",
       "      <td>74</td>\n",
       "      <td>74</td>\n",
       "      <td>74</td>\n",
       "      <td>74</td>\n",
       "    </tr>\n",
       "    <tr>\n",
       "      <th>3116</th>\n",
       "      <td>159</td>\n",
       "      <td>159</td>\n",
       "      <td>159</td>\n",
       "      <td>159</td>\n",
       "      <td>159</td>\n",
       "      <td>159</td>\n",
       "      <td>159</td>\n",
       "      <td>159</td>\n",
       "      <td>159</td>\n",
       "      <td>159</td>\n",
       "      <td>159</td>\n",
       "      <td>159</td>\n",
       "      <td>159</td>\n",
       "      <td>159</td>\n",
       "      <td>159</td>\n",
       "      <td>159</td>\n",
       "    </tr>\n",
       "    <tr>\n",
       "      <th>3117</th>\n",
       "      <td>1</td>\n",
       "      <td>0</td>\n",
       "      <td>0</td>\n",
       "      <td>0</td>\n",
       "      <td>1</td>\n",
       "      <td>1</td>\n",
       "      <td>1</td>\n",
       "      <td>1</td>\n",
       "      <td>1</td>\n",
       "      <td>1</td>\n",
       "      <td>1</td>\n",
       "      <td>1</td>\n",
       "      <td>1</td>\n",
       "      <td>1</td>\n",
       "      <td>1</td>\n",
       "      <td>1</td>\n",
       "    </tr>\n",
       "    <tr>\n",
       "      <th>3118</th>\n",
       "      <td>1</td>\n",
       "      <td>0</td>\n",
       "      <td>0</td>\n",
       "      <td>0</td>\n",
       "      <td>1</td>\n",
       "      <td>1</td>\n",
       "      <td>1</td>\n",
       "      <td>1</td>\n",
       "      <td>1</td>\n",
       "      <td>1</td>\n",
       "      <td>1</td>\n",
       "      <td>1</td>\n",
       "      <td>1</td>\n",
       "      <td>1</td>\n",
       "      <td>1</td>\n",
       "      <td>1</td>\n",
       "    </tr>\n",
       "  </tbody>\n",
       "</table>\n",
       "<p>3119 rows × 16 columns</p>\n",
       "</div>"
      ],
      "text/plain": [
       "           Unnamed: 0  idVotant  vote  organeRefGroupe  date_scrutin  \\\n",
       "idScrutin                                                              \n",
       "0                  58        58    58               58            58   \n",
       "1                  37        37    37               37            37   \n",
       "2                  94        94    94               94            94   \n",
       "3                 108       108   108              108           108   \n",
       "4                  43        43    43               43            43   \n",
       "...               ...       ...   ...              ...           ...   \n",
       "3114               69        69    69               69            69   \n",
       "3115               74        74    74               74            74   \n",
       "3116              159       159   159              159           159   \n",
       "3117                1         0     0                0             1   \n",
       "3118                1         0     0                0             1   \n",
       "\n",
       "           code_type_vote  titre  demandeur  organe_ref  votants  pour  \\\n",
       "idScrutin                                                                \n",
       "0                      58     58         58          58       58    58   \n",
       "1                      37     37         37          37       37    37   \n",
       "2                      94     94         94          94       94    94   \n",
       "3                     108    108        108         108      108   108   \n",
       "4                      43     43         43          43       43    43   \n",
       "...                   ...    ...        ...         ...      ...   ...   \n",
       "3114                   69     69         69          69       69    69   \n",
       "3115                   74     74         74          74       74    74   \n",
       "3116                  159    159        159         159      159   159   \n",
       "3117                    1      1          1           1        1     1   \n",
       "3118                    1      1          1           1        1     1   \n",
       "\n",
       "           contre  non_votants  non_votants_volontaires  abstention  resultat  \n",
       "idScrutin                                                                      \n",
       "0              58           58                       58          58        58  \n",
       "1              37           37                       37          37        37  \n",
       "2              94           94                       94          94        94  \n",
       "3             108          108                      108         108       108  \n",
       "4              43           43                       43          43        43  \n",
       "...           ...          ...                      ...         ...       ...  \n",
       "3114           69           69                       69          69        69  \n",
       "3115           74           74                       74          74        74  \n",
       "3116          159          159                      159         159       159  \n",
       "3117            1            1                        1           1         1  \n",
       "3118            1            1                        1           1         1  \n",
       "\n",
       "[3119 rows x 16 columns]"
      ]
     },
     "execution_count": 8,
     "metadata": {},
     "output_type": "execute_result"
    }
   ],
   "source": [
    "df.groupby('idScrutin').count()"
   ]
  },
  {
   "cell_type": "code",
   "execution_count": 9,
   "metadata": {},
   "outputs": [
    {
     "data": {
      "text/plain": [
       "5.015389547932029"
      ]
     },
     "execution_count": 9,
     "metadata": {},
     "output_type": "execute_result"
    }
   ],
   "source": [
    "#on regarde l'abstention par scrutin\n",
    "df.groupby('idScrutin')['abstention']\n",
    "#on regarde l'abstention moyenne : \n",
    "#chaque scrutin apparaît plusieurs fois donc on doit diviser par le nombre d'occurence de chaque scrutin\n",
    "(df.groupby('idScrutin').sum()/df.groupby('idScrutin').count())['abstention'].mean()\n",
    "#il y a en moyenne 5 abstention par scrutin"
   ]
  },
  {
   "cell_type": "markdown",
   "metadata": {},
   "source": [
    "Il y a en moyenne 5 abstentions par scrutin"
   ]
  },
  {
   "cell_type": "code",
   "execution_count": 10,
   "metadata": {},
   "outputs": [],
   "source": [
    "#on calcule le ratio absention/vote \n",
    "df['ratioabstention'] = df['abstention']/df['votants']"
   ]
  },
  {
   "cell_type": "code",
   "execution_count": 11,
   "metadata": {
    "scrolled": true
   },
   "outputs": [
    {
     "data": {
      "text/plain": [
       "count    308931.000000\n",
       "mean          0.046250\n",
       "std           0.050127\n",
       "min           0.000000\n",
       "25%           0.009217\n",
       "50%           0.030488\n",
       "75%           0.066667\n",
       "max           0.445783\n",
       "Name: ratioabstention, dtype: float64"
      ]
     },
     "execution_count": 11,
     "metadata": {},
     "output_type": "execute_result"
    }
   ],
   "source": [
    "df['ratioabstention'].describe()"
   ]
  },
  {
   "cell_type": "markdown",
   "metadata": {},
   "source": [
    "moyenne à 4,6% et 3ème quartile à 6,7% => le max est vraiment très max donc apparemment certains scrutins ont eu une très forte absention par rapport aux autres -> on va essayer de regarder ces valeurs extrêmes"
   ]
  },
  {
   "cell_type": "code",
   "execution_count": 12,
   "metadata": {},
   "outputs": [],
   "source": [
    "df.sort_values(by='ratioabstention', ascending = False).head(20)\n",
    "df[df['ratioabstention']>0.20].count()\n",
    "df2 = df[~df['ratioabstention'].isin(['0'])]\n",
    "df2 = df2[df2['ratioabstention']<0.20]"
   ]
  },
  {
   "cell_type": "code",
   "execution_count": 13,
   "metadata": {},
   "outputs": [
    {
     "data": {
      "text/plain": [
       "count    246885.000000\n",
       "mean          0.053187\n",
       "std           0.042531\n",
       "min           0.001742\n",
       "25%           0.020619\n",
       "50%           0.040000\n",
       "75%           0.073684\n",
       "max           0.195652\n",
       "Name: ratioabstention, dtype: float64"
      ]
     },
     "execution_count": 13,
     "metadata": {},
     "output_type": "execute_result"
    }
   ],
   "source": [
    "df2['ratioabstention'].describe()"
   ]
  },
  {
   "cell_type": "markdown",
   "metadata": {},
   "source": [
    "ça lisse la fin de la distribution -> il faudrait voir en quoi les scrutins qu'on a enlevés, cad ceux avec des valeurs très hautes diffèrent, des autres "
   ]
  },
  {
   "cell_type": "code",
   "execution_count": 14,
   "metadata": {},
   "outputs": [
    {
     "data": {
      "text/plain": [
       "340       l'ensemble de la proposition de loi relative à...\n",
       "341       l'ensemble de la proposition de loi relative à...\n",
       "342       l'ensemble de la proposition de loi relative à...\n",
       "343       l'ensemble de la proposition de loi relative à...\n",
       "344       l'ensemble de la proposition de loi relative à...\n",
       "                                ...                        \n",
       "304630    l'amendement n° 423 du Gouvernement et les ame...\n",
       "304631    l'amendement n° 423 du Gouvernement et les ame...\n",
       "304632    l'amendement n° 423 du Gouvernement et les ame...\n",
       "304633    l'amendement n° 423 du Gouvernement et les ame...\n",
       "304634    l'amendement n° 423 du Gouvernement et les ame...\n",
       "Name: titre, Length: 4725, dtype: object"
      ]
     },
     "execution_count": 14,
     "metadata": {},
     "output_type": "execute_result"
    }
   ],
   "source": [
    "df3 = df[df['ratioabstention']>=0.20]\n",
    "df3.count()\n",
    "df3['titre']\n",
    "#c'est pas lisible : il faudrait modifier le nom des lois"
   ]
  },
  {
   "cell_type": "markdown",
   "metadata": {},
   "source": [
    "on pourrait regarder aussi les scrutins où il n'y a pas du tout d'abstention -> est-ce que ça polarise plus les votes ou non ? "
   ]
  },
  {
   "cell_type": "code",
   "execution_count": 15,
   "metadata": {
    "scrolled": true
   },
   "outputs": [
    {
     "data": {
      "text/html": [
       "<div>\n",
       "<style scoped>\n",
       "    .dataframe tbody tr th:only-of-type {\n",
       "        vertical-align: middle;\n",
       "    }\n",
       "\n",
       "    .dataframe tbody tr th {\n",
       "        vertical-align: top;\n",
       "    }\n",
       "\n",
       "    .dataframe thead th {\n",
       "        text-align: right;\n",
       "    }\n",
       "</style>\n",
       "<table border=\"1\" class=\"dataframe\">\n",
       "  <thead>\n",
       "    <tr style=\"text-align: right;\">\n",
       "      <th></th>\n",
       "      <th>Unnamed: 0</th>\n",
       "      <th>idScrutin</th>\n",
       "      <th>idVotant</th>\n",
       "      <th>vote</th>\n",
       "      <th>organeRefGroupe</th>\n",
       "      <th>date_scrutin</th>\n",
       "      <th>code_type_vote</th>\n",
       "      <th>titre</th>\n",
       "      <th>demandeur</th>\n",
       "      <th>organe_ref</th>\n",
       "      <th>votants</th>\n",
       "      <th>pour</th>\n",
       "      <th>contre</th>\n",
       "      <th>non_votants</th>\n",
       "      <th>non_votants_volontaires</th>\n",
       "      <th>abstention</th>\n",
       "      <th>resultat</th>\n",
       "      <th>ratioabstention</th>\n",
       "    </tr>\n",
       "  </thead>\n",
       "  <tbody>\n",
       "    <tr>\n",
       "      <th>58</th>\n",
       "      <td>58</td>\n",
       "      <td>1</td>\n",
       "      <td>PA606171</td>\n",
       "      <td>Pour</td>\n",
       "      <td>PO730964</td>\n",
       "      <td>2019-03-15</td>\n",
       "      <td>SPO</td>\n",
       "      <td>l'amendement n°23 de M. Potier à l'article 62 ...</td>\n",
       "      <td>Présidente du groupe \"Socialistes et apparentés\"</td>\n",
       "      <td>PO717460</td>\n",
       "      <td>35</td>\n",
       "      <td>9</td>\n",
       "      <td>26</td>\n",
       "      <td>2</td>\n",
       "      <td>0</td>\n",
       "      <td>0</td>\n",
       "      <td>rejeté</td>\n",
       "      <td>0.0</td>\n",
       "    </tr>\n",
       "    <tr>\n",
       "      <th>59</th>\n",
       "      <td>59</td>\n",
       "      <td>1</td>\n",
       "      <td>PA721852</td>\n",
       "      <td>Contre</td>\n",
       "      <td>PO730964</td>\n",
       "      <td>2019-03-15</td>\n",
       "      <td>SPO</td>\n",
       "      <td>l'amendement n°23 de M. Potier à l'article 62 ...</td>\n",
       "      <td>Présidente du groupe \"Socialistes et apparentés\"</td>\n",
       "      <td>PO717460</td>\n",
       "      <td>35</td>\n",
       "      <td>9</td>\n",
       "      <td>26</td>\n",
       "      <td>2</td>\n",
       "      <td>0</td>\n",
       "      <td>0</td>\n",
       "      <td>rejeté</td>\n",
       "      <td>0.0</td>\n",
       "    </tr>\n",
       "    <tr>\n",
       "      <th>60</th>\n",
       "      <td>60</td>\n",
       "      <td>1</td>\n",
       "      <td>PA718710</td>\n",
       "      <td>Contre</td>\n",
       "      <td>PO730964</td>\n",
       "      <td>2019-03-15</td>\n",
       "      <td>SPO</td>\n",
       "      <td>l'amendement n°23 de M. Potier à l'article 62 ...</td>\n",
       "      <td>Présidente du groupe \"Socialistes et apparentés\"</td>\n",
       "      <td>PO717460</td>\n",
       "      <td>35</td>\n",
       "      <td>9</td>\n",
       "      <td>26</td>\n",
       "      <td>2</td>\n",
       "      <td>0</td>\n",
       "      <td>0</td>\n",
       "      <td>rejeté</td>\n",
       "      <td>0.0</td>\n",
       "    </tr>\n",
       "    <tr>\n",
       "      <th>61</th>\n",
       "      <td>61</td>\n",
       "      <td>1</td>\n",
       "      <td>PA719024</td>\n",
       "      <td>Contre</td>\n",
       "      <td>PO730964</td>\n",
       "      <td>2019-03-15</td>\n",
       "      <td>SPO</td>\n",
       "      <td>l'amendement n°23 de M. Potier à l'article 62 ...</td>\n",
       "      <td>Présidente du groupe \"Socialistes et apparentés\"</td>\n",
       "      <td>PO717460</td>\n",
       "      <td>35</td>\n",
       "      <td>9</td>\n",
       "      <td>26</td>\n",
       "      <td>2</td>\n",
       "      <td>0</td>\n",
       "      <td>0</td>\n",
       "      <td>rejeté</td>\n",
       "      <td>0.0</td>\n",
       "    </tr>\n",
       "    <tr>\n",
       "      <th>62</th>\n",
       "      <td>62</td>\n",
       "      <td>1</td>\n",
       "      <td>PA719080</td>\n",
       "      <td>Contre</td>\n",
       "      <td>PO730964</td>\n",
       "      <td>2019-03-15</td>\n",
       "      <td>SPO</td>\n",
       "      <td>l'amendement n°23 de M. Potier à l'article 62 ...</td>\n",
       "      <td>Présidente du groupe \"Socialistes et apparentés\"</td>\n",
       "      <td>PO717460</td>\n",
       "      <td>35</td>\n",
       "      <td>9</td>\n",
       "      <td>26</td>\n",
       "      <td>2</td>\n",
       "      <td>0</td>\n",
       "      <td>0</td>\n",
       "      <td>rejeté</td>\n",
       "      <td>0.0</td>\n",
       "    </tr>\n",
       "    <tr>\n",
       "      <th>63</th>\n",
       "      <td>63</td>\n",
       "      <td>1</td>\n",
       "      <td>PA719170</td>\n",
       "      <td>Contre</td>\n",
       "      <td>PO730964</td>\n",
       "      <td>2019-03-15</td>\n",
       "      <td>SPO</td>\n",
       "      <td>l'amendement n°23 de M. Potier à l'article 62 ...</td>\n",
       "      <td>Présidente du groupe \"Socialistes et apparentés\"</td>\n",
       "      <td>PO717460</td>\n",
       "      <td>35</td>\n",
       "      <td>9</td>\n",
       "      <td>26</td>\n",
       "      <td>2</td>\n",
       "      <td>0</td>\n",
       "      <td>0</td>\n",
       "      <td>rejeté</td>\n",
       "      <td>0.0</td>\n",
       "    </tr>\n",
       "    <tr>\n",
       "      <th>64</th>\n",
       "      <td>64</td>\n",
       "      <td>1</td>\n",
       "      <td>PA719372</td>\n",
       "      <td>Contre</td>\n",
       "      <td>PO730964</td>\n",
       "      <td>2019-03-15</td>\n",
       "      <td>SPO</td>\n",
       "      <td>l'amendement n°23 de M. Potier à l'article 62 ...</td>\n",
       "      <td>Présidente du groupe \"Socialistes et apparentés\"</td>\n",
       "      <td>PO717460</td>\n",
       "      <td>35</td>\n",
       "      <td>9</td>\n",
       "      <td>26</td>\n",
       "      <td>2</td>\n",
       "      <td>0</td>\n",
       "      <td>0</td>\n",
       "      <td>rejeté</td>\n",
       "      <td>0.0</td>\n",
       "    </tr>\n",
       "    <tr>\n",
       "      <th>65</th>\n",
       "      <td>65</td>\n",
       "      <td>1</td>\n",
       "      <td>PA719420</td>\n",
       "      <td>Contre</td>\n",
       "      <td>PO730964</td>\n",
       "      <td>2019-03-15</td>\n",
       "      <td>SPO</td>\n",
       "      <td>l'amendement n°23 de M. Potier à l'article 62 ...</td>\n",
       "      <td>Présidente du groupe \"Socialistes et apparentés\"</td>\n",
       "      <td>PO717460</td>\n",
       "      <td>35</td>\n",
       "      <td>9</td>\n",
       "      <td>26</td>\n",
       "      <td>2</td>\n",
       "      <td>0</td>\n",
       "      <td>0</td>\n",
       "      <td>rejeté</td>\n",
       "      <td>0.0</td>\n",
       "    </tr>\n",
       "    <tr>\n",
       "      <th>66</th>\n",
       "      <td>66</td>\n",
       "      <td>1</td>\n",
       "      <td>PA719684</td>\n",
       "      <td>Contre</td>\n",
       "      <td>PO730964</td>\n",
       "      <td>2019-03-15</td>\n",
       "      <td>SPO</td>\n",
       "      <td>l'amendement n°23 de M. Potier à l'article 62 ...</td>\n",
       "      <td>Présidente du groupe \"Socialistes et apparentés\"</td>\n",
       "      <td>PO717460</td>\n",
       "      <td>35</td>\n",
       "      <td>9</td>\n",
       "      <td>26</td>\n",
       "      <td>2</td>\n",
       "      <td>0</td>\n",
       "      <td>0</td>\n",
       "      <td>rejeté</td>\n",
       "      <td>0.0</td>\n",
       "    </tr>\n",
       "    <tr>\n",
       "      <th>67</th>\n",
       "      <td>67</td>\n",
       "      <td>1</td>\n",
       "      <td>PA719850</td>\n",
       "      <td>Contre</td>\n",
       "      <td>PO730964</td>\n",
       "      <td>2019-03-15</td>\n",
       "      <td>SPO</td>\n",
       "      <td>l'amendement n°23 de M. Potier à l'article 62 ...</td>\n",
       "      <td>Présidente du groupe \"Socialistes et apparentés\"</td>\n",
       "      <td>PO717460</td>\n",
       "      <td>35</td>\n",
       "      <td>9</td>\n",
       "      <td>26</td>\n",
       "      <td>2</td>\n",
       "      <td>0</td>\n",
       "      <td>0</td>\n",
       "      <td>rejeté</td>\n",
       "      <td>0.0</td>\n",
       "    </tr>\n",
       "    <tr>\n",
       "      <th>68</th>\n",
       "      <td>68</td>\n",
       "      <td>1</td>\n",
       "      <td>PA720298</td>\n",
       "      <td>Contre</td>\n",
       "      <td>PO730964</td>\n",
       "      <td>2019-03-15</td>\n",
       "      <td>SPO</td>\n",
       "      <td>l'amendement n°23 de M. Potier à l'article 62 ...</td>\n",
       "      <td>Présidente du groupe \"Socialistes et apparentés\"</td>\n",
       "      <td>PO717460</td>\n",
       "      <td>35</td>\n",
       "      <td>9</td>\n",
       "      <td>26</td>\n",
       "      <td>2</td>\n",
       "      <td>0</td>\n",
       "      <td>0</td>\n",
       "      <td>rejeté</td>\n",
       "      <td>0.0</td>\n",
       "    </tr>\n",
       "    <tr>\n",
       "      <th>69</th>\n",
       "      <td>69</td>\n",
       "      <td>1</td>\n",
       "      <td>PA720830</td>\n",
       "      <td>Contre</td>\n",
       "      <td>PO730964</td>\n",
       "      <td>2019-03-15</td>\n",
       "      <td>SPO</td>\n",
       "      <td>l'amendement n°23 de M. Potier à l'article 62 ...</td>\n",
       "      <td>Présidente du groupe \"Socialistes et apparentés\"</td>\n",
       "      <td>PO717460</td>\n",
       "      <td>35</td>\n",
       "      <td>9</td>\n",
       "      <td>26</td>\n",
       "      <td>2</td>\n",
       "      <td>0</td>\n",
       "      <td>0</td>\n",
       "      <td>rejeté</td>\n",
       "      <td>0.0</td>\n",
       "    </tr>\n",
       "    <tr>\n",
       "      <th>70</th>\n",
       "      <td>70</td>\n",
       "      <td>1</td>\n",
       "      <td>PA721134</td>\n",
       "      <td>Contre</td>\n",
       "      <td>PO730964</td>\n",
       "      <td>2019-03-15</td>\n",
       "      <td>SPO</td>\n",
       "      <td>l'amendement n°23 de M. Potier à l'article 62 ...</td>\n",
       "      <td>Présidente du groupe \"Socialistes et apparentés\"</td>\n",
       "      <td>PO717460</td>\n",
       "      <td>35</td>\n",
       "      <td>9</td>\n",
       "      <td>26</td>\n",
       "      <td>2</td>\n",
       "      <td>0</td>\n",
       "      <td>0</td>\n",
       "      <td>rejeté</td>\n",
       "      <td>0.0</td>\n",
       "    </tr>\n",
       "    <tr>\n",
       "      <th>71</th>\n",
       "      <td>71</td>\n",
       "      <td>1</td>\n",
       "      <td>PA721344</td>\n",
       "      <td>Contre</td>\n",
       "      <td>PO730964</td>\n",
       "      <td>2019-03-15</td>\n",
       "      <td>SPO</td>\n",
       "      <td>l'amendement n°23 de M. Potier à l'article 62 ...</td>\n",
       "      <td>Présidente du groupe \"Socialistes et apparentés\"</td>\n",
       "      <td>PO717460</td>\n",
       "      <td>35</td>\n",
       "      <td>9</td>\n",
       "      <td>26</td>\n",
       "      <td>2</td>\n",
       "      <td>0</td>\n",
       "      <td>0</td>\n",
       "      <td>rejeté</td>\n",
       "      <td>0.0</td>\n",
       "    </tr>\n",
       "    <tr>\n",
       "      <th>72</th>\n",
       "      <td>72</td>\n",
       "      <td>1</td>\n",
       "      <td>PA721542</td>\n",
       "      <td>Contre</td>\n",
       "      <td>PO730964</td>\n",
       "      <td>2019-03-15</td>\n",
       "      <td>SPO</td>\n",
       "      <td>l'amendement n°23 de M. Potier à l'article 62 ...</td>\n",
       "      <td>Présidente du groupe \"Socialistes et apparentés\"</td>\n",
       "      <td>PO717460</td>\n",
       "      <td>35</td>\n",
       "      <td>9</td>\n",
       "      <td>26</td>\n",
       "      <td>2</td>\n",
       "      <td>0</td>\n",
       "      <td>0</td>\n",
       "      <td>rejeté</td>\n",
       "      <td>0.0</td>\n",
       "    </tr>\n",
       "    <tr>\n",
       "      <th>73</th>\n",
       "      <td>73</td>\n",
       "      <td>1</td>\n",
       "      <td>PA721764</td>\n",
       "      <td>Contre</td>\n",
       "      <td>PO730964</td>\n",
       "      <td>2019-03-15</td>\n",
       "      <td>SPO</td>\n",
       "      <td>l'amendement n°23 de M. Potier à l'article 62 ...</td>\n",
       "      <td>Présidente du groupe \"Socialistes et apparentés\"</td>\n",
       "      <td>PO717460</td>\n",
       "      <td>35</td>\n",
       "      <td>9</td>\n",
       "      <td>26</td>\n",
       "      <td>2</td>\n",
       "      <td>0</td>\n",
       "      <td>0</td>\n",
       "      <td>rejeté</td>\n",
       "      <td>0.0</td>\n",
       "    </tr>\n",
       "    <tr>\n",
       "      <th>74</th>\n",
       "      <td>74</td>\n",
       "      <td>1</td>\n",
       "      <td>PA722054</td>\n",
       "      <td>Contre</td>\n",
       "      <td>PO730964</td>\n",
       "      <td>2019-03-15</td>\n",
       "      <td>SPO</td>\n",
       "      <td>l'amendement n°23 de M. Potier à l'article 62 ...</td>\n",
       "      <td>Présidente du groupe \"Socialistes et apparentés\"</td>\n",
       "      <td>PO717460</td>\n",
       "      <td>35</td>\n",
       "      <td>9</td>\n",
       "      <td>26</td>\n",
       "      <td>2</td>\n",
       "      <td>0</td>\n",
       "      <td>0</td>\n",
       "      <td>rejeté</td>\n",
       "      <td>0.0</td>\n",
       "    </tr>\n",
       "    <tr>\n",
       "      <th>75</th>\n",
       "      <td>75</td>\n",
       "      <td>1</td>\n",
       "      <td>PA722094</td>\n",
       "      <td>Contre</td>\n",
       "      <td>PO730964</td>\n",
       "      <td>2019-03-15</td>\n",
       "      <td>SPO</td>\n",
       "      <td>l'amendement n°23 de M. Potier à l'article 62 ...</td>\n",
       "      <td>Présidente du groupe \"Socialistes et apparentés\"</td>\n",
       "      <td>PO717460</td>\n",
       "      <td>35</td>\n",
       "      <td>9</td>\n",
       "      <td>26</td>\n",
       "      <td>2</td>\n",
       "      <td>0</td>\n",
       "      <td>0</td>\n",
       "      <td>rejeté</td>\n",
       "      <td>0.0</td>\n",
       "    </tr>\n",
       "    <tr>\n",
       "      <th>76</th>\n",
       "      <td>76</td>\n",
       "      <td>1</td>\n",
       "      <td>PA722382</td>\n",
       "      <td>Contre</td>\n",
       "      <td>PO730964</td>\n",
       "      <td>2019-03-15</td>\n",
       "      <td>SPO</td>\n",
       "      <td>l'amendement n°23 de M. Potier à l'article 62 ...</td>\n",
       "      <td>Présidente du groupe \"Socialistes et apparentés\"</td>\n",
       "      <td>PO717460</td>\n",
       "      <td>35</td>\n",
       "      <td>9</td>\n",
       "      <td>26</td>\n",
       "      <td>2</td>\n",
       "      <td>0</td>\n",
       "      <td>0</td>\n",
       "      <td>rejeté</td>\n",
       "      <td>0.0</td>\n",
       "    </tr>\n",
       "    <tr>\n",
       "      <th>77</th>\n",
       "      <td>77</td>\n",
       "      <td>1</td>\n",
       "      <td>PA719664</td>\n",
       "      <td>Contre</td>\n",
       "      <td>PO730964</td>\n",
       "      <td>2019-03-15</td>\n",
       "      <td>SPO</td>\n",
       "      <td>l'amendement n°23 de M. Potier à l'article 62 ...</td>\n",
       "      <td>Présidente du groupe \"Socialistes et apparentés\"</td>\n",
       "      <td>PO717460</td>\n",
       "      <td>35</td>\n",
       "      <td>9</td>\n",
       "      <td>26</td>\n",
       "      <td>2</td>\n",
       "      <td>0</td>\n",
       "      <td>0</td>\n",
       "      <td>rejeté</td>\n",
       "      <td>0.0</td>\n",
       "    </tr>\n",
       "  </tbody>\n",
       "</table>\n",
       "</div>"
      ],
      "text/plain": [
       "    Unnamed: 0  idScrutin  idVotant    vote organeRefGroupe date_scrutin  \\\n",
       "58          58          1  PA606171    Pour        PO730964   2019-03-15   \n",
       "59          59          1  PA721852  Contre        PO730964   2019-03-15   \n",
       "60          60          1  PA718710  Contre        PO730964   2019-03-15   \n",
       "61          61          1  PA719024  Contre        PO730964   2019-03-15   \n",
       "62          62          1  PA719080  Contre        PO730964   2019-03-15   \n",
       "63          63          1  PA719170  Contre        PO730964   2019-03-15   \n",
       "64          64          1  PA719372  Contre        PO730964   2019-03-15   \n",
       "65          65          1  PA719420  Contre        PO730964   2019-03-15   \n",
       "66          66          1  PA719684  Contre        PO730964   2019-03-15   \n",
       "67          67          1  PA719850  Contre        PO730964   2019-03-15   \n",
       "68          68          1  PA720298  Contre        PO730964   2019-03-15   \n",
       "69          69          1  PA720830  Contre        PO730964   2019-03-15   \n",
       "70          70          1  PA721134  Contre        PO730964   2019-03-15   \n",
       "71          71          1  PA721344  Contre        PO730964   2019-03-15   \n",
       "72          72          1  PA721542  Contre        PO730964   2019-03-15   \n",
       "73          73          1  PA721764  Contre        PO730964   2019-03-15   \n",
       "74          74          1  PA722054  Contre        PO730964   2019-03-15   \n",
       "75          75          1  PA722094  Contre        PO730964   2019-03-15   \n",
       "76          76          1  PA722382  Contre        PO730964   2019-03-15   \n",
       "77          77          1  PA719664  Contre        PO730964   2019-03-15   \n",
       "\n",
       "   code_type_vote                                              titre  \\\n",
       "58            SPO  l'amendement n°23 de M. Potier à l'article 62 ...   \n",
       "59            SPO  l'amendement n°23 de M. Potier à l'article 62 ...   \n",
       "60            SPO  l'amendement n°23 de M. Potier à l'article 62 ...   \n",
       "61            SPO  l'amendement n°23 de M. Potier à l'article 62 ...   \n",
       "62            SPO  l'amendement n°23 de M. Potier à l'article 62 ...   \n",
       "63            SPO  l'amendement n°23 de M. Potier à l'article 62 ...   \n",
       "64            SPO  l'amendement n°23 de M. Potier à l'article 62 ...   \n",
       "65            SPO  l'amendement n°23 de M. Potier à l'article 62 ...   \n",
       "66            SPO  l'amendement n°23 de M. Potier à l'article 62 ...   \n",
       "67            SPO  l'amendement n°23 de M. Potier à l'article 62 ...   \n",
       "68            SPO  l'amendement n°23 de M. Potier à l'article 62 ...   \n",
       "69            SPO  l'amendement n°23 de M. Potier à l'article 62 ...   \n",
       "70            SPO  l'amendement n°23 de M. Potier à l'article 62 ...   \n",
       "71            SPO  l'amendement n°23 de M. Potier à l'article 62 ...   \n",
       "72            SPO  l'amendement n°23 de M. Potier à l'article 62 ...   \n",
       "73            SPO  l'amendement n°23 de M. Potier à l'article 62 ...   \n",
       "74            SPO  l'amendement n°23 de M. Potier à l'article 62 ...   \n",
       "75            SPO  l'amendement n°23 de M. Potier à l'article 62 ...   \n",
       "76            SPO  l'amendement n°23 de M. Potier à l'article 62 ...   \n",
       "77            SPO  l'amendement n°23 de M. Potier à l'article 62 ...   \n",
       "\n",
       "                                           demandeur organe_ref  votants  \\\n",
       "58  Présidente du groupe \"Socialistes et apparentés\"   PO717460       35   \n",
       "59  Présidente du groupe \"Socialistes et apparentés\"   PO717460       35   \n",
       "60  Présidente du groupe \"Socialistes et apparentés\"   PO717460       35   \n",
       "61  Présidente du groupe \"Socialistes et apparentés\"   PO717460       35   \n",
       "62  Présidente du groupe \"Socialistes et apparentés\"   PO717460       35   \n",
       "63  Présidente du groupe \"Socialistes et apparentés\"   PO717460       35   \n",
       "64  Présidente du groupe \"Socialistes et apparentés\"   PO717460       35   \n",
       "65  Présidente du groupe \"Socialistes et apparentés\"   PO717460       35   \n",
       "66  Présidente du groupe \"Socialistes et apparentés\"   PO717460       35   \n",
       "67  Présidente du groupe \"Socialistes et apparentés\"   PO717460       35   \n",
       "68  Présidente du groupe \"Socialistes et apparentés\"   PO717460       35   \n",
       "69  Présidente du groupe \"Socialistes et apparentés\"   PO717460       35   \n",
       "70  Présidente du groupe \"Socialistes et apparentés\"   PO717460       35   \n",
       "71  Présidente du groupe \"Socialistes et apparentés\"   PO717460       35   \n",
       "72  Présidente du groupe \"Socialistes et apparentés\"   PO717460       35   \n",
       "73  Présidente du groupe \"Socialistes et apparentés\"   PO717460       35   \n",
       "74  Présidente du groupe \"Socialistes et apparentés\"   PO717460       35   \n",
       "75  Présidente du groupe \"Socialistes et apparentés\"   PO717460       35   \n",
       "76  Présidente du groupe \"Socialistes et apparentés\"   PO717460       35   \n",
       "77  Présidente du groupe \"Socialistes et apparentés\"   PO717460       35   \n",
       "\n",
       "    pour  contre  non_votants  non_votants_volontaires  abstention resultat  \\\n",
       "58     9      26            2                        0           0   rejeté   \n",
       "59     9      26            2                        0           0   rejeté   \n",
       "60     9      26            2                        0           0   rejeté   \n",
       "61     9      26            2                        0           0   rejeté   \n",
       "62     9      26            2                        0           0   rejeté   \n",
       "63     9      26            2                        0           0   rejeté   \n",
       "64     9      26            2                        0           0   rejeté   \n",
       "65     9      26            2                        0           0   rejeté   \n",
       "66     9      26            2                        0           0   rejeté   \n",
       "67     9      26            2                        0           0   rejeté   \n",
       "68     9      26            2                        0           0   rejeté   \n",
       "69     9      26            2                        0           0   rejeté   \n",
       "70     9      26            2                        0           0   rejeté   \n",
       "71     9      26            2                        0           0   rejeté   \n",
       "72     9      26            2                        0           0   rejeté   \n",
       "73     9      26            2                        0           0   rejeté   \n",
       "74     9      26            2                        0           0   rejeté   \n",
       "75     9      26            2                        0           0   rejeté   \n",
       "76     9      26            2                        0           0   rejeté   \n",
       "77     9      26            2                        0           0   rejeté   \n",
       "\n",
       "    ratioabstention  \n",
       "58              0.0  \n",
       "59              0.0  \n",
       "60              0.0  \n",
       "61              0.0  \n",
       "62              0.0  \n",
       "63              0.0  \n",
       "64              0.0  \n",
       "65              0.0  \n",
       "66              0.0  \n",
       "67              0.0  \n",
       "68              0.0  \n",
       "69              0.0  \n",
       "70              0.0  \n",
       "71              0.0  \n",
       "72              0.0  \n",
       "73              0.0  \n",
       "74              0.0  \n",
       "75              0.0  \n",
       "76              0.0  \n",
       "77              0.0  "
      ]
     },
     "execution_count": 15,
     "metadata": {},
     "output_type": "execute_result"
    }
   ],
   "source": [
    "df4 = df[df['ratioabstention'].isin(['0'])]\n",
    "df4.groupby('idScrutin').count() #on a 635 scrutins où le ratio abstention/votants est nul\n",
    "#on vérifie si on a bien le même nombre de scrutins où l'abstention est nulle dans le df original\n",
    "ab = df[df['abstention'].isin(['0'])].groupby('idScrutin')\n",
    "ab.count() #on a bien 635 lignes cad 635 scrutins où l'abstention est nulle\n",
    "df4.head(20)"
   ]
  },
  {
   "cell_type": "code",
   "execution_count": 36,
   "metadata": {
    "scrolled": false
   },
   "outputs": [
    {
     "data": {
      "text/plain": [
       "Text(0.5, 1.0, \"Ratio votants pour/votants total pour l'ensemble des scrutins\")"
      ]
     },
     "execution_count": 36,
     "metadata": {},
     "output_type": "execute_result"
    },
    {
     "data": {
      "image/png": "[encoded data removed]",
      "text/plain": [
       "<Figure size 432x288 with 1 Axes>"
      ]
     },
     "metadata": {
      "needs_background": "light"
     },
     "output_type": "display_data"
    }
   ],
   "source": [
    "#on regade le pourcentage de 'pour' à chaque scrutin -> quelle majorité ? très large ou ça passe de justesse ? \n",
    "pourcentagepour = (df.groupby('idScrutin')['pour'].sum()/df.groupby('idScrutin')['pour'].count())/(df.groupby('idScrutin')['votants'].sum()/df.groupby('idScrutin')['votants'].count())\n",
    "pourcentagepour.plot(kind='hist')\n",
    "plt.xlabel('ratio votants pour/votants total')\n",
    "plt.ylabel('nombre de scrutins')\n",
    "plt.title(\"Ratio votants pour/votants total pour l'ensemble des scrutins\")"
   ]
  },
  {
   "cell_type": "code",
   "execution_count": 24,
   "metadata": {},
   "outputs": [
    {
     "data": {
      "text/plain": [
       "<matplotlib.axes._subplots.AxesSubplot at 0x1af3bac3748>"
      ]
     },
     "execution_count": 24,
     "metadata": {},
     "output_type": "execute_result"
    },
    {
     "data": {
      "image/png": "[encoded data removed]",
      "text/plain": [
       "<Figure size 432x288 with 1 Axes>"
      ]
     },
     "metadata": {
      "needs_background": "light"
     },
     "output_type": "display_data"
    }
   ],
   "source": [
    "pourcentagepour = (df.groupby('idScrutin')['pour'].sum()/df.groupby('idScrutin')['pour'].count())/(df.groupby('idScrutin')['votants'].sum()/df.groupby('idScrutin')['votants'].count())\n",
    "pourcentagepour = np.array(pourcentagepour)\n",
    "sns.histplot(pourcentagepour, stat = 'probability')"
   ]
  },
  {
   "cell_type": "code",
   "execution_count": 37,
   "metadata": {},
   "outputs": [
    {
     "data": {
      "text/plain": [
       "Text(0.5, 1.0, \"Ratio votants pour/votants total pour les scrutins avec une abstention 'moyenne'\")"
      ]
     },
     "execution_count": 37,
     "metadata": {},
     "output_type": "execute_result"
    },
    {
     "data": {
      "image/png": "[encoded data removed]",
      "text/plain": [
       "<Figure size 432x288 with 1 Axes>"
      ]
     },
     "metadata": {
      "needs_background": "light"
     },
     "output_type": "display_data"
    }
   ],
   "source": [
    "pourcentagepourdf2 = (df2.groupby('idScrutin')['pour'].sum()/df2.groupby('idScrutin')['pour'].count())/(df2.groupby('idScrutin')['votants'].sum()/df2.groupby('idScrutin')['votants'].count())\n",
    "pourcentagepourdf2.plot(kind='hist', color='orange')\n",
    "plt.xlabel('ratio votants pour/votants total')\n",
    "plt.ylabel('nombre de scrutins')\n",
    "plt.title(\"Ratio votants pour/votants total pour les scrutins avec une abstention 'moyenne'\")"
   ]
  },
  {
   "cell_type": "code",
   "execution_count": 28,
   "metadata": {},
   "outputs": [
    {
     "data": {
      "text/plain": [
       "<matplotlib.axes._subplots.AxesSubplot at 0x1af36fc9908>"
      ]
     },
     "execution_count": 28,
     "metadata": {},
     "output_type": "execute_result"
    },
    {
     "data": {
      "image/png": "[encoded data removed]",
      "text/plain": [
       "<Figure size 432x288 with 1 Axes>"
      ]
     },
     "metadata": {
      "needs_background": "light"
     },
     "output_type": "display_data"
    }
   ],
   "source": [
    "pourcentagepourdf2 = (df2.groupby('idScrutin')['pour'].sum()/df2.groupby('idScrutin')['pour'].count())/(df2.groupby('idScrutin')['votants'].sum()/df2.groupby('idScrutin')['votants'].count())\n",
    "pourcentagepourdf2 = np.array(pourcentagepourdf2)\n",
    "sns.histplot(pourcentagepourdf2, stat=\"probability\")"
   ]
  },
  {
   "cell_type": "code",
   "execution_count": 38,
   "metadata": {},
   "outputs": [
    {
     "data": {
      "text/plain": [
       "Text(0.5, 1.0, 'Ratio votants pour/votants total pour les scrutins avec une abstention forte')"
      ]
     },
     "execution_count": 38,
     "metadata": {},
     "output_type": "execute_result"
    },
    {
     "data": {
      "image/png": "[encoded data removed]",
      "text/plain": [
       "<Figure size 432x288 with 1 Axes>"
      ]
     },
     "metadata": {
      "needs_background": "light"
     },
     "output_type": "display_data"
    }
   ],
   "source": [
    "pourcentagepourdf3 = (df3.groupby('idScrutin')['pour'].sum()/df3.groupby('idScrutin')['pour'].count())/(df3.groupby('idScrutin')['votants'].sum()/df3.groupby('idScrutin')['votants'].count())\n",
    "pourcentagepourdf3.plot(kind='hist', color='green')\n",
    "plt.xlabel('ratio votants pour/votants total')\n",
    "plt.ylabel('nombre de scrutins')\n",
    "plt.title(\"Ratio votants pour/votants total pour les scrutins avec une abstention forte\")"
   ]
  },
  {
   "cell_type": "code",
   "execution_count": 31,
   "metadata": {},
   "outputs": [
    {
     "data": {
      "text/plain": [
       "<matplotlib.axes._subplots.AxesSubplot at 0x1af3bfa9d48>"
      ]
     },
     "execution_count": 31,
     "metadata": {},
     "output_type": "execute_result"
    },
    {
     "data": {
      "image/png": "[encoded data removed]",
      "text/plain": [
       "<Figure size 432x288 with 1 Axes>"
      ]
     },
     "metadata": {
      "needs_background": "light"
     },
     "output_type": "display_data"
    }
   ],
   "source": [
    "pourcentagepourdf3 = (df3.groupby('idScrutin')['pour'].sum()/df3.groupby('idScrutin')['pour'].count())/(df3.groupby('idScrutin')['votants'].sum()/df3.groupby('idScrutin')['votants'].count())\n",
    "pourcentagepourdf3 = np.array(pourcentagepourdf3)\n",
    "sns.histplot(pourcentagepourdf3, stat=\"probability\")"
   ]
  },
  {
   "cell_type": "code",
   "execution_count": 39,
   "metadata": {
    "scrolled": true
   },
   "outputs": [
    {
     "data": {
      "text/plain": [
       "Text(0.5, 1.0, 'Ratio votants pour/votants total pour les scrutins avec une abstention nulle')"
      ]
     },
     "execution_count": 39,
     "metadata": {},
     "output_type": "execute_result"
    },
    {
     "data": {
      "image/png": "[encoded data removed]",
      "text/plain": [
       "<Figure size 432x288 with 1 Axes>"
      ]
     },
     "metadata": {
      "needs_background": "light"
     },
     "output_type": "display_data"
    }
   ],
   "source": [
    "pourcentagepourdf4 = (df4.groupby('idScrutin')['pour'].sum()/df4.groupby('idScrutin')['pour'].count())/(df4.groupby('idScrutin')['votants'].sum()/df4.groupby('idScrutin')['votants'].count())\n",
    "pourcentagepourdf4.plot(kind='hist', color='violet')\n",
    "plt.xlabel('ratio votants pour/votants total')\n",
    "plt.ylabel('nombre de scrutins')\n",
    "plt.title(\"Ratio votants pour/votants total pour les scrutins avec une abstention nulle\")"
   ]
  },
  {
   "cell_type": "code",
   "execution_count": 33,
   "metadata": {},
   "outputs": [
    {
     "data": {
      "text/plain": [
       "<matplotlib.axes._subplots.AxesSubplot at 0x1af3c16b988>"
      ]
     },
     "execution_count": 33,
     "metadata": {},
     "output_type": "execute_result"
    },
    {
     "data": {
      "image/png": "[encoded data removed]",
      "text/plain": [
       "<Figure size 432x288 with 1 Axes>"
      ]
     },
     "metadata": {
      "needs_background": "light"
     },
     "output_type": "display_data"
    }
   ],
   "source": [
    "pourcentagepourdf4 = (df4.groupby('idScrutin')['pour'].sum()/df4.groupby('idScrutin')['pour'].count())/(df4.groupby('idScrutin')['votants'].sum()/df4.groupby('idScrutin')['votants'].count())\n",
    "pourcentagepourdf4 = np.array(pourcentagepourdf4)\n",
    "sns.histplot(pourcentagepourdf4, stat=\"probability\")"
   ]
  },
  {
   "cell_type": "code",
   "execution_count": 40,
   "metadata": {
    "scrolled": false
   },
   "outputs": [
    {
     "data": {
      "text/plain": [
       "<matplotlib.legend.Legend at 0x1af3c477b08>"
      ]
     },
     "execution_count": 40,
     "metadata": {},
     "output_type": "execute_result"
    },
    {
     "data": {
      "image/png": "[encoded data removed]",
      "text/plain": [
       "<Figure size 432x288 with 1 Axes>"
      ]
     },
     "metadata": {
      "needs_background": "light"
     },
     "output_type": "display_data"
    }
   ],
   "source": [
    "plt.hist([pourcentagepourdf2, pourcentagepourdf3, pourcentagepourdf4], color = ['orange', 'green', 'violet'],\n",
    "            histtype = 'bar', label = ['abstention moyenne', 'abstention forte', 'abstention nulle']) \n",
    "plt.xlabel('ratio votants pour/votants total')\n",
    "plt.ylabel('nombre de scrutins')\n",
    "plt.title(\"Ratio votants pour/votants total en fonction du niveau d'abstention\")\n",
    "plt.legend()"
   ]
  },
  {
   "cell_type": "code",
   "execution_count": 41,
   "metadata": {
    "scrolled": true
   },
   "outputs": [],
   "source": [
    "pourcentagepourdf4tri = pourcentagepourdf4.sort_values(ascending=False)\n",
    "listepourcentagepourdf4 = list(pourcentagepourdf4tri)\n",
    "pourcentagepourdf2tri = pourcentagepourdf2.sort_values(ascending=False)\n",
    "listepourcentagepourdf2 = list(pourcentagepourdf2tri)\n",
    "pourcentagepourdf3tri = pourcentagepourdf3.sort_values(ascending=False)\n",
    "listepourcentagepourdf3 = list(pourcentagepourdf3tri)\n",
    "pourcentagepourtri = pourcentagepour.sort_values(ascending=False)\n",
    "listepourcentagepour = list(pourcentagepourtri)"
   ]
  },
  {
   "cell_type": "code",
   "execution_count": 42,
   "metadata": {
    "scrolled": true
   },
   "outputs": [
    {
     "data": {
      "text/plain": [
       "Text(0.5, 1.0, 'Ratio votants pour/votants total en fonction des scrutins à abstention moyenne')"
      ]
     },
     "execution_count": 42,
     "metadata": {},
     "output_type": "execute_result"
    },
    {
     "data": {
      "image/png": "[encoded data removed]",
      "text/plain": [
       "<Figure size 432x288 with 1 Axes>"
      ]
     },
     "metadata": {
      "needs_background": "light"
     },
     "output_type": "display_data"
    }
   ],
   "source": [
    "plt.plot(listepourcentagepourdf2, color ='orange')\n",
    "plt.xlabel('nombre de scrutins non cumulés')\n",
    "plt.ylabel('ratio votants pour/votants total')\n",
    "plt.title('Ratio votants pour/votants total en fonction des scrutins à abstention moyenne')"
   ]
  },
  {
   "cell_type": "markdown",
   "metadata": {},
   "source": [
    "Dans les cas où l'abstention est \"moyenne\", les votes sont peu consensuels : on a presque une droite (on aurait quasiment une bissectrice si on avait ordonné les ratios dans le sens croissant)"
   ]
  },
  {
   "cell_type": "code",
   "execution_count": 43,
   "metadata": {
    "scrolled": false
   },
   "outputs": [
    {
     "data": {
      "text/plain": [
       "Text(0.5, 1.0, 'Ratio votants pour/votants total en fonction des scrutins à abstention forte')"
      ]
     },
     "execution_count": 43,
     "metadata": {},
     "output_type": "execute_result"
    },
    {
     "data": {
      "image/png": "[encoded data removed]",
      "text/plain": [
       "<Figure size 432x288 with 1 Axes>"
      ]
     },
     "metadata": {
      "needs_background": "light"
     },
     "output_type": "display_data"
    }
   ],
   "source": [
    "plt.plot(listepourcentagepourdf3, color='green')\n",
    "plt.xlabel('nombre de scrutins non cumulés')\n",
    "plt.ylabel('ratio votants pour/votants total')\n",
    "plt.title('Ratio votants pour/votants total en fonction des scrutins à abstention forte')"
   ]
  },
  {
   "cell_type": "markdown",
   "metadata": {},
   "source": [
    "Dans les cas où l'abstention est forte, la courbe n'a pas la même allure : les votes semblent beaucoup plus consensuels dans la mesure où les votants pour sont largement majoritaires (> 60%) des votants pour plus des 3/4 des scrutins"
   ]
  },
  {
   "cell_type": "code",
   "execution_count": 44,
   "metadata": {},
   "outputs": [
    {
     "data": {
      "text/plain": [
       "Text(0.5, 1.0, 'Ratio votants pour/votants total en fonction des scrutins à abstention nulle')"
      ]
     },
     "execution_count": 44,
     "metadata": {},
     "output_type": "execute_result"
    },
    {
     "data": {
      "image/png": "[encoded data removed]",
      "text/plain": [
       "<Figure size 432x288 with 1 Axes>"
      ]
     },
     "metadata": {
      "needs_background": "light"
     },
     "output_type": "display_data"
    }
   ],
   "source": [
    "plt.plot(listepourcentagepourdf4, color='violet')\n",
    "plt.xlabel('nombre de scrutins non cumulés')\n",
    "plt.ylabel('ratio votants pour/votants total')\n",
    "plt.title('Ratio votants pour/votants total en fonction des scrutins à abstention nulle')"
   ]
  },
  {
   "cell_type": "markdown",
   "metadata": {},
   "source": [
    "Dans le cas où l'abstention est nulle on a presque l'inverse de la courbe pour l'abstention forte -> les votes contre sont majoritaires (votes pour <40%) pour les 2/3 des scrutins (on peut le lire comme ça car les abstentions sont nulles donc les votes non pour sont des votes contre) => idée que les députés se mobilisent plus (et donc s'abtstiennent moins) pour les scrutins avec lesquels ils sont en désaccord ? Il faudrait voir la nature de ces scrutins et voir les caractéristiques des votants qui font \"barrage\""
   ]
  }
 ],
 "metadata": {
  "kernelspec": {
   "display_name": "Python 3",
   "language": "python",
   "name": "python3"
  },
  "language_info": {
   "codemirror_mode": {
    "name": "ipython",
    "version": 3
   },
   "file_extension": ".py",
   "mimetype": "text/x-python",
   "name": "python",
   "nbconvert_exporter": "python",
   "pygments_lexer": "ipython3",
   "version": "3.7.6"
  }
 },
 "nbformat": 4,
 "nbformat_minor": 4
}
