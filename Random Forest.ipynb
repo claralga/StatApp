{
 "cells": [
  {
   "cell_type": "markdown",
   "metadata": {},
   "source": [
    "# Prédire si un député va voter ou non \n",
    "### Utilisation d'une Random Forest avec comme target la variable 'Présence' (ie. député présent au vote ou non), les features utilisées seront des données sur le profil des députés\n",
    "\n",
    "On choisit de découper la base selon les grands thèmes des scrutins, on pourra ainsi prédire si pour un thème donné les députés votent ou non (une random forest par thème)\n",
    "On s'entraine donc sur un thème et on choisira quelques thèmes à étudier à la fin"
   ]
  },
  {
   "cell_type": "markdown",
   "metadata": {},
   "source": [
    "## Création de la variable 'Présence' pour chaque député sur chaque scrutin (base entière)"
   ]
  },
  {
   "cell_type": "code",
   "execution_count": 1,
   "metadata": {},
   "outputs": [],
   "source": [
    "import numpy as np\n",
    "import pandas as pd\n",
    "import matplotlib.pyplot as plt"
   ]
  },
  {
   "cell_type": "code",
   "execution_count": 2,
   "metadata": {},
   "outputs": [],
   "source": [
    "\n",
    "df_votants = pd.read_csv('database_deputes.csv', index_col=0)\n",
    "df_votes2 = pd.read_csv('database_votes2.csv', index_col=0)"
   ]
  },
  {
   "cell_type": "code",
   "execution_count": 3,
   "metadata": {},
   "outputs": [],
   "source": [
    "df_votes = df_votes2[['idScrutin', 'idVotant']]"
   ]
  },
  {
   "cell_type": "code",
   "execution_count": 4,
   "metadata": {},
   "outputs": [],
   "source": [
    "copy = df_votes2.copy()\n",
    "copy = copy.pivot(index = 'idVotant', columns = 'idScrutin', values = 'vote')"
   ]
  },
  {
   "cell_type": "code",
   "execution_count": 5,
   "metadata": {},
   "outputs": [],
   "source": [
    "#on remplace les NaN par de l'abstention (en confondant abstention et non-votant)\n",
    "copy = copy.fillna('0')\n",
    "\n",
    "copy = copy.replace(['Pour'],'1')\n",
    "copy = copy.replace(['Contre'],'1')\n",
    "copy = copy.replace(['Non-votant'],'1')"
   ]
  },
  {
   "cell_type": "code",
   "execution_count": 6,
   "metadata": {},
   "outputs": [],
   "source": [
    "copy2=copy.unstack()"
   ]
  },
  {
   "cell_type": "code",
   "execution_count": 7,
   "metadata": {},
   "outputs": [],
   "source": [
    "copy2 = copy2.reset_index()\n",
    "copy2 = copy2.rename(columns = {0 : 'présence'})"
   ]
  },
  {
   "cell_type": "code",
   "execution_count": 8,
   "metadata": {},
   "outputs": [
    {
     "data": {
      "text/html": [
       "<div>\n",
       "<style scoped>\n",
       "    .dataframe tbody tr th:only-of-type {\n",
       "        vertical-align: middle;\n",
       "    }\n",
       "\n",
       "    .dataframe tbody tr th {\n",
       "        vertical-align: top;\n",
       "    }\n",
       "\n",
       "    .dataframe thead th {\n",
       "        text-align: right;\n",
       "    }\n",
       "</style>\n",
       "<table border=\"1\" class=\"dataframe\">\n",
       "  <thead>\n",
       "    <tr style=\"text-align: right;\">\n",
       "      <th></th>\n",
       "      <th>idScrutin</th>\n",
       "      <th>idVotant</th>\n",
       "      <th>présence</th>\n",
       "    </tr>\n",
       "  </thead>\n",
       "  <tbody>\n",
       "    <tr>\n",
       "      <th>0</th>\n",
       "      <td>0</td>\n",
       "      <td>PA1008</td>\n",
       "      <td>0</td>\n",
       "    </tr>\n",
       "    <tr>\n",
       "      <th>1</th>\n",
       "      <td>0</td>\n",
       "      <td>PA1012</td>\n",
       "      <td>0</td>\n",
       "    </tr>\n",
       "    <tr>\n",
       "      <th>2</th>\n",
       "      <td>0</td>\n",
       "      <td>PA1029</td>\n",
       "      <td>0</td>\n",
       "    </tr>\n",
       "    <tr>\n",
       "      <th>3</th>\n",
       "      <td>0</td>\n",
       "      <td>PA1198</td>\n",
       "      <td>0</td>\n",
       "    </tr>\n",
       "    <tr>\n",
       "      <th>4</th>\n",
       "      <td>0</td>\n",
       "      <td>PA1206</td>\n",
       "      <td>0</td>\n",
       "    </tr>\n",
       "    <tr>\n",
       "      <th>...</th>\n",
       "      <td>...</td>\n",
       "      <td>...</td>\n",
       "      <td>...</td>\n",
       "    </tr>\n",
       "    <tr>\n",
       "      <th>1792270</th>\n",
       "      <td>3116</td>\n",
       "      <td>PA774962</td>\n",
       "      <td>0</td>\n",
       "    </tr>\n",
       "    <tr>\n",
       "      <th>1792271</th>\n",
       "      <td>3116</td>\n",
       "      <td>PA856</td>\n",
       "      <td>0</td>\n",
       "    </tr>\n",
       "    <tr>\n",
       "      <th>1792272</th>\n",
       "      <td>3116</td>\n",
       "      <td>PA923</td>\n",
       "      <td>0</td>\n",
       "    </tr>\n",
       "    <tr>\n",
       "      <th>1792273</th>\n",
       "      <td>3116</td>\n",
       "      <td>PA942</td>\n",
       "      <td>0</td>\n",
       "    </tr>\n",
       "    <tr>\n",
       "      <th>1792274</th>\n",
       "      <td>3116</td>\n",
       "      <td>PA998</td>\n",
       "      <td>0</td>\n",
       "    </tr>\n",
       "  </tbody>\n",
       "</table>\n",
       "<p>1792275 rows × 3 columns</p>\n",
       "</div>"
      ],
      "text/plain": [
       "         idScrutin  idVotant présence\n",
       "0                0    PA1008        0\n",
       "1                0    PA1012        0\n",
       "2                0    PA1029        0\n",
       "3                0    PA1198        0\n",
       "4                0    PA1206        0\n",
       "...            ...       ...      ...\n",
       "1792270       3116  PA774962        0\n",
       "1792271       3116     PA856        0\n",
       "1792272       3116     PA923        0\n",
       "1792273       3116     PA942        0\n",
       "1792274       3116     PA998        0\n",
       "\n",
       "[1792275 rows x 3 columns]"
      ]
     },
     "execution_count": 8,
     "metadata": {},
     "output_type": "execute_result"
    }
   ],
   "source": [
    "copy2 = copy2.sort_values(['idScrutin', 'idVotant'])\n",
    "copy2\n"
   ]
  },
  {
   "cell_type": "markdown",
   "metadata": {},
   "source": [
    "#### On merge la variable Présence sur la base complète"
   ]
  },
  {
   "cell_type": "code",
   "execution_count": 14,
   "metadata": {},
   "outputs": [],
   "source": [
    "bjr = df_votes2.merge(copy2, on = ['idScrutin', 'idVotant'], how = 'outer')"
   ]
  },
  {
   "cell_type": "markdown",
   "metadata": {},
   "source": [
    "### Importations des données scrappées sur les députés (région d'origine, CSP, genre, age, ..)"
   ]
  },
  {
   "cell_type": "code",
   "execution_count": 15,
   "metadata": {},
   "outputs": [
    {
     "name": "stderr",
     "output_type": "stream",
     "text": [
      "C:\\Users\\Clara\\anaconda3\\lib\\site-packages\\IPython\\core\\interactiveshell.py:3146: DtypeWarning: Columns (2,3,4,5,6,7,8,11) have mixed types.Specify dtype option on import or set low_memory=False.\n",
      "  has_raised = await self.run_ast_nodes(code_ast.body, cell_name,\n"
     ]
    }
   ],
   "source": [
    "df_votants = pd.read_csv('database_votants.csv', index_col=0)"
   ]
  },
  {
   "cell_type": "code",
   "execution_count": 16,
   "metadata": {},
   "outputs": [],
   "source": [
    "df_votants2=df_votes2.drop_duplicates('idVotant')[['idVotant','Département','Numéro de circonscription','Profession','Groupe politique (complet)','Groupe politique (abrégé)','date_naissance']]"
   ]
  },
  {
   "cell_type": "code",
   "execution_count": 17,
   "metadata": {},
   "outputs": [],
   "source": [
    "bjr=df_votants2.merge(bjr, on='idVotant',how='outer')"
   ]
  },
  {
   "cell_type": "code",
   "execution_count": 18,
   "metadata": {},
   "outputs": [],
   "source": [
    "df_scrutins2 = df_votes2.drop_duplicates('idScrutin')[['idScrutin','titre','demandeur','date_scrutin']]"
   ]
  },
  {
   "cell_type": "code",
   "execution_count": 19,
   "metadata": {},
   "outputs": [],
   "source": [
    "bjr=df_scrutins2.merge(bjr, on='idScrutin',how='outer')"
   ]
  },
  {
   "cell_type": "code",
   "execution_count": 20,
   "metadata": {},
   "outputs": [],
   "source": [
    "df_régions = pd.read_csv('database_deputes.csv', index_col=0)\n",
    "df_régions = df_régions.drop_duplicates('idVotant')[['idVotant','Région']]\n",
    "bjr = bjr.merge(df_régions, on ='idVotant', how = 'outer')\n",
    "df_age = pd.read_csv('age.csv', index_col=0)\n",
    "bjr = bjr.merge(df_age, on ='idVotant', how = 'outer')\n",
    "df_accord = pd.read_csv('indice_accord.csv', index_col=0)\n",
    "bjr = bjr.merge(df_accord, on ='idVotant', how = 'outer')\n",
    "df_vote = pd.read_csv('proportion_vote.csv', index_col=0)\n",
    "bjr = bjr.merge(df_vote, on ='idVotant', how = 'outer')\n",
    "df_genre = pd.read_csv('genre.csv', index_col=0)\n",
    "bjr = bjr.merge(df_genre, on ='idVotant', how = 'outer')\n",
    "df_csp = pd.read_excel('csp.xlsx')\n",
    "bjr = bjr.merge(df_csp, on ='idVotant', how = 'outer')"
   ]
  },
  {
   "cell_type": "code",
   "execution_count": 21,
   "metadata": {},
   "outputs": [],
   "source": [
    "df_randomforest = pd.read_csv('df_randomforest.csv', index_col=0,low_memory=False)\n",
    "df_randomforest = df_randomforest.drop_duplicates('idScrutin')[['idScrutin','ratioabstention','cluster']]\n",
    "df_randomforest = df_randomforest.merge(bjr, on ='idScrutin', how='outer')"
   ]
  },
  {
   "cell_type": "markdown",
   "metadata": {},
   "source": [
    "### df_randomforest est notre dataframe avec toutes les infos souhaitées, nous transformons la date en format datetime et finissons de nettoyer les duplicats et autres pour récupérer df_randomforest3 (ordonnée par ordre chronologique)"
   ]
  },
  {
   "cell_type": "code",
   "execution_count": 23,
   "metadata": {},
   "outputs": [],
   "source": [
    "df_randomforest.date_scrutin_x = pd.to_datetime(df_randomforest.date_scrutin_x)"
   ]
  },
  {
   "cell_type": "code",
   "execution_count": 26,
   "metadata": {},
   "outputs": [],
   "source": [
    "df_randomforest=df_randomforest.sort_values('date_scrutin_x')"
   ]
  },
  {
   "cell_type": "code",
   "execution_count": 27,
   "metadata": {},
   "outputs": [],
   "source": [
    "df_randomforest3=df_randomforest.drop(['organeRefGroupe','idScrutin','vote','abstention','titre_x','Profession_x','date_naissance_x','Région_x','date_naissance','resultat','demandeur_x','Prénom_x','Nom_x','Groupe politique (abrégé)_x','wikilink','Département_x','Numéro de circonscription_x','code_type_vote','non_votants','type_organe','type_mandat','non_votants_volontaires','qualite_mandat','organe_ref','pour','contre','votants'],axis=1)"
   ]
  },
  {
   "cell_type": "code",
   "execution_count": 28,
   "metadata": {},
   "outputs": [],
   "source": [
    "df_randomforest3['Région2']=df_randomforest3['Région_y']"
   ]
  },
  {
   "cell_type": "code",
   "execution_count": 29,
   "metadata": {},
   "outputs": [],
   "source": [
    "df_randomforest3.drop(df_randomforest3.filter(regex='_y$').columns.tolist(),axis=1, inplace=True)"
   ]
  },
  {
   "cell_type": "code",
   "execution_count": 30,
   "metadata": {},
   "outputs": [],
   "source": [
    "df_randomforest3 = df_randomforest3.drop((['idVotant']),axis=1).reset_index()"
   ]
  },
  {
   "cell_type": "markdown",
   "metadata": {},
   "source": [
    "### Nous choisissons sur quel cluster (ie, thème) travailler en ne gardant que les scrutins correspondant à ce thème"
   ]
  },
  {
   "cell_type": "code",
   "execution_count": 31,
   "metadata": {},
   "outputs": [],
   "source": [
    "df_randomforest_19=df_randomforest3[df_randomforest3['cluster']==33]\n"
   ]
  },
  {
   "cell_type": "code",
   "execution_count": 32,
   "metadata": {},
   "outputs": [],
   "source": [
    "df_randomforest_19_présence=df_randomforest_19['présence']"
   ]
  },
  {
   "cell_type": "markdown",
   "metadata": {},
   "source": [
    "#### Features finales : "
   ]
  },
  {
   "cell_type": "code",
   "execution_count": 33,
   "metadata": {},
   "outputs": [
    {
     "data": {
      "text/plain": [
       "Index(['index', 'ratioabstention', 'cluster', 'date_scrutin_x',\n",
       "       'Groupe politique (complet)_x', 'présence', 'age', 'IndiceAccord',\n",
       "       'Parti', 'Nom_Parti', 'Contre', 'Pour', 'Genre', 'CSP', 'Région2'],\n",
       "      dtype='object')"
      ]
     },
     "execution_count": 33,
     "metadata": {},
     "output_type": "execute_result"
    }
   ],
   "source": [
    "df_randomforest_19.columns"
   ]
  },
  {
   "cell_type": "markdown",
   "metadata": {},
   "source": [
    "#### Séparation entre features et target :"
   ]
  },
  {
   "cell_type": "code",
   "execution_count": 28,
   "metadata": {},
   "outputs": [
    {
     "data": {
      "text/html": [
       "<div>\n",
       "<style scoped>\n",
       "    .dataframe tbody tr th:only-of-type {\n",
       "        vertical-align: middle;\n",
       "    }\n",
       "\n",
       "    .dataframe tbody tr th {\n",
       "        vertical-align: top;\n",
       "    }\n",
       "\n",
       "    .dataframe thead th {\n",
       "        text-align: right;\n",
       "    }\n",
       "</style>\n",
       "<table border=\"1\" class=\"dataframe\">\n",
       "  <thead>\n",
       "    <tr style=\"text-align: right;\">\n",
       "      <th></th>\n",
       "      <th>index</th>\n",
       "      <th>ratioabstention</th>\n",
       "      <th>cluster</th>\n",
       "      <th>date_scrutin_x</th>\n",
       "      <th>age</th>\n",
       "      <th>IndiceAccord</th>\n",
       "      <th>Parti</th>\n",
       "      <th>Nom_Parti</th>\n",
       "      <th>Contre</th>\n",
       "      <th>Pour</th>\n",
       "      <th>Genre</th>\n",
       "      <th>CSP</th>\n",
       "      <th>Région2</th>\n",
       "    </tr>\n",
       "  </thead>\n",
       "  <tbody>\n",
       "    <tr>\n",
       "      <th>33350</th>\n",
       "      <td>33350</td>\n",
       "      <td>0.820870</td>\n",
       "      <td>33</td>\n",
       "      <td>2019-09-11</td>\n",
       "      <td>58</td>\n",
       "      <td>24.434180</td>\n",
       "      <td>PO730964</td>\n",
       "      <td>LREM</td>\n",
       "      <td>5.034642</td>\n",
       "      <td>70.161663</td>\n",
       "      <td>M.</td>\n",
       "      <td>Cadres d'entreprise</td>\n",
       "      <td>Bretagne</td>\n",
       "    </tr>\n",
       "    <tr>\n",
       "      <th>33351</th>\n",
       "      <td>33351</td>\n",
       "      <td>0.820870</td>\n",
       "      <td>33</td>\n",
       "      <td>2019-09-11</td>\n",
       "      <td>42</td>\n",
       "      <td>28.533333</td>\n",
       "      <td>PO730964</td>\n",
       "      <td>LREM</td>\n",
       "      <td>19.466667</td>\n",
       "      <td>19.733333</td>\n",
       "      <td>M.</td>\n",
       "      <td>Cadres de la fonction publique, professions in...</td>\n",
       "      <td>Ile-de-France</td>\n",
       "    </tr>\n",
       "    <tr>\n",
       "      <th>33352</th>\n",
       "      <td>33352</td>\n",
       "      <td>0.820870</td>\n",
       "      <td>33</td>\n",
       "      <td>2019-09-11</td>\n",
       "      <td>53</td>\n",
       "      <td>74.000000</td>\n",
       "      <td>PO730964</td>\n",
       "      <td>LREM</td>\n",
       "      <td>64.571429</td>\n",
       "      <td>35.428571</td>\n",
       "      <td>M.</td>\n",
       "      <td>Cadres de la fonction publique, professions in...</td>\n",
       "      <td>Auvergne-Rhône-Alpes</td>\n",
       "    </tr>\n",
       "    <tr>\n",
       "      <th>33353</th>\n",
       "      <td>33353</td>\n",
       "      <td>0.820870</td>\n",
       "      <td>33</td>\n",
       "      <td>2019-09-11</td>\n",
       "      <td>51</td>\n",
       "      <td>71.171171</td>\n",
       "      <td>PO730964</td>\n",
       "      <td>LREM</td>\n",
       "      <td>60.360360</td>\n",
       "      <td>39.189189</td>\n",
       "      <td>M.</td>\n",
       "      <td>Cadres d'entreprise</td>\n",
       "      <td>Normandie</td>\n",
       "    </tr>\n",
       "    <tr>\n",
       "      <th>33354</th>\n",
       "      <td>33354</td>\n",
       "      <td>0.820870</td>\n",
       "      <td>33</td>\n",
       "      <td>2019-09-11</td>\n",
       "      <td>55</td>\n",
       "      <td>76.120959</td>\n",
       "      <td>PO730964</td>\n",
       "      <td>LREM</td>\n",
       "      <td>69.968717</td>\n",
       "      <td>30.031283</td>\n",
       "      <td>Mme</td>\n",
       "      <td>Sans profession dÃ©clarÃ©e</td>\n",
       "      <td>Provence-Alpes-Côte d'Azur</td>\n",
       "    </tr>\n",
       "    <tr>\n",
       "      <th>...</th>\n",
       "      <td>...</td>\n",
       "      <td>...</td>\n",
       "      <td>...</td>\n",
       "      <td>...</td>\n",
       "      <td>...</td>\n",
       "      <td>...</td>\n",
       "      <td>...</td>\n",
       "      <td>...</td>\n",
       "      <td>...</td>\n",
       "      <td>...</td>\n",
       "      <td>...</td>\n",
       "      <td>...</td>\n",
       "      <td>...</td>\n",
       "    </tr>\n",
       "    <tr>\n",
       "      <th>1689345</th>\n",
       "      <td>1689345</td>\n",
       "      <td>0.914783</td>\n",
       "      <td>33</td>\n",
       "      <td>2019-06-27</td>\n",
       "      <td>62</td>\n",
       "      <td>45.161290</td>\n",
       "      <td>PO758835</td>\n",
       "      <td>Socialistes</td>\n",
       "      <td>41.935484</td>\n",
       "      <td>58.064516</td>\n",
       "      <td>Mme</td>\n",
       "      <td>Cadres de la fonction publique, professions in...</td>\n",
       "      <td>Normandie</td>\n",
       "    </tr>\n",
       "    <tr>\n",
       "      <th>1689346</th>\n",
       "      <td>1689346</td>\n",
       "      <td>0.914783</td>\n",
       "      <td>33</td>\n",
       "      <td>2019-06-27</td>\n",
       "      <td>42</td>\n",
       "      <td>88.461538</td>\n",
       "      <td>PO730964</td>\n",
       "      <td>LREM</td>\n",
       "      <td>73.076923</td>\n",
       "      <td>26.923077</td>\n",
       "      <td>Mme</td>\n",
       "      <td>Cadres d'entreprise</td>\n",
       "      <td>Ile-de-France</td>\n",
       "    </tr>\n",
       "    <tr>\n",
       "      <th>1689347</th>\n",
       "      <td>1689347</td>\n",
       "      <td>0.914783</td>\n",
       "      <td>33</td>\n",
       "      <td>2019-06-27</td>\n",
       "      <td>35</td>\n",
       "      <td>40.000000</td>\n",
       "      <td>PO730940</td>\n",
       "      <td>Gauche Dem et Rep</td>\n",
       "      <td>80.000000</td>\n",
       "      <td>20.000000</td>\n",
       "      <td>Mme</td>\n",
       "      <td>Professions intermÃ©diaires de l'enseignement,...</td>\n",
       "      <td>Réunion</td>\n",
       "    </tr>\n",
       "    <tr>\n",
       "      <th>1689348</th>\n",
       "      <td>1689348</td>\n",
       "      <td>0.914783</td>\n",
       "      <td>33</td>\n",
       "      <td>2019-06-27</td>\n",
       "      <td>72</td>\n",
       "      <td>58.333333</td>\n",
       "      <td>PO730934</td>\n",
       "      <td>LR</td>\n",
       "      <td>75.000000</td>\n",
       "      <td>25.000000</td>\n",
       "      <td>Mme</td>\n",
       "      <td>Anciens employÃ©s et ouvriers</td>\n",
       "      <td>Provence-Alpes-Côte d'Azur</td>\n",
       "    </tr>\n",
       "    <tr>\n",
       "      <th>1689349</th>\n",
       "      <td>1689349</td>\n",
       "      <td>0.914783</td>\n",
       "      <td>33</td>\n",
       "      <td>2019-06-27</td>\n",
       "      <td>60</td>\n",
       "      <td>36.000000</td>\n",
       "      <td>PO723569</td>\n",
       "      <td>Non inscrits</td>\n",
       "      <td>32.000000</td>\n",
       "      <td>68.000000</td>\n",
       "      <td>Mme</td>\n",
       "      <td>Sans profession dÃ©clarÃ©e</td>\n",
       "      <td>Occitanie</td>\n",
       "    </tr>\n",
       "  </tbody>\n",
       "</table>\n",
       "<p>17825 rows × 13 columns</p>\n",
       "</div>"
      ],
      "text/plain": [
       "           index  ratioabstention  cluster date_scrutin_x age  IndiceAccord  \\\n",
       "33350      33350         0.820870       33     2019-09-11  58     24.434180   \n",
       "33351      33351         0.820870       33     2019-09-11  42     28.533333   \n",
       "33352      33352         0.820870       33     2019-09-11  53     74.000000   \n",
       "33353      33353         0.820870       33     2019-09-11  51     71.171171   \n",
       "33354      33354         0.820870       33     2019-09-11  55     76.120959   \n",
       "...          ...              ...      ...            ...  ..           ...   \n",
       "1689345  1689345         0.914783       33     2019-06-27  62     45.161290   \n",
       "1689346  1689346         0.914783       33     2019-06-27  42     88.461538   \n",
       "1689347  1689347         0.914783       33     2019-06-27  35     40.000000   \n",
       "1689348  1689348         0.914783       33     2019-06-27  72     58.333333   \n",
       "1689349  1689349         0.914783       33     2019-06-27  60     36.000000   \n",
       "\n",
       "            Parti          Nom_Parti     Contre       Pour Genre  \\\n",
       "33350    PO730964               LREM   5.034642  70.161663    M.   \n",
       "33351    PO730964               LREM  19.466667  19.733333    M.   \n",
       "33352    PO730964               LREM  64.571429  35.428571    M.   \n",
       "33353    PO730964               LREM  60.360360  39.189189    M.   \n",
       "33354    PO730964               LREM  69.968717  30.031283   Mme   \n",
       "...           ...                ...        ...        ...   ...   \n",
       "1689345  PO758835        Socialistes  41.935484  58.064516   Mme   \n",
       "1689346  PO730964               LREM  73.076923  26.923077   Mme   \n",
       "1689347  PO730940  Gauche Dem et Rep  80.000000  20.000000   Mme   \n",
       "1689348  PO730934                 LR  75.000000  25.000000   Mme   \n",
       "1689349  PO723569       Non inscrits  32.000000  68.000000   Mme   \n",
       "\n",
       "                                                       CSP  \\\n",
       "33350                                  Cadres d'entreprise   \n",
       "33351    Cadres de la fonction publique, professions in...   \n",
       "33352    Cadres de la fonction publique, professions in...   \n",
       "33353                                  Cadres d'entreprise   \n",
       "33354                           Sans profession dÃ©clarÃ©e   \n",
       "...                                                    ...   \n",
       "1689345  Cadres de la fonction publique, professions in...   \n",
       "1689346                                Cadres d'entreprise   \n",
       "1689347  Professions intermÃ©diaires de l'enseignement,...   \n",
       "1689348                      Anciens employÃ©s et ouvriers   \n",
       "1689349                         Sans profession dÃ©clarÃ©e   \n",
       "\n",
       "                            Région2  \n",
       "33350                      Bretagne  \n",
       "33351                 Ile-de-France  \n",
       "33352          Auvergne-Rhône-Alpes  \n",
       "33353                     Normandie  \n",
       "33354    Provence-Alpes-Côte d'Azur  \n",
       "...                             ...  \n",
       "1689345                   Normandie  \n",
       "1689346               Ile-de-France  \n",
       "1689347                     Réunion  \n",
       "1689348  Provence-Alpes-Côte d'Azur  \n",
       "1689349                   Occitanie  \n",
       "\n",
       "[17825 rows x 13 columns]"
      ]
     },
     "execution_count": 28,
     "metadata": {},
     "output_type": "execute_result"
    }
   ],
   "source": [
    "df_randomforest_19_présence=df_randomforest_19_présence.astype(int).to_frame()\n",
    "df_randomforest_19=df_randomforest_19.drop('présence', axis =1)\n",
    "df_randomforest_19=df_randomforest_19.drop('Groupe politique (complet)_x', axis=1)\n",
    "df_randomforest_19"
   ]
  },
  {
   "cell_type": "code",
   "execution_count": null,
   "metadata": {},
   "outputs": [],
   "source": []
  },
  {
   "cell_type": "code",
   "execution_count": 29,
   "metadata": {},
   "outputs": [
    {
     "data": {
      "text/html": [
       "<div>\n",
       "<style scoped>\n",
       "    .dataframe tbody tr th:only-of-type {\n",
       "        vertical-align: middle;\n",
       "    }\n",
       "\n",
       "    .dataframe tbody tr th {\n",
       "        vertical-align: top;\n",
       "    }\n",
       "\n",
       "    .dataframe thead th {\n",
       "        text-align: right;\n",
       "    }\n",
       "</style>\n",
       "<table border=\"1\" class=\"dataframe\">\n",
       "  <thead>\n",
       "    <tr style=\"text-align: right;\">\n",
       "      <th></th>\n",
       "      <th>index</th>\n",
       "      <th>ratioabstention</th>\n",
       "      <th>cluster</th>\n",
       "      <th>date_scrutin_x</th>\n",
       "      <th>IndiceAccord</th>\n",
       "      <th>Contre</th>\n",
       "      <th>Pour</th>\n",
       "      <th>age_ a</th>\n",
       "      <th>age_27</th>\n",
       "      <th>age_28</th>\n",
       "      <th>...</th>\n",
       "      <th>Région2_Nouvelle-Aquitaine</th>\n",
       "      <th>Région2_Nouvelle-Calédonie</th>\n",
       "      <th>Région2_Occitanie</th>\n",
       "      <th>Région2_Pays de la Loire</th>\n",
       "      <th>Région2_Polynésie française</th>\n",
       "      <th>Région2_Provence-Alpes-Côte d'Azur</th>\n",
       "      <th>Région2_Réunion</th>\n",
       "      <th>Région2_Saint-Barthélemy et Saint-Martin</th>\n",
       "      <th>Région2_Saint-Pierre-et-Miquelon</th>\n",
       "      <th>Région2_Wallis-et-Futuna</th>\n",
       "    </tr>\n",
       "  </thead>\n",
       "  <tbody>\n",
       "    <tr>\n",
       "      <th>33350</th>\n",
       "      <td>33350</td>\n",
       "      <td>0.820870</td>\n",
       "      <td>33</td>\n",
       "      <td>2019-09-11</td>\n",
       "      <td>24.434180</td>\n",
       "      <td>5.034642</td>\n",
       "      <td>70.161663</td>\n",
       "      <td>0</td>\n",
       "      <td>0</td>\n",
       "      <td>0</td>\n",
       "      <td>...</td>\n",
       "      <td>0</td>\n",
       "      <td>0</td>\n",
       "      <td>0</td>\n",
       "      <td>0</td>\n",
       "      <td>0</td>\n",
       "      <td>0</td>\n",
       "      <td>0</td>\n",
       "      <td>0</td>\n",
       "      <td>0</td>\n",
       "      <td>0</td>\n",
       "    </tr>\n",
       "    <tr>\n",
       "      <th>33351</th>\n",
       "      <td>33351</td>\n",
       "      <td>0.820870</td>\n",
       "      <td>33</td>\n",
       "      <td>2019-09-11</td>\n",
       "      <td>28.533333</td>\n",
       "      <td>19.466667</td>\n",
       "      <td>19.733333</td>\n",
       "      <td>0</td>\n",
       "      <td>0</td>\n",
       "      <td>0</td>\n",
       "      <td>...</td>\n",
       "      <td>0</td>\n",
       "      <td>0</td>\n",
       "      <td>0</td>\n",
       "      <td>0</td>\n",
       "      <td>0</td>\n",
       "      <td>0</td>\n",
       "      <td>0</td>\n",
       "      <td>0</td>\n",
       "      <td>0</td>\n",
       "      <td>0</td>\n",
       "    </tr>\n",
       "    <tr>\n",
       "      <th>33352</th>\n",
       "      <td>33352</td>\n",
       "      <td>0.820870</td>\n",
       "      <td>33</td>\n",
       "      <td>2019-09-11</td>\n",
       "      <td>74.000000</td>\n",
       "      <td>64.571429</td>\n",
       "      <td>35.428571</td>\n",
       "      <td>0</td>\n",
       "      <td>0</td>\n",
       "      <td>0</td>\n",
       "      <td>...</td>\n",
       "      <td>0</td>\n",
       "      <td>0</td>\n",
       "      <td>0</td>\n",
       "      <td>0</td>\n",
       "      <td>0</td>\n",
       "      <td>0</td>\n",
       "      <td>0</td>\n",
       "      <td>0</td>\n",
       "      <td>0</td>\n",
       "      <td>0</td>\n",
       "    </tr>\n",
       "    <tr>\n",
       "      <th>33353</th>\n",
       "      <td>33353</td>\n",
       "      <td>0.820870</td>\n",
       "      <td>33</td>\n",
       "      <td>2019-09-11</td>\n",
       "      <td>71.171171</td>\n",
       "      <td>60.360360</td>\n",
       "      <td>39.189189</td>\n",
       "      <td>0</td>\n",
       "      <td>0</td>\n",
       "      <td>0</td>\n",
       "      <td>...</td>\n",
       "      <td>0</td>\n",
       "      <td>0</td>\n",
       "      <td>0</td>\n",
       "      <td>0</td>\n",
       "      <td>0</td>\n",
       "      <td>0</td>\n",
       "      <td>0</td>\n",
       "      <td>0</td>\n",
       "      <td>0</td>\n",
       "      <td>0</td>\n",
       "    </tr>\n",
       "    <tr>\n",
       "      <th>33354</th>\n",
       "      <td>33354</td>\n",
       "      <td>0.820870</td>\n",
       "      <td>33</td>\n",
       "      <td>2019-09-11</td>\n",
       "      <td>76.120959</td>\n",
       "      <td>69.968717</td>\n",
       "      <td>30.031283</td>\n",
       "      <td>0</td>\n",
       "      <td>0</td>\n",
       "      <td>0</td>\n",
       "      <td>...</td>\n",
       "      <td>0</td>\n",
       "      <td>0</td>\n",
       "      <td>0</td>\n",
       "      <td>0</td>\n",
       "      <td>0</td>\n",
       "      <td>1</td>\n",
       "      <td>0</td>\n",
       "      <td>0</td>\n",
       "      <td>0</td>\n",
       "      <td>0</td>\n",
       "    </tr>\n",
       "    <tr>\n",
       "      <th>...</th>\n",
       "      <td>...</td>\n",
       "      <td>...</td>\n",
       "      <td>...</td>\n",
       "      <td>...</td>\n",
       "      <td>...</td>\n",
       "      <td>...</td>\n",
       "      <td>...</td>\n",
       "      <td>...</td>\n",
       "      <td>...</td>\n",
       "      <td>...</td>\n",
       "      <td>...</td>\n",
       "      <td>...</td>\n",
       "      <td>...</td>\n",
       "      <td>...</td>\n",
       "      <td>...</td>\n",
       "      <td>...</td>\n",
       "      <td>...</td>\n",
       "      <td>...</td>\n",
       "      <td>...</td>\n",
       "      <td>...</td>\n",
       "      <td>...</td>\n",
       "    </tr>\n",
       "    <tr>\n",
       "      <th>1689345</th>\n",
       "      <td>1689345</td>\n",
       "      <td>0.914783</td>\n",
       "      <td>33</td>\n",
       "      <td>2019-06-27</td>\n",
       "      <td>45.161290</td>\n",
       "      <td>41.935484</td>\n",
       "      <td>58.064516</td>\n",
       "      <td>0</td>\n",
       "      <td>0</td>\n",
       "      <td>0</td>\n",
       "      <td>...</td>\n",
       "      <td>0</td>\n",
       "      <td>0</td>\n",
       "      <td>0</td>\n",
       "      <td>0</td>\n",
       "      <td>0</td>\n",
       "      <td>0</td>\n",
       "      <td>0</td>\n",
       "      <td>0</td>\n",
       "      <td>0</td>\n",
       "      <td>0</td>\n",
       "    </tr>\n",
       "    <tr>\n",
       "      <th>1689346</th>\n",
       "      <td>1689346</td>\n",
       "      <td>0.914783</td>\n",
       "      <td>33</td>\n",
       "      <td>2019-06-27</td>\n",
       "      <td>88.461538</td>\n",
       "      <td>73.076923</td>\n",
       "      <td>26.923077</td>\n",
       "      <td>0</td>\n",
       "      <td>0</td>\n",
       "      <td>0</td>\n",
       "      <td>...</td>\n",
       "      <td>0</td>\n",
       "      <td>0</td>\n",
       "      <td>0</td>\n",
       "      <td>0</td>\n",
       "      <td>0</td>\n",
       "      <td>0</td>\n",
       "      <td>0</td>\n",
       "      <td>0</td>\n",
       "      <td>0</td>\n",
       "      <td>0</td>\n",
       "    </tr>\n",
       "    <tr>\n",
       "      <th>1689347</th>\n",
       "      <td>1689347</td>\n",
       "      <td>0.914783</td>\n",
       "      <td>33</td>\n",
       "      <td>2019-06-27</td>\n",
       "      <td>40.000000</td>\n",
       "      <td>80.000000</td>\n",
       "      <td>20.000000</td>\n",
       "      <td>0</td>\n",
       "      <td>0</td>\n",
       "      <td>0</td>\n",
       "      <td>...</td>\n",
       "      <td>0</td>\n",
       "      <td>0</td>\n",
       "      <td>0</td>\n",
       "      <td>0</td>\n",
       "      <td>0</td>\n",
       "      <td>0</td>\n",
       "      <td>1</td>\n",
       "      <td>0</td>\n",
       "      <td>0</td>\n",
       "      <td>0</td>\n",
       "    </tr>\n",
       "    <tr>\n",
       "      <th>1689348</th>\n",
       "      <td>1689348</td>\n",
       "      <td>0.914783</td>\n",
       "      <td>33</td>\n",
       "      <td>2019-06-27</td>\n",
       "      <td>58.333333</td>\n",
       "      <td>75.000000</td>\n",
       "      <td>25.000000</td>\n",
       "      <td>0</td>\n",
       "      <td>0</td>\n",
       "      <td>0</td>\n",
       "      <td>...</td>\n",
       "      <td>0</td>\n",
       "      <td>0</td>\n",
       "      <td>0</td>\n",
       "      <td>0</td>\n",
       "      <td>0</td>\n",
       "      <td>1</td>\n",
       "      <td>0</td>\n",
       "      <td>0</td>\n",
       "      <td>0</td>\n",
       "      <td>0</td>\n",
       "    </tr>\n",
       "    <tr>\n",
       "      <th>1689349</th>\n",
       "      <td>1689349</td>\n",
       "      <td>0.914783</td>\n",
       "      <td>33</td>\n",
       "      <td>2019-06-27</td>\n",
       "      <td>36.000000</td>\n",
       "      <td>32.000000</td>\n",
       "      <td>68.000000</td>\n",
       "      <td>0</td>\n",
       "      <td>0</td>\n",
       "      <td>0</td>\n",
       "      <td>...</td>\n",
       "      <td>0</td>\n",
       "      <td>0</td>\n",
       "      <td>1</td>\n",
       "      <td>0</td>\n",
       "      <td>0</td>\n",
       "      <td>0</td>\n",
       "      <td>0</td>\n",
       "      <td>0</td>\n",
       "      <td>0</td>\n",
       "      <td>0</td>\n",
       "    </tr>\n",
       "  </tbody>\n",
       "</table>\n",
       "<p>17825 rows × 138 columns</p>\n",
       "</div>"
      ],
      "text/plain": [
       "           index  ratioabstention  cluster date_scrutin_x  IndiceAccord  \\\n",
       "33350      33350         0.820870       33     2019-09-11     24.434180   \n",
       "33351      33351         0.820870       33     2019-09-11     28.533333   \n",
       "33352      33352         0.820870       33     2019-09-11     74.000000   \n",
       "33353      33353         0.820870       33     2019-09-11     71.171171   \n",
       "33354      33354         0.820870       33     2019-09-11     76.120959   \n",
       "...          ...              ...      ...            ...           ...   \n",
       "1689345  1689345         0.914783       33     2019-06-27     45.161290   \n",
       "1689346  1689346         0.914783       33     2019-06-27     88.461538   \n",
       "1689347  1689347         0.914783       33     2019-06-27     40.000000   \n",
       "1689348  1689348         0.914783       33     2019-06-27     58.333333   \n",
       "1689349  1689349         0.914783       33     2019-06-27     36.000000   \n",
       "\n",
       "            Contre       Pour  age_ a  age_27  age_28  ...  \\\n",
       "33350     5.034642  70.161663       0       0       0  ...   \n",
       "33351    19.466667  19.733333       0       0       0  ...   \n",
       "33352    64.571429  35.428571       0       0       0  ...   \n",
       "33353    60.360360  39.189189       0       0       0  ...   \n",
       "33354    69.968717  30.031283       0       0       0  ...   \n",
       "...            ...        ...     ...     ...     ...  ...   \n",
       "1689345  41.935484  58.064516       0       0       0  ...   \n",
       "1689346  73.076923  26.923077       0       0       0  ...   \n",
       "1689347  80.000000  20.000000       0       0       0  ...   \n",
       "1689348  75.000000  25.000000       0       0       0  ...   \n",
       "1689349  32.000000  68.000000       0       0       0  ...   \n",
       "\n",
       "         Région2_Nouvelle-Aquitaine  Région2_Nouvelle-Calédonie  \\\n",
       "33350                             0                           0   \n",
       "33351                             0                           0   \n",
       "33352                             0                           0   \n",
       "33353                             0                           0   \n",
       "33354                             0                           0   \n",
       "...                             ...                         ...   \n",
       "1689345                           0                           0   \n",
       "1689346                           0                           0   \n",
       "1689347                           0                           0   \n",
       "1689348                           0                           0   \n",
       "1689349                           0                           0   \n",
       "\n",
       "         Région2_Occitanie  Région2_Pays de la Loire  \\\n",
       "33350                    0                         0   \n",
       "33351                    0                         0   \n",
       "33352                    0                         0   \n",
       "33353                    0                         0   \n",
       "33354                    0                         0   \n",
       "...                    ...                       ...   \n",
       "1689345                  0                         0   \n",
       "1689346                  0                         0   \n",
       "1689347                  0                         0   \n",
       "1689348                  0                         0   \n",
       "1689349                  1                         0   \n",
       "\n",
       "         Région2_Polynésie française  Région2_Provence-Alpes-Côte d'Azur  \\\n",
       "33350                              0                                   0   \n",
       "33351                              0                                   0   \n",
       "33352                              0                                   0   \n",
       "33353                              0                                   0   \n",
       "33354                              0                                   1   \n",
       "...                              ...                                 ...   \n",
       "1689345                            0                                   0   \n",
       "1689346                            0                                   0   \n",
       "1689347                            0                                   0   \n",
       "1689348                            0                                   1   \n",
       "1689349                            0                                   0   \n",
       "\n",
       "         Région2_Réunion  Région2_Saint-Barthélemy et Saint-Martin  \\\n",
       "33350                  0                                         0   \n",
       "33351                  0                                         0   \n",
       "33352                  0                                         0   \n",
       "33353                  0                                         0   \n",
       "33354                  0                                         0   \n",
       "...                  ...                                       ...   \n",
       "1689345                0                                         0   \n",
       "1689346                0                                         0   \n",
       "1689347                1                                         0   \n",
       "1689348                0                                         0   \n",
       "1689349                0                                         0   \n",
       "\n",
       "         Région2_Saint-Pierre-et-Miquelon  Région2_Wallis-et-Futuna  \n",
       "33350                                   0                         0  \n",
       "33351                                   0                         0  \n",
       "33352                                   0                         0  \n",
       "33353                                   0                         0  \n",
       "33354                                   0                         0  \n",
       "...                                   ...                       ...  \n",
       "1689345                                 0                         0  \n",
       "1689346                                 0                         0  \n",
       "1689347                                 0                         0  \n",
       "1689348                                 0                         0  \n",
       "1689349                                 0                         0  \n",
       "\n",
       "[17825 rows x 138 columns]"
      ]
     },
     "execution_count": 29,
     "metadata": {},
     "output_type": "execute_result"
    }
   ],
   "source": [
    "df_randomforest_19_dummies=pd.get_dummies(df_randomforest_19)\n",
    "\n",
    "df_randomforest_19_dummies"
   ]
  },
  {
   "cell_type": "code",
   "execution_count": 30,
   "metadata": {},
   "outputs": [],
   "source": [
    "df_randomforest_19_dummies= df_randomforest_19_dummies.drop('index',axis=1)\n"
   ]
  },
  {
   "cell_type": "code",
   "execution_count": 31,
   "metadata": {},
   "outputs": [
    {
     "data": {
      "text/plain": [
       "33350      1\n",
       "33351      1\n",
       "33352      0\n",
       "33353      0\n",
       "33354      0\n",
       "          ..\n",
       "1689345    0\n",
       "1689346    0\n",
       "1689347    0\n",
       "1689348    0\n",
       "1689349    0\n",
       "Name: présence, Length: 17825, dtype: int32"
      ]
     },
     "execution_count": 31,
     "metadata": {},
     "output_type": "execute_result"
    }
   ],
   "source": [
    "label_19 = df_randomforest_19_présence['présence']\n",
    "label_19"
   ]
  },
  {
   "cell_type": "code",
   "execution_count": 32,
   "metadata": {},
   "outputs": [],
   "source": [
    "from sklearn.model_selection import train_test_split\n"
   ]
  },
  {
   "cell_type": "code",
   "execution_count": 33,
   "metadata": {},
   "outputs": [],
   "source": [
    "train_features, test_features, train_labels, test_labels = train_test_split(df_randomforest_19_dummies, label_19, test_size = 0.25)"
   ]
  },
  {
   "cell_type": "markdown",
   "metadata": {},
   "source": [
    "### Les données de la variable Présence sont déséquilibrées (plus de 0 que de 1), on les réequilibre"
   ]
  },
  {
   "cell_type": "code",
   "execution_count": 34,
   "metadata": {},
   "outputs": [
    {
     "name": "stdout",
     "output_type": "stream",
     "text": [
      "1    459\n",
      "0    459\n",
      "Name: présence, dtype: int64\n"
     ]
    }
   ],
   "source": [
    "from sklearn.utils import resample,shuffle\n",
    "test_label_counts = test_labels.value_counts()\n",
    "test_features_absent = test_features[test_labels==0]\n",
    "test_labels_absent = test_labels[test_labels==0]\n",
    "features_test_less, labels_test_less = resample(test_features_absent,test_labels_absent,n_samples=test_label_counts[1],replace=False)\n",
    "features_test_ = pd.concat([features_test_less,test_features[test_labels==1]])\n",
    "labels_test_ = pd.concat([labels_test_less,test_labels[test_labels==1]])\n",
    "test_features_, test_labels_ = shuffle(features_test_,labels_test_)\n",
    "print(test_labels_.value_counts())"
   ]
  },
  {
   "cell_type": "code",
   "execution_count": 35,
   "metadata": {},
   "outputs": [
    {
     "name": "stdout",
     "output_type": "stream",
     "text": [
      "1    1341\n",
      "0    1341\n",
      "Name: présence, dtype: int64\n"
     ]
    }
   ],
   "source": [
    "train_label_counts = train_labels.value_counts()\n",
    "train_features_absent = (train_features[train_labels==0])\n",
    "train_labels_absent = (train_labels[train_labels==0])\n",
    "features_train_less, labels_train_less = resample(train_features_absent,train_labels_absent,n_samples=train_label_counts[1],replace=False)\n",
    "features_train_ = pd.concat([features_train_less,train_features[train_labels==1]])\n",
    "labels_train_ = pd.concat([labels_train_less,train_labels[train_labels==1]])\n",
    "train_features_, train_labels_ = shuffle(features_train_,labels_train_)\n",
    "print(train_labels_.value_counts())"
   ]
  },
  {
   "cell_type": "markdown",
   "metadata": {},
   "source": [
    "### On fait tourner les modèles "
   ]
  },
  {
   "cell_type": "code",
   "execution_count": 35,
   "metadata": {},
   "outputs": [
    {
     "ename": "NameError",
     "evalue": "name 'train_features_' is not defined",
     "output_type": "error",
     "traceback": [
      "\u001b[1;31m---------------------------------------------------------------------------\u001b[0m",
      "\u001b[1;31mNameError\u001b[0m                                 Traceback (most recent call last)",
      "\u001b[1;32m<ipython-input-35-367fcb6e3f2d>\u001b[0m in \u001b[0;36m<module>\u001b[1;34m\u001b[0m\n\u001b[0;32m      2\u001b[0m \u001b[0mrf\u001b[0m \u001b[1;33m=\u001b[0m \u001b[0mRandomForestClassifier\u001b[0m\u001b[1;33m(\u001b[0m\u001b[0mn_estimators\u001b[0m \u001b[1;33m=\u001b[0m \u001b[1;36m500\u001b[0m\u001b[1;33m,\u001b[0m \u001b[0mmax_depth\u001b[0m\u001b[1;33m=\u001b[0m\u001b[1;36m10\u001b[0m\u001b[1;33m)\u001b[0m\u001b[1;33m\u001b[0m\u001b[1;33m\u001b[0m\u001b[0m\n\u001b[0;32m      3\u001b[0m \u001b[1;33m\u001b[0m\u001b[0m\n\u001b[1;32m----> 4\u001b[1;33m \u001b[0mrf\u001b[0m\u001b[1;33m.\u001b[0m\u001b[0mfit\u001b[0m\u001b[1;33m(\u001b[0m\u001b[0mtrain_features_\u001b[0m\u001b[1;33m,\u001b[0m \u001b[0mtrain_labels_\u001b[0m\u001b[1;33m)\u001b[0m\u001b[1;33m\u001b[0m\u001b[1;33m\u001b[0m\u001b[0m\n\u001b[0m\u001b[0;32m      5\u001b[0m \u001b[1;33m\u001b[0m\u001b[0m\n\u001b[0;32m      6\u001b[0m \u001b[0mimportances\u001b[0m \u001b[1;33m=\u001b[0m \u001b[0mrf\u001b[0m\u001b[1;33m.\u001b[0m\u001b[0mfeature_importances_\u001b[0m\u001b[1;33m\u001b[0m\u001b[1;33m\u001b[0m\u001b[0m\n",
      "\u001b[1;31mNameError\u001b[0m: name 'train_features_' is not defined"
     ]
    }
   ],
   "source": [
    "from sklearn.ensemble import RandomForestClassifier\n",
    "rf = RandomForestClassifier(n_estimators = 500, max_depth=10)\n",
    "\n",
    "rf.fit(train_features_, train_labels_)\n",
    "\n",
    "importances = rf.feature_importances_\n",
    "std = np.std([tree.feature_importances_ for tree in rf.estimators_],\n",
    "             axis=0)\n",
    "indices = np.argsort(importances)[::-1]\n",
    "\n",
    "# Print the feature ranking\n",
    "print(\"Feature ranking:\")\n",
    "\n",
    "for f in range(train_features_.shape[1]):\n",
    "    print(\"%d. feature %d (%f)\" % (f + 1, indices[f], importances[indices[f]]))\n"
   ]
  },
  {
   "cell_type": "code",
   "execution_count": 36,
   "metadata": {},
   "outputs": [
    {
     "ename": "NameError",
     "evalue": "name 'train_features_' is not defined",
     "output_type": "error",
     "traceback": [
      "\u001b[1;31m---------------------------------------------------------------------------\u001b[0m",
      "\u001b[1;31mNameError\u001b[0m                                 Traceback (most recent call last)",
      "\u001b[1;32m<ipython-input-36-70db846f6501>\u001b[0m in \u001b[0;36m<module>\u001b[1;34m\u001b[0m\n\u001b[0;32m      2\u001b[0m \u001b[0mparam_grid\u001b[0m \u001b[1;33m=\u001b[0m \u001b[1;33m{\u001b[0m\u001b[1;34m'max_depth'\u001b[0m\u001b[1;33m:\u001b[0m\u001b[1;33m[\u001b[0m\u001b[1;36m5\u001b[0m\u001b[1;33m,\u001b[0m\u001b[1;36m6\u001b[0m\u001b[1;33m,\u001b[0m\u001b[1;36m7\u001b[0m\u001b[1;33m,\u001b[0m\u001b[1;36m8\u001b[0m\u001b[1;33m,\u001b[0m\u001b[1;36m10\u001b[0m\u001b[1;33m]\u001b[0m\u001b[1;33m,\u001b[0m \u001b[1;34m'n_estimators'\u001b[0m \u001b[1;33m:\u001b[0m \u001b[1;33m[\u001b[0m\u001b[1;36m100\u001b[0m\u001b[1;33m,\u001b[0m\u001b[1;36m200\u001b[0m\u001b[1;33m,\u001b[0m\u001b[1;36m300\u001b[0m\u001b[1;33m,\u001b[0m\u001b[1;36m500\u001b[0m\u001b[1;33m,\u001b[0m\u001b[1;36m1000\u001b[0m\u001b[1;33m]\u001b[0m\u001b[1;33m}\u001b[0m\u001b[1;33m\u001b[0m\u001b[1;33m\u001b[0m\u001b[0m\n\u001b[0;32m      3\u001b[0m \u001b[0mpredictor\u001b[0m\u001b[1;33m=\u001b[0m \u001b[0mGridSearchCV\u001b[0m\u001b[1;33m(\u001b[0m\u001b[0mRandomForestClassifier\u001b[0m\u001b[1;33m(\u001b[0m\u001b[0mrandom_state\u001b[0m\u001b[1;33m=\u001b[0m\u001b[1;36m0\u001b[0m\u001b[1;33m)\u001b[0m\u001b[1;33m,\u001b[0m\u001b[0mparam_grid\u001b[0m\u001b[1;33m=\u001b[0m\u001b[0mparam_grid\u001b[0m\u001b[1;33m)\u001b[0m\u001b[1;33m\u001b[0m\u001b[1;33m\u001b[0m\u001b[0m\n\u001b[1;32m----> 4\u001b[1;33m \u001b[0mpredictor\u001b[0m\u001b[1;33m.\u001b[0m\u001b[0mfit\u001b[0m\u001b[1;33m(\u001b[0m\u001b[0mtrain_features_\u001b[0m\u001b[1;33m,\u001b[0m\u001b[0mtrain_labels_\u001b[0m\u001b[1;33m)\u001b[0m\u001b[1;33m\u001b[0m\u001b[1;33m\u001b[0m\u001b[0m\n\u001b[0m\u001b[0;32m      5\u001b[0m \u001b[0mprint\u001b[0m\u001b[1;33m(\u001b[0m\u001b[1;34m'Paramètre sélectionné:'\u001b[0m\u001b[1;33m,\u001b[0m\u001b[0mpredictor\u001b[0m\u001b[1;33m.\u001b[0m\u001b[0mbest_params_\u001b[0m\u001b[1;33m)\u001b[0m\u001b[1;33m\u001b[0m\u001b[1;33m\u001b[0m\u001b[0m\n\u001b[0;32m      6\u001b[0m \u001b[0mprint\u001b[0m\u001b[1;33m(\u001b[0m\u001b[1;34m'Score d\\'apprentissage: '\u001b[0m\u001b[1;33m,\u001b[0m\u001b[0mpredictor\u001b[0m\u001b[1;33m.\u001b[0m\u001b[0mscore\u001b[0m\u001b[1;33m(\u001b[0m\u001b[0mtrain_features_\u001b[0m\u001b[1;33m,\u001b[0m\u001b[0mtrain_labels_\u001b[0m\u001b[1;33m)\u001b[0m\u001b[1;33m)\u001b[0m\u001b[1;33m\u001b[0m\u001b[1;33m\u001b[0m\u001b[0m\n",
      "\u001b[1;31mNameError\u001b[0m: name 'train_features_' is not defined"
     ]
    }
   ],
   "source": [
    "from sklearn.model_selection import GridSearchCV\n",
    "param_grid = {'max_depth':[5,6,7,8,10], 'n_estimators' : [100,200,300,500,1000]}\n",
    "predictor= GridSearchCV(RandomForestClassifier(random_state=0),param_grid=param_grid)\n",
    "predictor.fit(train_features_,train_labels_)\n",
    "print('Paramètre sélectionné:',predictor.best_params_)\n",
    "print('Score d\\'apprentissage: ',predictor.score(train_features_,train_labels_))\n",
    "print('Score de test: ',predictor.score(test_features_,test_labels_))"
   ]
  },
  {
   "cell_type": "code",
   "execution_count": null,
   "metadata": {},
   "outputs": [],
   "source": [
    "print(\"Feature ranking:\")\n",
    "for i, data_class in enumerate(df_randomforest_19_dummies.columns):\n",
    "    print(\"{}. {} ({})\".format(i + 1, data_class, importances[i]))\n"
   ]
  },
  {
   "cell_type": "code",
   "execution_count": null,
   "metadata": {},
   "outputs": [],
   "source": [
    "from sklearn.ensemble import RandomForestClassifier\n",
    "rf = RandomForestClassifier(n_estimators = 100, max_depth=3)\n",
    "\n",
    "rf.fit(train_features_, train_labels_);"
   ]
  },
  {
   "cell_type": "code",
   "execution_count": null,
   "metadata": {},
   "outputs": [],
   "source": [
    "predictions_test = rf.predict(test_features_)"
   ]
  },
  {
   "cell_type": "code",
   "execution_count": null,
   "metadata": {},
   "outputs": [],
   "source": []
  },
  {
   "cell_type": "markdown",
   "metadata": {},
   "source": [
    "### Essai XGBoost"
   ]
  },
  {
   "cell_type": "code",
   "execution_count": null,
   "metadata": {},
   "outputs": [],
   "source": [
    "from sklearn.ensemble import GradientBoostingClassifier\n",
    "from sklearn.model_selection import train_test_split, GridSearchCV\n",
    "\n",
    "from sklearn.metrics import accuracy_score, confusion_matrix\n",
    "from sklearn.metrics import recall_score, f1_score\n",
    "\n",
    "test_acc = accuracy_score(test_labels_, predictions_test)\n",
    "print(test_acc)\n",
    "\n"
   ]
  },
  {
   "cell_type": "code",
   "execution_count": null,
   "metadata": {},
   "outputs": [],
   "source": [
    "model_boosting = GradientBoostingClassifier(loss=\"deviance\",\n",
    "    learning_rate=0.2,\n",
    "    max_depth=5,\n",
    "    max_features=\"sqrt\",\n",
    "    subsample=0.95,\n",
    "    n_estimators=200)\n",
    "\n",
    "\n",
    "model_boosting.fit(train_features_, train_labels_)\n",
    "\n",
    "\n",
    "predictions_test_xgb = model_boosting.predict(test_features_)\n",
    "predictions_train_xgb = model_boosting.predict(train_features_)\n",
    "\n",
    "\n",
    "train_acc = accuracy_score(train_labels_, predictions_train_xgb)\n",
    "print(train_acc)\n",
    "\n",
    "test_acc = accuracy_score(test_labels_, predictions_test_xgb)\n",
    "print(test_acc)"
   ]
  },
  {
   "cell_type": "code",
   "execution_count": null,
   "metadata": {},
   "outputs": [],
   "source": [
    "from sklearn.model_selection import GridSearchCV\n",
    "param_grid = {'max_depth':[5,6,7,8,10], 'n_estimators' : [300,500,1000]}\n",
    "predictor= GridSearchCV(GradientBoostingClassifier(random_state=0),param_grid=param_grid)\n",
    "predictor.fit(train_features_,train_labels_)\n",
    "print('Paramètre sélectionné:',predictor.best_params_)\n",
    "print('Score d\\'apprentissage: ',predictor.score(train_features_,train_labels_))\n",
    "print('Score de test: ',predictor.score(test_features_,test_labels_))"
   ]
  },
  {
   "cell_type": "markdown",
   "metadata": {},
   "source": [
    "### Scores"
   ]
  },
  {
   "cell_type": "code",
   "execution_count": null,
   "metadata": {},
   "outputs": [],
   "source": [
    "# Calcul du recall pour Random Forest\n",
    "\n",
    "recall = recall_score(test_labels_, predictions_test, average='macro')\n",
    "print('Recall: %.3f' % recall)\n",
    "\n",
    "# Calcul du recall pour XGBoost\n",
    "\n",
    "recall = recall_score(test_labels_, predictions_test_xgb, average='macro')\n",
    "print('Recall: %.3f' % recall)"
   ]
  },
  {
   "cell_type": "code",
   "execution_count": null,
   "metadata": {},
   "outputs": [],
   "source": [
    "# Calcul du F1-Score pour Random Forest\n",
    "\n",
    "f1 = f1_score(test_labels_, predictions_test, average='macro')\n",
    "print('F1-Score: %.3f' % f1)\n",
    "\n",
    "# Calcul du F1-Score pour XGBoost\n",
    "\n",
    "f1 = f1_score(test_labels_, predictions_test_xgb, average='macro')\n",
    "print('F1-Score: %.3f' % f1)"
   ]
  },
  {
   "cell_type": "code",
   "execution_count": null,
   "metadata": {},
   "outputs": [],
   "source": []
  }
 ],
 "metadata": {
  "kernelspec": {
   "display_name": "Python 3",
   "language": "python",
   "name": "python3"
  },
  "language_info": {
   "codemirror_mode": {
    "name": "ipython",
    "version": 3
   },
   "file_extension": ".py",
   "mimetype": "text/x-python",
   "name": "python",
   "nbconvert_exporter": "python",
   "pygments_lexer": "ipython3",
   "version": "3.8.5"
  }
 },
 "nbformat": 4,
 "nbformat_minor": 4
}
