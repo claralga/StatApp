{
 "cells": [
  {
   "cell_type": "code",
   "execution_count": 1,
   "metadata": {},
   "outputs": [],
   "source": [
    "import zipfile\n",
    "import io\n",
    "import urllib.request\n",
    "import json\n",
    "import pandas as pd\n",
    "\n",
    "access_url = urllib.request.urlopen('http://data.assemblee-nationale.fr/static/openData/repository/15/loi/scrutins/Scrutins_XV.json.zip')\n",
    "\n",
    "data_dict=dict()\n",
    "\n",
    "z = zipfile.ZipFile(io.BytesIO(access_url.read()))\n",
    "n_scrutin = len(z.infolist())\n",
    "\n",
    "\n",
    "for i in range(n_scrutin):\n",
    "  data = json.loads(z.read(z.infolist()[i]).decode())\n",
    "  data_dict[i] = data"
   ]
  },
  {
   "cell_type": "code",
   "execution_count": 2,
   "metadata": {},
   "outputs": [
    {
     "name": "stdout",
     "output_type": "stream",
     "text": [
      "Requirement already satisfied: tqdm in c:\\users\\pmong\\anaconda3\\lib\\site-packages (4.42.1)\n",
      "Note: you may need to restart the kernel to use updated packages.\n"
     ]
    }
   ],
   "source": [
    "pip install tqdm"
   ]
  },
  {
   "cell_type": "code",
   "execution_count": 6,
   "metadata": {},
   "outputs": [
    {
     "data": {
      "application/vnd.jupyter.widget-view+json": {
       "model_id": "20b384f26b9f4988bfb20f6d9e83a1b4",
       "version_major": 2,
       "version_minor": 0
      },
      "text/plain": [
       "HBox(children=(FloatProgress(value=0.0, max=3947.0), HTML(value='')))"
      ]
     },
     "metadata": {},
     "output_type": "display_data"
    },
    {
     "name": "stdout",
     "output_type": "stream",
     "text": [
      "\n"
     ]
    },
    {
     "data": {
      "text/html": [
       "<div>\n",
       "<style scoped>\n",
       "    .dataframe tbody tr th:only-of-type {\n",
       "        vertical-align: middle;\n",
       "    }\n",
       "\n",
       "    .dataframe tbody tr th {\n",
       "        vertical-align: top;\n",
       "    }\n",
       "\n",
       "    .dataframe thead th {\n",
       "        text-align: right;\n",
       "    }\n",
       "</style>\n",
       "<table border=\"1\" class=\"dataframe\">\n",
       "  <thead>\n",
       "    <tr style=\"text-align: right;\">\n",
       "      <th></th>\n",
       "      <th>idScrutin</th>\n",
       "      <th>idVotant</th>\n",
       "      <th>vote</th>\n",
       "      <th>organeRefGroupe</th>\n",
       "    </tr>\n",
       "  </thead>\n",
       "  <tbody>\n",
       "    <tr>\n",
       "      <th>0</th>\n",
       "      <td>0</td>\n",
       "      <td>PA719608</td>\n",
       "      <td>Pour</td>\n",
       "      <td>PO723569</td>\n",
       "    </tr>\n",
       "    <tr>\n",
       "      <th>1</th>\n",
       "      <td>1</td>\n",
       "      <td>PA689</td>\n",
       "      <td>Pour</td>\n",
       "      <td>PO730940</td>\n",
       "    </tr>\n",
       "    <tr>\n",
       "      <th>2</th>\n",
       "      <td>1</td>\n",
       "      <td>PA721270</td>\n",
       "      <td>Pour</td>\n",
       "      <td>PO730940</td>\n",
       "    </tr>\n",
       "    <tr>\n",
       "      <th>3</th>\n",
       "      <td>2</td>\n",
       "      <td>PA719608</td>\n",
       "      <td>Contre</td>\n",
       "      <td>PO723569</td>\n",
       "    </tr>\n",
       "    <tr>\n",
       "      <th>4</th>\n",
       "      <td>4</td>\n",
       "      <td>PA720692</td>\n",
       "      <td>Pour</td>\n",
       "      <td>PO730940</td>\n",
       "    </tr>\n",
       "    <tr>\n",
       "      <th>...</th>\n",
       "      <td>...</td>\n",
       "      <td>...</td>\n",
       "      <td>...</td>\n",
       "      <td>...</td>\n",
       "    </tr>\n",
       "    <tr>\n",
       "      <th>9413</th>\n",
       "      <td>3945</td>\n",
       "      <td>PA721012</td>\n",
       "      <td>Pour</td>\n",
       "      <td>PO730940</td>\n",
       "    </tr>\n",
       "    <tr>\n",
       "      <th>9414</th>\n",
       "      <td>3945</td>\n",
       "      <td>PA774962</td>\n",
       "      <td>Pour</td>\n",
       "      <td>PO730940</td>\n",
       "    </tr>\n",
       "    <tr>\n",
       "      <th>9415</th>\n",
       "      <td>3946</td>\n",
       "      <td>PA719608</td>\n",
       "      <td>Pour</td>\n",
       "      <td>PO723569</td>\n",
       "    </tr>\n",
       "    <tr>\n",
       "      <th>9416</th>\n",
       "      <td>3946</td>\n",
       "      <td>PA721932</td>\n",
       "      <td>Pour</td>\n",
       "      <td>PO723569</td>\n",
       "    </tr>\n",
       "    <tr>\n",
       "      <th>9417</th>\n",
       "      <td>3946</td>\n",
       "      <td>PA1838</td>\n",
       "      <td>Contre</td>\n",
       "      <td>PO723569</td>\n",
       "    </tr>\n",
       "  </tbody>\n",
       "</table>\n",
       "<p>9418 rows × 4 columns</p>\n",
       "</div>"
      ],
      "text/plain": [
       "     idScrutin  idVotant    vote organeRefGroupe\n",
       "0            0  PA719608    Pour        PO723569\n",
       "1            1     PA689    Pour        PO730940\n",
       "2            1  PA721270    Pour        PO730940\n",
       "3            2  PA719608  Contre        PO723569\n",
       "4            4  PA720692    Pour        PO730940\n",
       "...        ...       ...     ...             ...\n",
       "9413      3945  PA721012    Pour        PO730940\n",
       "9414      3945  PA774962    Pour        PO730940\n",
       "9415      3946  PA719608    Pour        PO723569\n",
       "9416      3946  PA721932    Pour        PO723569\n",
       "9417      3946    PA1838  Contre        PO723569\n",
       "\n",
       "[9418 rows x 4 columns]"
      ]
     },
     "execution_count": 6,
     "metadata": {},
     "output_type": "execute_result"
    }
   ],
   "source": [
    "from tqdm.notebook import tqdm\n",
    "\n",
    "df_votants = pd.DataFrame(columns=['idScrutin', 'idVotant', 'vote', 'organeRefGroupe'])\n",
    "\n",
    "for idScrutin, scrutin in tqdm(data_dict.items()):\n",
    "    example = scrutin['scrutin']\n",
    "    ventilation_dict = example['ventilationVotes']['organe']\n",
    "\n",
    "    organeRefTot= ventilation_dict['organeRef']\n",
    "    groupe_lists = ventilation_dict['groupes']['groupe']\n",
    "\n",
    "    for groupe_dict in groupe_lists:\n",
    "        organe_ref_groupe = groupe_dict['organeRef']\n",
    "        n_groupe = groupe_dict['nombreMembresGroupe']\n",
    "        vote_dict = groupe_dict['vote']\n",
    "\n",
    "        decompteVoix_groupe_dict = vote_dict['decompteVoix']\n",
    "        decompteNominatif_groupe_dict = vote_dict['decompteNominatif']\n",
    "\n",
    "        liste_non_votant_groupe = decompteNominatif_groupe_dict['nonVotants']\n",
    "        liste_pours_groupe = decompteNominatif_groupe_dict['pours']\n",
    "        liste_contres_groupe = decompteNominatif_groupe_dict['contres']\n",
    "\n",
    "    if not liste_non_votant_groupe is None:\n",
    "        if type(liste_non_votant_groupe['votant']) == dict:\n",
    "            df_votants = df_votants.append({'idScrutin': idScrutin, 'idVotant': liste_non_votant_groupe['votant']['acteurRef'], 'vote' : 'Pour', 'organeRefGroupe' : organe_ref_groupe}, ignore_index=True)\n",
    "        else :\n",
    "            for vote in liste_non_votant_groupe['votant']:\n",
    "                df_votants = df_votants.append({'idScrutin': idScrutin, 'idVotant' : vote['acteurRef'], 'vote' : 'Non-votant', 'organeRefGroupe' : organe_ref_groupe}, ignore_index=True)\n",
    "\n",
    "    if not liste_pours_groupe is None :\n",
    "        if type(liste_pours_groupe['votant']) == dict:\n",
    "            df_votants = df_votants.append({'idScrutin': idScrutin, 'idVotant':liste_pours_groupe['votant']['acteurRef'], 'vote' : 'Pour', 'organeRefGroupe' : organe_ref_groupe}, ignore_index=True)\n",
    "        else :\n",
    "            for vote in liste_pours_groupe['votant']:\n",
    "                df_votants = df_votants.append({'idScrutin': idScrutin, 'idVotant' : vote['acteurRef'], 'vote' : 'Pour', 'organeRefGroupe' : organe_ref_groupe}, ignore_index=True)\n",
    "\n",
    "    if not liste_contres_groupe is None:\n",
    "        if type(liste_contres_groupe['votant']) == dict:\n",
    "            df_votants = df_votants.append({'idScrutin': idScrutin, 'idVotant':liste_contres_groupe['votant']['acteurRef'], 'vote' : 'Contre', 'organeRefGroupe' : organe_ref_groupe}, ignore_index=True)\n",
    "        else :\n",
    "            for vote in liste_contres_groupe['votant']:\n",
    "                df_votants = df_votants.append({'idScrutin': idScrutin, 'idVotant' : vote['acteurRef'], 'vote' : 'Contre', 'organeRefGroupe' : organe_ref_groupe}, ignore_index=True)\n",
    "\n",
    "df_votants"
   ]
  },
  {
   "cell_type": "code",
   "execution_count": 7,
   "metadata": {},
   "outputs": [],
   "source": [
    "df_votants.to_csv('votants.csv')"
   ]
  },
  {
   "cell_type": "code",
   "execution_count": 8,
   "metadata": {},
   "outputs": [],
   "source": [
    "df_scrutin = pd.DataFrame(columns = ['idScrutin', 'date_scrutin', 'code_type_vote', 'titre', 'demandeur', 'organe_ref', 'votants', \n",
    "                                     'pour', 'contre', 'non_votants', 'non_votants_volontaires', 'abstention', 'resultat'])\n",
    "\n",
    "for idScrutin, scrutin in data_dict.items():\n",
    "    scrutin = scrutin['scrutin']\n",
    "    df_scrutin = df_scrutin.append({'idScrutin' : idScrutin, 'date_scrutin' : scrutin['dateScrutin'], 'code_type_vote': scrutin['typeVote']['codeTypeVote'],\n",
    "                  'titre' : scrutin['titre'], 'demandeur' : scrutin['demandeur']['texte'], 'organe_ref' : scrutin['organeRef'],\n",
    "                  'votants': scrutin['syntheseVote']['nombreVotants'], 'pour' : scrutin['syntheseVote']['decompte']['pour'], \n",
    "                  'contre' : scrutin['syntheseVote']['decompte']['contre'], 'non_votants' : scrutin['syntheseVote']['decompte']['nonVotants'],\n",
    "                  'non_votants_volontaires' : scrutin['syntheseVote']['decompte']['nonVotantsVolontaires'],\n",
    "                  'abstention': scrutin['syntheseVote']['decompte']['abstentions'],'resultat': scrutin['sort']['code']}, ignore_index=True)\n",
    "\n",
    "df_scrutin"
   ]
  },
  {
   "cell_type": "code",
   "execution_count": 9,
   "metadata": {},
   "outputs": [],
   "source": [
    "df_scrutin.to_csv('database_scrutins.csv')"
   ]
  }
 ],
 "metadata": {
  "kernelspec": {
   "display_name": "Python 3",
   "language": "python",
   "name": "python3"
  },
  "language_info": {
   "codemirror_mode": {
    "name": "ipython",
    "version": 3
   },
   "file_extension": ".py",
   "mimetype": "text/x-python",
   "name": "python",
   "nbconvert_exporter": "python",
   "pygments_lexer": "ipython3",
   "version": "3.7.6"
  }
 },
 "nbformat": 4,
 "nbformat_minor": 4
}
