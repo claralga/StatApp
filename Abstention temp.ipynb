{
 "cells": [
  {
   "cell_type": "code",
   "execution_count": 113,
   "metadata": {},
   "outputs": [],
   "source": [
    "import pandas as pd\n",
    "import numpy as np\n",
    "import matplotlib.pyplot as plt"
   ]
  },
  {
   "cell_type": "code",
   "execution_count": 114,
   "metadata": {},
   "outputs": [],
   "source": [
    "df_votants = pd.read_csv('database_deputes.csv', index_col=0)\n",
    "df_votes = pd.read_csv('database_votes2.csv', index_col=0)\n",
    "df_scrutin = pd.read_csv('database_scrutins.csv', index_col = 'idScrutin')"
   ]
  },
  {
   "cell_type": "code",
   "execution_count": 115,
   "metadata": {},
   "outputs": [],
   "source": [
    "df_modif = df_votes.copy()"
   ]
  },
  {
   "cell_type": "code",
   "execution_count": 116,
   "metadata": {},
   "outputs": [],
   "source": [
    "df_modif['idScrutin'] = df_modif['idScrutin'].astype(str)"
   ]
  },
  {
   "cell_type": "code",
   "execution_count": 117,
   "metadata": {},
   "outputs": [],
   "source": [
    "df_modif['idScrutin'] = 's' + df_modif['idScrutin']"
   ]
  },
  {
   "cell_type": "code",
   "execution_count": 118,
   "metadata": {},
   "outputs": [],
   "source": [
    "d = {'Non-votant': 'Nonvotant'}\n",
    "df_modif['vote'] = df_modif['vote'].replace(d)"
   ]
  },
  {
   "cell_type": "code",
   "execution_count": 119,
   "metadata": {
    "scrolled": false
   },
   "outputs": [
    {
     "data": {
      "text/html": [
       "<div>\n",
       "<style scoped>\n",
       "    .dataframe tbody tr th:only-of-type {\n",
       "        vertical-align: middle;\n",
       "    }\n",
       "\n",
       "    .dataframe tbody tr th {\n",
       "        vertical-align: top;\n",
       "    }\n",
       "\n",
       "    .dataframe thead th {\n",
       "        text-align: right;\n",
       "    }\n",
       "</style>\n",
       "<table border=\"1\" class=\"dataframe\">\n",
       "  <thead>\n",
       "    <tr style=\"text-align: right;\">\n",
       "      <th></th>\n",
       "      <th>s0_Nonvotant</th>\n",
       "      <th>s0_Pour</th>\n",
       "      <th>s1_Contre</th>\n",
       "      <th>s1_Nonvotant</th>\n",
       "      <th>s1_Pour</th>\n",
       "      <th>s10_Nonvotant</th>\n",
       "      <th>s10_Pour</th>\n",
       "      <th>s100_Contre</th>\n",
       "      <th>s100_Nonvotant</th>\n",
       "      <th>s100_Pour</th>\n",
       "      <th>...</th>\n",
       "      <th>s996_Pour</th>\n",
       "      <th>s997_Contre</th>\n",
       "      <th>s997_Nonvotant</th>\n",
       "      <th>s997_Pour</th>\n",
       "      <th>s998_Contre</th>\n",
       "      <th>s998_Nonvotant</th>\n",
       "      <th>s998_Pour</th>\n",
       "      <th>s999_Contre</th>\n",
       "      <th>s999_Nonvotant</th>\n",
       "      <th>s999_Pour</th>\n",
       "    </tr>\n",
       "    <tr>\n",
       "      <th>idVotant</th>\n",
       "      <th></th>\n",
       "      <th></th>\n",
       "      <th></th>\n",
       "      <th></th>\n",
       "      <th></th>\n",
       "      <th></th>\n",
       "      <th></th>\n",
       "      <th></th>\n",
       "      <th></th>\n",
       "      <th></th>\n",
       "      <th></th>\n",
       "      <th></th>\n",
       "      <th></th>\n",
       "      <th></th>\n",
       "      <th></th>\n",
       "      <th></th>\n",
       "      <th></th>\n",
       "      <th></th>\n",
       "      <th></th>\n",
       "      <th></th>\n",
       "      <th></th>\n",
       "    </tr>\n",
       "  </thead>\n",
       "  <tbody>\n",
       "    <tr>\n",
       "      <th>PA1008</th>\n",
       "      <td>1</td>\n",
       "      <td>0</td>\n",
       "      <td>0</td>\n",
       "      <td>1</td>\n",
       "      <td>0</td>\n",
       "      <td>1</td>\n",
       "      <td>0</td>\n",
       "      <td>0</td>\n",
       "      <td>1</td>\n",
       "      <td>0</td>\n",
       "      <td>...</td>\n",
       "      <td>0</td>\n",
       "      <td>0</td>\n",
       "      <td>1</td>\n",
       "      <td>0</td>\n",
       "      <td>0</td>\n",
       "      <td>1</td>\n",
       "      <td>0</td>\n",
       "      <td>0</td>\n",
       "      <td>0</td>\n",
       "      <td>1</td>\n",
       "    </tr>\n",
       "    <tr>\n",
       "      <th>PA1012</th>\n",
       "      <td>1</td>\n",
       "      <td>0</td>\n",
       "      <td>0</td>\n",
       "      <td>1</td>\n",
       "      <td>0</td>\n",
       "      <td>1</td>\n",
       "      <td>0</td>\n",
       "      <td>0</td>\n",
       "      <td>1</td>\n",
       "      <td>0</td>\n",
       "      <td>...</td>\n",
       "      <td>0</td>\n",
       "      <td>0</td>\n",
       "      <td>1</td>\n",
       "      <td>0</td>\n",
       "      <td>0</td>\n",
       "      <td>1</td>\n",
       "      <td>0</td>\n",
       "      <td>0</td>\n",
       "      <td>1</td>\n",
       "      <td>0</td>\n",
       "    </tr>\n",
       "    <tr>\n",
       "      <th>PA1029</th>\n",
       "      <td>1</td>\n",
       "      <td>0</td>\n",
       "      <td>0</td>\n",
       "      <td>1</td>\n",
       "      <td>0</td>\n",
       "      <td>1</td>\n",
       "      <td>0</td>\n",
       "      <td>0</td>\n",
       "      <td>1</td>\n",
       "      <td>0</td>\n",
       "      <td>...</td>\n",
       "      <td>0</td>\n",
       "      <td>0</td>\n",
       "      <td>1</td>\n",
       "      <td>0</td>\n",
       "      <td>0</td>\n",
       "      <td>1</td>\n",
       "      <td>0</td>\n",
       "      <td>0</td>\n",
       "      <td>1</td>\n",
       "      <td>0</td>\n",
       "    </tr>\n",
       "    <tr>\n",
       "      <th>PA1198</th>\n",
       "      <td>1</td>\n",
       "      <td>0</td>\n",
       "      <td>0</td>\n",
       "      <td>1</td>\n",
       "      <td>0</td>\n",
       "      <td>1</td>\n",
       "      <td>0</td>\n",
       "      <td>0</td>\n",
       "      <td>1</td>\n",
       "      <td>0</td>\n",
       "      <td>...</td>\n",
       "      <td>0</td>\n",
       "      <td>0</td>\n",
       "      <td>1</td>\n",
       "      <td>0</td>\n",
       "      <td>0</td>\n",
       "      <td>1</td>\n",
       "      <td>0</td>\n",
       "      <td>0</td>\n",
       "      <td>1</td>\n",
       "      <td>0</td>\n",
       "    </tr>\n",
       "    <tr>\n",
       "      <th>PA1206</th>\n",
       "      <td>1</td>\n",
       "      <td>0</td>\n",
       "      <td>0</td>\n",
       "      <td>1</td>\n",
       "      <td>0</td>\n",
       "      <td>1</td>\n",
       "      <td>0</td>\n",
       "      <td>0</td>\n",
       "      <td>1</td>\n",
       "      <td>0</td>\n",
       "      <td>...</td>\n",
       "      <td>0</td>\n",
       "      <td>0</td>\n",
       "      <td>1</td>\n",
       "      <td>0</td>\n",
       "      <td>0</td>\n",
       "      <td>1</td>\n",
       "      <td>0</td>\n",
       "      <td>0</td>\n",
       "      <td>1</td>\n",
       "      <td>0</td>\n",
       "    </tr>\n",
       "    <tr>\n",
       "      <th>...</th>\n",
       "      <td>...</td>\n",
       "      <td>...</td>\n",
       "      <td>...</td>\n",
       "      <td>...</td>\n",
       "      <td>...</td>\n",
       "      <td>...</td>\n",
       "      <td>...</td>\n",
       "      <td>...</td>\n",
       "      <td>...</td>\n",
       "      <td>...</td>\n",
       "      <td>...</td>\n",
       "      <td>...</td>\n",
       "      <td>...</td>\n",
       "      <td>...</td>\n",
       "      <td>...</td>\n",
       "      <td>...</td>\n",
       "      <td>...</td>\n",
       "      <td>...</td>\n",
       "      <td>...</td>\n",
       "      <td>...</td>\n",
       "      <td>...</td>\n",
       "    </tr>\n",
       "    <tr>\n",
       "      <th>PA774962</th>\n",
       "      <td>1</td>\n",
       "      <td>0</td>\n",
       "      <td>0</td>\n",
       "      <td>1</td>\n",
       "      <td>0</td>\n",
       "      <td>1</td>\n",
       "      <td>0</td>\n",
       "      <td>0</td>\n",
       "      <td>1</td>\n",
       "      <td>0</td>\n",
       "      <td>...</td>\n",
       "      <td>0</td>\n",
       "      <td>0</td>\n",
       "      <td>1</td>\n",
       "      <td>0</td>\n",
       "      <td>0</td>\n",
       "      <td>1</td>\n",
       "      <td>0</td>\n",
       "      <td>0</td>\n",
       "      <td>1</td>\n",
       "      <td>0</td>\n",
       "    </tr>\n",
       "    <tr>\n",
       "      <th>PA856</th>\n",
       "      <td>1</td>\n",
       "      <td>0</td>\n",
       "      <td>0</td>\n",
       "      <td>1</td>\n",
       "      <td>0</td>\n",
       "      <td>1</td>\n",
       "      <td>0</td>\n",
       "      <td>0</td>\n",
       "      <td>1</td>\n",
       "      <td>0</td>\n",
       "      <td>...</td>\n",
       "      <td>0</td>\n",
       "      <td>0</td>\n",
       "      <td>1</td>\n",
       "      <td>0</td>\n",
       "      <td>0</td>\n",
       "      <td>1</td>\n",
       "      <td>0</td>\n",
       "      <td>0</td>\n",
       "      <td>1</td>\n",
       "      <td>0</td>\n",
       "    </tr>\n",
       "    <tr>\n",
       "      <th>PA923</th>\n",
       "      <td>1</td>\n",
       "      <td>0</td>\n",
       "      <td>0</td>\n",
       "      <td>1</td>\n",
       "      <td>0</td>\n",
       "      <td>1</td>\n",
       "      <td>0</td>\n",
       "      <td>0</td>\n",
       "      <td>1</td>\n",
       "      <td>0</td>\n",
       "      <td>...</td>\n",
       "      <td>0</td>\n",
       "      <td>0</td>\n",
       "      <td>1</td>\n",
       "      <td>0</td>\n",
       "      <td>0</td>\n",
       "      <td>1</td>\n",
       "      <td>0</td>\n",
       "      <td>0</td>\n",
       "      <td>1</td>\n",
       "      <td>0</td>\n",
       "    </tr>\n",
       "    <tr>\n",
       "      <th>PA942</th>\n",
       "      <td>1</td>\n",
       "      <td>0</td>\n",
       "      <td>0</td>\n",
       "      <td>1</td>\n",
       "      <td>0</td>\n",
       "      <td>1</td>\n",
       "      <td>0</td>\n",
       "      <td>0</td>\n",
       "      <td>1</td>\n",
       "      <td>0</td>\n",
       "      <td>...</td>\n",
       "      <td>0</td>\n",
       "      <td>1</td>\n",
       "      <td>0</td>\n",
       "      <td>0</td>\n",
       "      <td>0</td>\n",
       "      <td>1</td>\n",
       "      <td>0</td>\n",
       "      <td>0</td>\n",
       "      <td>1</td>\n",
       "      <td>0</td>\n",
       "    </tr>\n",
       "    <tr>\n",
       "      <th>PA998</th>\n",
       "      <td>1</td>\n",
       "      <td>0</td>\n",
       "      <td>0</td>\n",
       "      <td>1</td>\n",
       "      <td>0</td>\n",
       "      <td>1</td>\n",
       "      <td>0</td>\n",
       "      <td>0</td>\n",
       "      <td>1</td>\n",
       "      <td>0</td>\n",
       "      <td>...</td>\n",
       "      <td>0</td>\n",
       "      <td>0</td>\n",
       "      <td>1</td>\n",
       "      <td>0</td>\n",
       "      <td>0</td>\n",
       "      <td>1</td>\n",
       "      <td>0</td>\n",
       "      <td>0</td>\n",
       "      <td>1</td>\n",
       "      <td>0</td>\n",
       "    </tr>\n",
       "  </tbody>\n",
       "</table>\n",
       "<p>575 rows × 9163 columns</p>\n",
       "</div>"
      ],
      "text/plain": [
       "          s0_Nonvotant  s0_Pour  s1_Contre  s1_Nonvotant  s1_Pour  \\\n",
       "idVotant                                                            \n",
       "PA1008               1        0          0             1        0   \n",
       "PA1012               1        0          0             1        0   \n",
       "PA1029               1        0          0             1        0   \n",
       "PA1198               1        0          0             1        0   \n",
       "PA1206               1        0          0             1        0   \n",
       "...                ...      ...        ...           ...      ...   \n",
       "PA774962             1        0          0             1        0   \n",
       "PA856                1        0          0             1        0   \n",
       "PA923                1        0          0             1        0   \n",
       "PA942                1        0          0             1        0   \n",
       "PA998                1        0          0             1        0   \n",
       "\n",
       "          s10_Nonvotant  s10_Pour  s100_Contre  s100_Nonvotant  s100_Pour  \\\n",
       "idVotant                                                                    \n",
       "PA1008                1         0            0               1          0   \n",
       "PA1012                1         0            0               1          0   \n",
       "PA1029                1         0            0               1          0   \n",
       "PA1198                1         0            0               1          0   \n",
       "PA1206                1         0            0               1          0   \n",
       "...                 ...       ...          ...             ...        ...   \n",
       "PA774962              1         0            0               1          0   \n",
       "PA856                 1         0            0               1          0   \n",
       "PA923                 1         0            0               1          0   \n",
       "PA942                 1         0            0               1          0   \n",
       "PA998                 1         0            0               1          0   \n",
       "\n",
       "          ...  s996_Pour  s997_Contre  s997_Nonvotant  s997_Pour  s998_Contre  \\\n",
       "idVotant  ...                                                                   \n",
       "PA1008    ...          0            0               1          0            0   \n",
       "PA1012    ...          0            0               1          0            0   \n",
       "PA1029    ...          0            0               1          0            0   \n",
       "PA1198    ...          0            0               1          0            0   \n",
       "PA1206    ...          0            0               1          0            0   \n",
       "...       ...        ...          ...             ...        ...          ...   \n",
       "PA774962  ...          0            0               1          0            0   \n",
       "PA856     ...          0            0               1          0            0   \n",
       "PA923     ...          0            0               1          0            0   \n",
       "PA942     ...          0            1               0          0            0   \n",
       "PA998     ...          0            0               1          0            0   \n",
       "\n",
       "          s998_Nonvotant  s998_Pour  s999_Contre  s999_Nonvotant  s999_Pour  \n",
       "idVotant                                                                     \n",
       "PA1008                 1          0            0               0          1  \n",
       "PA1012                 1          0            0               1          0  \n",
       "PA1029                 1          0            0               1          0  \n",
       "PA1198                 1          0            0               1          0  \n",
       "PA1206                 1          0            0               1          0  \n",
       "...                  ...        ...          ...             ...        ...  \n",
       "PA774962               1          0            0               1          0  \n",
       "PA856                  1          0            0               1          0  \n",
       "PA923                  1          0            0               1          0  \n",
       "PA942                  1          0            0               1          0  \n",
       "PA998                  1          0            0               1          0  \n",
       "\n",
       "[575 rows x 9163 columns]"
      ]
     },
     "execution_count": 119,
     "metadata": {},
     "output_type": "execute_result"
    }
   ],
   "source": [
    "df_modif = df_modif.pivot(index = 'idVotant', columns = 'idScrutin', values = 'vote' )\n",
    "df_modif = df_modif.fillna('Nonvotant')\n",
    "df_modif = pd.get_dummies(df_modif)\n",
    "df_modif"
   ]
  },
  {
   "cell_type": "code",
   "execution_count": 120,
   "metadata": {},
   "outputs": [],
   "source": [
    "df_modif = df_modif [df_modif.columns[df_modif .columns.str.endswith(\"_Nonvotant\")]]"
   ]
  },
  {
   "cell_type": "code",
   "execution_count": 121,
   "metadata": {},
   "outputs": [
    {
     "data": {
      "text/html": [
       "<div>\n",
       "<style scoped>\n",
       "    .dataframe tbody tr th:only-of-type {\n",
       "        vertical-align: middle;\n",
       "    }\n",
       "\n",
       "    .dataframe tbody tr th {\n",
       "        vertical-align: top;\n",
       "    }\n",
       "\n",
       "    .dataframe thead th {\n",
       "        text-align: right;\n",
       "    }\n",
       "</style>\n",
       "<table border=\"1\" class=\"dataframe\">\n",
       "  <thead>\n",
       "    <tr style=\"text-align: right;\">\n",
       "      <th></th>\n",
       "      <th>s0_Nonvotant</th>\n",
       "      <th>s1_Nonvotant</th>\n",
       "      <th>s10_Nonvotant</th>\n",
       "      <th>s100_Nonvotant</th>\n",
       "      <th>s1000_Nonvotant</th>\n",
       "      <th>s1001_Nonvotant</th>\n",
       "      <th>s1002_Nonvotant</th>\n",
       "      <th>s1003_Nonvotant</th>\n",
       "      <th>s1004_Nonvotant</th>\n",
       "      <th>s1005_Nonvotant</th>\n",
       "      <th>...</th>\n",
       "      <th>s990_Nonvotant</th>\n",
       "      <th>s991_Nonvotant</th>\n",
       "      <th>s992_Nonvotant</th>\n",
       "      <th>s993_Nonvotant</th>\n",
       "      <th>s994_Nonvotant</th>\n",
       "      <th>s995_Nonvotant</th>\n",
       "      <th>s996_Nonvotant</th>\n",
       "      <th>s997_Nonvotant</th>\n",
       "      <th>s998_Nonvotant</th>\n",
       "      <th>s999_Nonvotant</th>\n",
       "    </tr>\n",
       "    <tr>\n",
       "      <th>idVotant</th>\n",
       "      <th></th>\n",
       "      <th></th>\n",
       "      <th></th>\n",
       "      <th></th>\n",
       "      <th></th>\n",
       "      <th></th>\n",
       "      <th></th>\n",
       "      <th></th>\n",
       "      <th></th>\n",
       "      <th></th>\n",
       "      <th></th>\n",
       "      <th></th>\n",
       "      <th></th>\n",
       "      <th></th>\n",
       "      <th></th>\n",
       "      <th></th>\n",
       "      <th></th>\n",
       "      <th></th>\n",
       "      <th></th>\n",
       "      <th></th>\n",
       "      <th></th>\n",
       "    </tr>\n",
       "  </thead>\n",
       "  <tbody>\n",
       "    <tr>\n",
       "      <th>PA1008</th>\n",
       "      <td>1</td>\n",
       "      <td>1</td>\n",
       "      <td>1</td>\n",
       "      <td>1</td>\n",
       "      <td>1</td>\n",
       "      <td>1</td>\n",
       "      <td>1</td>\n",
       "      <td>0</td>\n",
       "      <td>1</td>\n",
       "      <td>0</td>\n",
       "      <td>...</td>\n",
       "      <td>1</td>\n",
       "      <td>1</td>\n",
       "      <td>1</td>\n",
       "      <td>0</td>\n",
       "      <td>1</td>\n",
       "      <td>1</td>\n",
       "      <td>1</td>\n",
       "      <td>1</td>\n",
       "      <td>1</td>\n",
       "      <td>0</td>\n",
       "    </tr>\n",
       "    <tr>\n",
       "      <th>PA1012</th>\n",
       "      <td>1</td>\n",
       "      <td>1</td>\n",
       "      <td>1</td>\n",
       "      <td>1</td>\n",
       "      <td>1</td>\n",
       "      <td>1</td>\n",
       "      <td>1</td>\n",
       "      <td>1</td>\n",
       "      <td>0</td>\n",
       "      <td>0</td>\n",
       "      <td>...</td>\n",
       "      <td>1</td>\n",
       "      <td>1</td>\n",
       "      <td>1</td>\n",
       "      <td>1</td>\n",
       "      <td>1</td>\n",
       "      <td>1</td>\n",
       "      <td>1</td>\n",
       "      <td>1</td>\n",
       "      <td>1</td>\n",
       "      <td>1</td>\n",
       "    </tr>\n",
       "    <tr>\n",
       "      <th>PA1029</th>\n",
       "      <td>1</td>\n",
       "      <td>1</td>\n",
       "      <td>1</td>\n",
       "      <td>1</td>\n",
       "      <td>1</td>\n",
       "      <td>1</td>\n",
       "      <td>1</td>\n",
       "      <td>1</td>\n",
       "      <td>1</td>\n",
       "      <td>0</td>\n",
       "      <td>...</td>\n",
       "      <td>1</td>\n",
       "      <td>1</td>\n",
       "      <td>1</td>\n",
       "      <td>1</td>\n",
       "      <td>1</td>\n",
       "      <td>1</td>\n",
       "      <td>1</td>\n",
       "      <td>1</td>\n",
       "      <td>1</td>\n",
       "      <td>1</td>\n",
       "    </tr>\n",
       "    <tr>\n",
       "      <th>PA1198</th>\n",
       "      <td>1</td>\n",
       "      <td>1</td>\n",
       "      <td>1</td>\n",
       "      <td>1</td>\n",
       "      <td>1</td>\n",
       "      <td>1</td>\n",
       "      <td>1</td>\n",
       "      <td>1</td>\n",
       "      <td>1</td>\n",
       "      <td>0</td>\n",
       "      <td>...</td>\n",
       "      <td>1</td>\n",
       "      <td>1</td>\n",
       "      <td>1</td>\n",
       "      <td>0</td>\n",
       "      <td>1</td>\n",
       "      <td>1</td>\n",
       "      <td>1</td>\n",
       "      <td>1</td>\n",
       "      <td>1</td>\n",
       "      <td>1</td>\n",
       "    </tr>\n",
       "    <tr>\n",
       "      <th>PA1206</th>\n",
       "      <td>1</td>\n",
       "      <td>1</td>\n",
       "      <td>1</td>\n",
       "      <td>1</td>\n",
       "      <td>1</td>\n",
       "      <td>1</td>\n",
       "      <td>0</td>\n",
       "      <td>1</td>\n",
       "      <td>1</td>\n",
       "      <td>0</td>\n",
       "      <td>...</td>\n",
       "      <td>1</td>\n",
       "      <td>1</td>\n",
       "      <td>1</td>\n",
       "      <td>0</td>\n",
       "      <td>1</td>\n",
       "      <td>1</td>\n",
       "      <td>1</td>\n",
       "      <td>1</td>\n",
       "      <td>1</td>\n",
       "      <td>1</td>\n",
       "    </tr>\n",
       "    <tr>\n",
       "      <th>...</th>\n",
       "      <td>...</td>\n",
       "      <td>...</td>\n",
       "      <td>...</td>\n",
       "      <td>...</td>\n",
       "      <td>...</td>\n",
       "      <td>...</td>\n",
       "      <td>...</td>\n",
       "      <td>...</td>\n",
       "      <td>...</td>\n",
       "      <td>...</td>\n",
       "      <td>...</td>\n",
       "      <td>...</td>\n",
       "      <td>...</td>\n",
       "      <td>...</td>\n",
       "      <td>...</td>\n",
       "      <td>...</td>\n",
       "      <td>...</td>\n",
       "      <td>...</td>\n",
       "      <td>...</td>\n",
       "      <td>...</td>\n",
       "      <td>...</td>\n",
       "    </tr>\n",
       "    <tr>\n",
       "      <th>PA774962</th>\n",
       "      <td>1</td>\n",
       "      <td>1</td>\n",
       "      <td>1</td>\n",
       "      <td>1</td>\n",
       "      <td>1</td>\n",
       "      <td>1</td>\n",
       "      <td>1</td>\n",
       "      <td>1</td>\n",
       "      <td>1</td>\n",
       "      <td>1</td>\n",
       "      <td>...</td>\n",
       "      <td>1</td>\n",
       "      <td>1</td>\n",
       "      <td>1</td>\n",
       "      <td>1</td>\n",
       "      <td>1</td>\n",
       "      <td>1</td>\n",
       "      <td>1</td>\n",
       "      <td>1</td>\n",
       "      <td>1</td>\n",
       "      <td>1</td>\n",
       "    </tr>\n",
       "    <tr>\n",
       "      <th>PA856</th>\n",
       "      <td>1</td>\n",
       "      <td>1</td>\n",
       "      <td>1</td>\n",
       "      <td>1</td>\n",
       "      <td>1</td>\n",
       "      <td>1</td>\n",
       "      <td>1</td>\n",
       "      <td>1</td>\n",
       "      <td>0</td>\n",
       "      <td>0</td>\n",
       "      <td>...</td>\n",
       "      <td>1</td>\n",
       "      <td>1</td>\n",
       "      <td>1</td>\n",
       "      <td>1</td>\n",
       "      <td>0</td>\n",
       "      <td>1</td>\n",
       "      <td>1</td>\n",
       "      <td>1</td>\n",
       "      <td>1</td>\n",
       "      <td>1</td>\n",
       "    </tr>\n",
       "    <tr>\n",
       "      <th>PA923</th>\n",
       "      <td>1</td>\n",
       "      <td>1</td>\n",
       "      <td>1</td>\n",
       "      <td>1</td>\n",
       "      <td>1</td>\n",
       "      <td>1</td>\n",
       "      <td>1</td>\n",
       "      <td>1</td>\n",
       "      <td>1</td>\n",
       "      <td>0</td>\n",
       "      <td>...</td>\n",
       "      <td>1</td>\n",
       "      <td>1</td>\n",
       "      <td>1</td>\n",
       "      <td>1</td>\n",
       "      <td>1</td>\n",
       "      <td>1</td>\n",
       "      <td>1</td>\n",
       "      <td>1</td>\n",
       "      <td>1</td>\n",
       "      <td>1</td>\n",
       "    </tr>\n",
       "    <tr>\n",
       "      <th>PA942</th>\n",
       "      <td>1</td>\n",
       "      <td>1</td>\n",
       "      <td>1</td>\n",
       "      <td>1</td>\n",
       "      <td>1</td>\n",
       "      <td>1</td>\n",
       "      <td>1</td>\n",
       "      <td>1</td>\n",
       "      <td>1</td>\n",
       "      <td>1</td>\n",
       "      <td>...</td>\n",
       "      <td>0</td>\n",
       "      <td>1</td>\n",
       "      <td>1</td>\n",
       "      <td>0</td>\n",
       "      <td>1</td>\n",
       "      <td>1</td>\n",
       "      <td>1</td>\n",
       "      <td>0</td>\n",
       "      <td>1</td>\n",
       "      <td>1</td>\n",
       "    </tr>\n",
       "    <tr>\n",
       "      <th>PA998</th>\n",
       "      <td>1</td>\n",
       "      <td>1</td>\n",
       "      <td>1</td>\n",
       "      <td>1</td>\n",
       "      <td>1</td>\n",
       "      <td>1</td>\n",
       "      <td>1</td>\n",
       "      <td>1</td>\n",
       "      <td>1</td>\n",
       "      <td>0</td>\n",
       "      <td>...</td>\n",
       "      <td>1</td>\n",
       "      <td>1</td>\n",
       "      <td>1</td>\n",
       "      <td>1</td>\n",
       "      <td>1</td>\n",
       "      <td>1</td>\n",
       "      <td>1</td>\n",
       "      <td>1</td>\n",
       "      <td>1</td>\n",
       "      <td>1</td>\n",
       "    </tr>\n",
       "  </tbody>\n",
       "</table>\n",
       "<p>575 rows × 3117 columns</p>\n",
       "</div>"
      ],
      "text/plain": [
       "          s0_Nonvotant  s1_Nonvotant  s10_Nonvotant  s100_Nonvotant  \\\n",
       "idVotant                                                              \n",
       "PA1008               1             1              1               1   \n",
       "PA1012               1             1              1               1   \n",
       "PA1029               1             1              1               1   \n",
       "PA1198               1             1              1               1   \n",
       "PA1206               1             1              1               1   \n",
       "...                ...           ...            ...             ...   \n",
       "PA774962             1             1              1               1   \n",
       "PA856                1             1              1               1   \n",
       "PA923                1             1              1               1   \n",
       "PA942                1             1              1               1   \n",
       "PA998                1             1              1               1   \n",
       "\n",
       "          s1000_Nonvotant  s1001_Nonvotant  s1002_Nonvotant  s1003_Nonvotant  \\\n",
       "idVotant                                                                       \n",
       "PA1008                  1                1                1                0   \n",
       "PA1012                  1                1                1                1   \n",
       "PA1029                  1                1                1                1   \n",
       "PA1198                  1                1                1                1   \n",
       "PA1206                  1                1                0                1   \n",
       "...                   ...              ...              ...              ...   \n",
       "PA774962                1                1                1                1   \n",
       "PA856                   1                1                1                1   \n",
       "PA923                   1                1                1                1   \n",
       "PA942                   1                1                1                1   \n",
       "PA998                   1                1                1                1   \n",
       "\n",
       "          s1004_Nonvotant  s1005_Nonvotant  ...  s990_Nonvotant  \\\n",
       "idVotant                                    ...                   \n",
       "PA1008                  1                0  ...               1   \n",
       "PA1012                  0                0  ...               1   \n",
       "PA1029                  1                0  ...               1   \n",
       "PA1198                  1                0  ...               1   \n",
       "PA1206                  1                0  ...               1   \n",
       "...                   ...              ...  ...             ...   \n",
       "PA774962                1                1  ...               1   \n",
       "PA856                   0                0  ...               1   \n",
       "PA923                   1                0  ...               1   \n",
       "PA942                   1                1  ...               0   \n",
       "PA998                   1                0  ...               1   \n",
       "\n",
       "          s991_Nonvotant  s992_Nonvotant  s993_Nonvotant  s994_Nonvotant  \\\n",
       "idVotant                                                                   \n",
       "PA1008                 1               1               0               1   \n",
       "PA1012                 1               1               1               1   \n",
       "PA1029                 1               1               1               1   \n",
       "PA1198                 1               1               0               1   \n",
       "PA1206                 1               1               0               1   \n",
       "...                  ...             ...             ...             ...   \n",
       "PA774962               1               1               1               1   \n",
       "PA856                  1               1               1               0   \n",
       "PA923                  1               1               1               1   \n",
       "PA942                  1               1               0               1   \n",
       "PA998                  1               1               1               1   \n",
       "\n",
       "          s995_Nonvotant  s996_Nonvotant  s997_Nonvotant  s998_Nonvotant  \\\n",
       "idVotant                                                                   \n",
       "PA1008                 1               1               1               1   \n",
       "PA1012                 1               1               1               1   \n",
       "PA1029                 1               1               1               1   \n",
       "PA1198                 1               1               1               1   \n",
       "PA1206                 1               1               1               1   \n",
       "...                  ...             ...             ...             ...   \n",
       "PA774962               1               1               1               1   \n",
       "PA856                  1               1               1               1   \n",
       "PA923                  1               1               1               1   \n",
       "PA942                  1               1               0               1   \n",
       "PA998                  1               1               1               1   \n",
       "\n",
       "          s999_Nonvotant  \n",
       "idVotant                  \n",
       "PA1008                 0  \n",
       "PA1012                 1  \n",
       "PA1029                 1  \n",
       "PA1198                 1  \n",
       "PA1206                 1  \n",
       "...                  ...  \n",
       "PA774962               1  \n",
       "PA856                  1  \n",
       "PA923                  1  \n",
       "PA942                  1  \n",
       "PA998                  1  \n",
       "\n",
       "[575 rows x 3117 columns]"
      ]
     },
     "execution_count": 121,
     "metadata": {},
     "output_type": "execute_result"
    }
   ],
   "source": [
    "df_modif"
   ]
  },
  {
   "cell_type": "code",
   "execution_count": 122,
   "metadata": {},
   "outputs": [],
   "source": [
    "abst = pd.DataFrame(df_modif.sum(axis = 0))"
   ]
  },
  {
   "cell_type": "code",
   "execution_count": 308,
   "metadata": {},
   "outputs": [],
   "source": [
    "abst.to_csv('abst.csv',index=True)"
   ]
  },
  {
   "cell_type": "code",
   "execution_count": 123,
   "metadata": {},
   "outputs": [],
   "source": [
    "num_scrutins = []\n",
    "for name in df_modif.columns : \n",
    "    souschaine = name[:name.find('_Nonvotant')]\n",
    "    souschaine = souschaine[1:]\n",
    "    num_scrutins.append(souschaine)"
   ]
  },
  {
   "cell_type": "code",
   "execution_count": 124,
   "metadata": {},
   "outputs": [],
   "source": [
    "abst['idScrutin'] = num_scrutins"
   ]
  },
  {
   "cell_type": "code",
   "execution_count": 125,
   "metadata": {},
   "outputs": [],
   "source": [
    "abst = abst.set_index(['idScrutin'])"
   ]
  },
  {
   "cell_type": "code",
   "execution_count": 126,
   "metadata": {},
   "outputs": [],
   "source": [
    "abst = abst.rename(columns={0: \"nbrabstention\"})"
   ]
  },
  {
   "cell_type": "code",
   "execution_count": 127,
   "metadata": {},
   "outputs": [],
   "source": [
    "abst['ratioabstention'] = abst['nbrabstention']/575"
   ]
  },
  {
   "cell_type": "code",
   "execution_count": 128,
   "metadata": {
    "scrolled": true
   },
   "outputs": [],
   "source": [
    "abst.index = abst.index.astype(int)"
   ]
  },
  {
   "cell_type": "code",
   "execution_count": 129,
   "metadata": {
    "scrolled": true
   },
   "outputs": [
    {
     "data": {
      "image/png": "[encoded data removed]",
      "text/plain": [
       "<Figure size 432x288 with 1 Axes>"
      ]
     },
     "metadata": {
      "needs_background": "light"
     },
     "output_type": "display_data"
    }
   ],
   "source": [
    "z = plt.hist(abst['ratioabstention'], bins = 100)"
   ]
  },
  {
   "cell_type": "markdown",
   "metadata": {},
   "source": [
    "Abstention très forte : > 80% #2523 scrutins\n",
    "Abstention moyenne : entre 20% et 80% #528 scrutins\n",
    "Abstention très faible : <20% #66 scrutins"
   ]
  },
  {
   "cell_type": "code",
   "execution_count": 103,
   "metadata": {},
   "outputs": [],
   "source": [
    "df_votes = df_votes.merge(abst, on = ['idScrutin'], how = 'left')"
   ]
  },
  {
   "cell_type": "code",
   "execution_count": 104,
   "metadata": {},
   "outputs": [],
   "source": [
    "import seaborn as sns"
   ]
  },
  {
   "cell_type": "code",
   "execution_count": 105,
   "metadata": {},
   "outputs": [
    {
     "data": {
      "text/plain": [
       "Text(0.5, 1.0, 'Ratio votants pour/votants total pour les scrutins avec une abstention forte')"
      ]
     },
     "execution_count": 105,
     "metadata": {},
     "output_type": "execute_result"
    },
    {
     "data": {
      "image/png": "[encoded data removed]",
      "text/plain": [
       "<Figure size 432x288 with 1 Axes>"
      ]
     },
     "metadata": {
      "needs_background": "light"
     },
     "output_type": "display_data"
    }
   ],
   "source": [
    "df_forte = df_votes[df_votes['ratioabstention'] > 0.8]\n",
    "pourcentagepourdf2 = df_forte['pour']/df_forte['votants']\n",
    "sns.histplot(pourcentagepourdf2,color = 'pink', stat = 'density', bins = 20,kde = True)\n",
    "plt.xlabel('ratio votants pour/votants total')\n",
    "plt.ylabel('densité')\n",
    "plt.title(\"Ratio votants pour/votants total pour les scrutins avec une abstention forte\")"
   ]
  },
  {
   "cell_type": "code",
   "execution_count": 106,
   "metadata": {},
   "outputs": [
    {
     "data": {
      "text/plain": [
       "Text(0.5, 1.0, 'Ratio votants pour/votants total pour les scrutins avec une abstention moyenne')"
      ]
     },
     "execution_count": 106,
     "metadata": {},
     "output_type": "execute_result"
    },
    {
     "data": {
      "image/png": "[encoded data removed]",
      "text/plain": [
       "<Figure size 432x288 with 1 Axes>"
      ]
     },
     "metadata": {
      "needs_background": "light"
     },
     "output_type": "display_data"
    }
   ],
   "source": [
    "df_moy = df_votes[(df_votes['ratioabstention'] <= 0.8) & (df_votes['ratioabstention'] >= 0.2)]\n",
    "pourcentagepourdf1 = df_moy['pour']/df_moy['votants']\n",
    "sns.histplot(pourcentagepourdf1,color = 'green', stat = 'density', bins = 20,kde = True)\n",
    "plt.xlabel('ratio votants pour/votants total')\n",
    "plt.ylabel('densité')\n",
    "plt.title(\"Ratio votants pour/votants total pour les scrutins avec une abstention moyenne\")"
   ]
  },
  {
   "cell_type": "code",
   "execution_count": 107,
   "metadata": {},
   "outputs": [
    {
     "data": {
      "text/plain": [
       "Text(0.5, 1.0, 'Ratio votants pour/votants total pour les scrutins avec une abstention nulle')"
      ]
     },
     "execution_count": 107,
     "metadata": {},
     "output_type": "execute_result"
    },
    {
     "data": {
      "image/png": "[encoded data removed]",
      "text/plain": [
       "<Figure size 432x288 with 1 Axes>"
      ]
     },
     "metadata": {
      "needs_background": "light"
     },
     "output_type": "display_data"
    }
   ],
   "source": [
    "df_faible = df_votes[(df_votes['ratioabstention'] < 0.2)]\n",
    "pourcentagepourdf0 = df_faible['pour']/df_faible['votants']\n",
    "sns.histplot(pourcentagepourdf0,color = 'orange', stat = 'density', bins = 20,kde = True)\n",
    "plt.xlabel('ratio votants pour/votants total')\n",
    "plt.ylabel('densité')\n",
    "plt.title(\"Ratio votants pour/votants total pour les scrutins avec une abstention nulle\")"
   ]
  },
  {
   "cell_type": "code",
   "execution_count": 108,
   "metadata": {},
   "outputs": [
    {
     "data": {
      "image/png": "[encoded data removed]",
      "text/plain": [
       "<Figure size 432x288 with 1 Axes>"
      ]
     },
     "metadata": {
      "needs_background": "light"
     },
     "output_type": "display_data"
    }
   ],
   "source": [
    "plt.hist([pourcentagepourdf0, pourcentagepourdf1, pourcentagepourdf2], edgecolor = 'black', color = ['orange', 'green', 'pink'], alpha = 0.7,\n",
    "            histtype = 'bar', label = ['scrutins ayant une abstention nulle', 'scrutins ayant une abstention moyenne', 'scrutins ayant une abstention forte'], density = True) \n",
    "plt.xlabel('Ratio (votants pour) / (votants total)')\n",
    "plt.ylabel('Densité')\n",
    "plt.title(\"Ratio (votants pour) / (votants total) en fonction du niveau d'abstention\")\n",
    "plt.legend()\n",
    "plt.savefig('hist.png')"
   ]
  },
  {
   "cell_type": "code",
   "execution_count": null,
   "metadata": {},
   "outputs": [],
   "source": []
  },
  {
   "cell_type": "code",
   "execution_count": null,
   "metadata": {},
   "outputs": [],
   "source": []
  },
  {
   "cell_type": "code",
   "execution_count": 156,
   "metadata": {},
   "outputs": [
    {
     "data": {
      "text/html": [
       "<div>\n",
       "<style scoped>\n",
       "    .dataframe tbody tr th:only-of-type {\n",
       "        vertical-align: middle;\n",
       "    }\n",
       "\n",
       "    .dataframe tbody tr th {\n",
       "        vertical-align: top;\n",
       "    }\n",
       "\n",
       "    .dataframe thead th {\n",
       "        text-align: right;\n",
       "    }\n",
       "</style>\n",
       "<table border=\"1\" class=\"dataframe\">\n",
       "  <thead>\n",
       "    <tr style=\"text-align: right;\">\n",
       "      <th></th>\n",
       "      <th>idVotant</th>\n",
       "      <th>vote</th>\n",
       "      <th>organeRefGroupe</th>\n",
       "      <th>date_scrutin</th>\n",
       "      <th>code_type_vote</th>\n",
       "      <th>titre</th>\n",
       "      <th>demandeur</th>\n",
       "      <th>organe_ref</th>\n",
       "      <th>votants</th>\n",
       "      <th>pour</th>\n",
       "      <th>...</th>\n",
       "      <th>Numéro de circonscription</th>\n",
       "      <th>Profession</th>\n",
       "      <th>Groupe politique (complet)</th>\n",
       "      <th>Groupe politique (abrégé)</th>\n",
       "      <th>date_naissance</th>\n",
       "      <th>type_mandat</th>\n",
       "      <th>type_organe</th>\n",
       "      <th>qualite_mandat</th>\n",
       "      <th>nbrabstention</th>\n",
       "      <th>ratioabstention</th>\n",
       "    </tr>\n",
       "    <tr>\n",
       "      <th>idScrutin</th>\n",
       "      <th></th>\n",
       "      <th></th>\n",
       "      <th></th>\n",
       "      <th></th>\n",
       "      <th></th>\n",
       "      <th></th>\n",
       "      <th></th>\n",
       "      <th></th>\n",
       "      <th></th>\n",
       "      <th></th>\n",
       "      <th></th>\n",
       "      <th></th>\n",
       "      <th></th>\n",
       "      <th></th>\n",
       "      <th></th>\n",
       "      <th></th>\n",
       "      <th></th>\n",
       "      <th></th>\n",
       "      <th></th>\n",
       "      <th></th>\n",
       "      <th></th>\n",
       "    </tr>\n",
       "  </thead>\n",
       "  <tbody>\n",
       "    <tr>\n",
       "      <th>561</th>\n",
       "      <td>157</td>\n",
       "      <td>157</td>\n",
       "      <td>157</td>\n",
       "      <td>157</td>\n",
       "      <td>157</td>\n",
       "      <td>157</td>\n",
       "      <td>157</td>\n",
       "      <td>157</td>\n",
       "      <td>157</td>\n",
       "      <td>157</td>\n",
       "      <td>...</td>\n",
       "      <td>157</td>\n",
       "      <td>156</td>\n",
       "      <td>157</td>\n",
       "      <td>157</td>\n",
       "      <td>15</td>\n",
       "      <td>15</td>\n",
       "      <td>15</td>\n",
       "      <td>15</td>\n",
       "      <td>157</td>\n",
       "      <td>157</td>\n",
       "    </tr>\n",
       "    <tr>\n",
       "      <th>2727</th>\n",
       "      <td>28</td>\n",
       "      <td>28</td>\n",
       "      <td>28</td>\n",
       "      <td>28</td>\n",
       "      <td>28</td>\n",
       "      <td>28</td>\n",
       "      <td>28</td>\n",
       "      <td>28</td>\n",
       "      <td>28</td>\n",
       "      <td>28</td>\n",
       "      <td>...</td>\n",
       "      <td>28</td>\n",
       "      <td>28</td>\n",
       "      <td>28</td>\n",
       "      <td>28</td>\n",
       "      <td>7</td>\n",
       "      <td>7</td>\n",
       "      <td>7</td>\n",
       "      <td>7</td>\n",
       "      <td>28</td>\n",
       "      <td>28</td>\n",
       "    </tr>\n",
       "    <tr>\n",
       "      <th>2986</th>\n",
       "      <td>48</td>\n",
       "      <td>48</td>\n",
       "      <td>48</td>\n",
       "      <td>48</td>\n",
       "      <td>48</td>\n",
       "      <td>48</td>\n",
       "      <td>48</td>\n",
       "      <td>48</td>\n",
       "      <td>48</td>\n",
       "      <td>48</td>\n",
       "      <td>...</td>\n",
       "      <td>48</td>\n",
       "      <td>47</td>\n",
       "      <td>48</td>\n",
       "      <td>48</td>\n",
       "      <td>4</td>\n",
       "      <td>4</td>\n",
       "      <td>4</td>\n",
       "      <td>4</td>\n",
       "      <td>48</td>\n",
       "      <td>48</td>\n",
       "    </tr>\n",
       "  </tbody>\n",
       "</table>\n",
       "<p>3 rows × 29 columns</p>\n",
       "</div>"
      ],
      "text/plain": [
       "           idVotant  vote  organeRefGroupe  date_scrutin  code_type_vote  \\\n",
       "idScrutin                                                                  \n",
       "561             157   157              157           157             157   \n",
       "2727             28    28               28            28              28   \n",
       "2986             48    48               48            48              48   \n",
       "\n",
       "           titre  demandeur  organe_ref  votants  pour  ...  \\\n",
       "idScrutin                                               ...   \n",
       "561          157        157         157      157   157  ...   \n",
       "2727          28         28          28       28    28  ...   \n",
       "2986          48         48          48       48    48  ...   \n",
       "\n",
       "           Numéro de circonscription  Profession  Groupe politique (complet)  \\\n",
       "idScrutin                                                                      \n",
       "561                              157         156                         157   \n",
       "2727                              28          28                          28   \n",
       "2986                              48          47                          48   \n",
       "\n",
       "           Groupe politique (abrégé)  date_naissance  type_mandat  \\\n",
       "idScrutin                                                           \n",
       "561                              157              15           15   \n",
       "2727                              28               7            7   \n",
       "2986                              48               4            4   \n",
       "\n",
       "           type_organe  qualite_mandat  nbrabstention  ratioabstention  \n",
       "idScrutin                                                               \n",
       "561                 15              15            157              157  \n",
       "2727                 7               7             28               28  \n",
       "2986                 4               4             48               48  \n",
       "\n",
       "[3 rows x 29 columns]"
      ]
     },
     "execution_count": 156,
     "metadata": {},
     "output_type": "execute_result"
    }
   ],
   "source": [
    "df_votes[df_votes['date_scrutin'].str.startswith('2018-08')].groupby('idScrutin').count()"
   ]
  },
  {
   "cell_type": "markdown",
   "metadata": {},
   "source": [
    "On veut voir l'évolution de l'abstention au fil du temps "
   ]
  },
  {
   "cell_type": "code",
   "execution_count": 130,
   "metadata": {
    "scrolled": true
   },
   "outputs": [],
   "source": [
    "df_votes = df_votes.merge(abst, on = ['idScrutin'], how = 'left')"
   ]
  },
  {
   "cell_type": "code",
   "execution_count": 139,
   "metadata": {},
   "outputs": [],
   "source": [
    "df_scrutins = df_votes.sort_values(['date_scrutin'])[['date_scrutin', 'ratioabstention']]\n",
    "df_scrutins = df_scrutins.drop_duplicates()\n",
    "df_copy = df_scrutins.copy()"
   ]
  },
  {
   "cell_type": "code",
   "execution_count": 140,
   "metadata": {},
   "outputs": [],
   "source": [
    "times = pd.DatetimeIndex(df_scrutins['date_scrutin'])\n",
    "df_scrutins = df_scrutins.set_index(keys = times)\n",
    "df_scrutins = df_scrutins.groupby(pd.Grouper(freq = 'M', label = 'right')).mean()"
   ]
  },
  {
   "cell_type": "code",
   "execution_count": 148,
   "metadata": {
    "scrolled": true
   },
   "outputs": [
    {
     "data": {
      "text/html": [
       "<div>\n",
       "<style scoped>\n",
       "    .dataframe tbody tr th:only-of-type {\n",
       "        vertical-align: middle;\n",
       "    }\n",
       "\n",
       "    .dataframe tbody tr th {\n",
       "        vertical-align: top;\n",
       "    }\n",
       "\n",
       "    .dataframe thead th {\n",
       "        text-align: right;\n",
       "    }\n",
       "</style>\n",
       "<table border=\"1\" class=\"dataframe\">\n",
       "  <thead>\n",
       "    <tr style=\"text-align: right;\">\n",
       "      <th></th>\n",
       "      <th>ratioabstention</th>\n",
       "    </tr>\n",
       "    <tr>\n",
       "      <th>date_scrutin</th>\n",
       "      <th></th>\n",
       "    </tr>\n",
       "  </thead>\n",
       "  <tbody>\n",
       "    <tr>\n",
       "      <th>2017-07-31</th>\n",
       "      <td>0.772427</td>\n",
       "    </tr>\n",
       "    <tr>\n",
       "      <th>2017-08-31</th>\n",
       "      <td>0.720696</td>\n",
       "    </tr>\n",
       "    <tr>\n",
       "      <th>2017-09-30</th>\n",
       "      <td>0.849565</td>\n",
       "    </tr>\n",
       "    <tr>\n",
       "      <th>2017-10-31</th>\n",
       "      <td>0.826226</td>\n",
       "    </tr>\n",
       "    <tr>\n",
       "      <th>2017-11-30</th>\n",
       "      <td>0.834126</td>\n",
       "    </tr>\n",
       "    <tr>\n",
       "      <th>2017-12-31</th>\n",
       "      <td>0.84996</td>\n",
       "    </tr>\n",
       "    <tr>\n",
       "      <th>2018-01-31</th>\n",
       "      <td>0.821118</td>\n",
       "    </tr>\n",
       "    <tr>\n",
       "      <th>2018-02-28</th>\n",
       "      <td>0.841739</td>\n",
       "    </tr>\n",
       "    <tr>\n",
       "      <th>2018-03-31</th>\n",
       "      <td>0.852928</td>\n",
       "    </tr>\n",
       "    <tr>\n",
       "      <th>2018-04-30</th>\n",
       "      <td>0.80675</td>\n",
       "    </tr>\n",
       "    <tr>\n",
       "      <th>2018-05-31</th>\n",
       "      <td>0.85122</td>\n",
       "    </tr>\n",
       "    <tr>\n",
       "      <th>2018-06-30</th>\n",
       "      <td>0.844618</td>\n",
       "    </tr>\n",
       "    <tr>\n",
       "      <th>2018-07-31</th>\n",
       "      <td>0.821622</td>\n",
       "    </tr>\n",
       "    <tr>\n",
       "      <th>2018-08-31</th>\n",
       "      <td>0.866087</td>\n",
       "    </tr>\n",
       "    <tr>\n",
       "      <th>2018-09-30</th>\n",
       "      <td>0.836957</td>\n",
       "    </tr>\n",
       "    <tr>\n",
       "      <th>2018-10-31</th>\n",
       "      <td>0.844997</td>\n",
       "    </tr>\n",
       "    <tr>\n",
       "      <th>2018-11-30</th>\n",
       "      <td>0.848949</td>\n",
       "    </tr>\n",
       "    <tr>\n",
       "      <th>2018-12-31</th>\n",
       "      <td>0.837288</td>\n",
       "    </tr>\n",
       "    <tr>\n",
       "      <th>2019-01-31</th>\n",
       "      <td>0.830208</td>\n",
       "    </tr>\n",
       "    <tr>\n",
       "      <th>2019-02-28</th>\n",
       "      <td>0.860972</td>\n",
       "    </tr>\n",
       "    <tr>\n",
       "      <th>2019-03-31</th>\n",
       "      <td>0.853947</td>\n",
       "    </tr>\n",
       "    <tr>\n",
       "      <th>2019-04-30</th>\n",
       "      <td>0.820153</td>\n",
       "    </tr>\n",
       "    <tr>\n",
       "      <th>2019-05-31</th>\n",
       "      <td>0.855355</td>\n",
       "    </tr>\n",
       "    <tr>\n",
       "      <th>2019-06-30</th>\n",
       "      <td>0.867281</td>\n",
       "    </tr>\n",
       "    <tr>\n",
       "      <th>2019-07-31</th>\n",
       "      <td>0.838639</td>\n",
       "    </tr>\n",
       "    <tr>\n",
       "      <th>2019-08-31</th>\n",
       "      <td>0</td>\n",
       "    </tr>\n",
       "    <tr>\n",
       "      <th>2019-09-30</th>\n",
       "      <td>0.870389</td>\n",
       "    </tr>\n",
       "    <tr>\n",
       "      <th>2019-10-31</th>\n",
       "      <td>0.860316</td>\n",
       "    </tr>\n",
       "    <tr>\n",
       "      <th>2019-11-30</th>\n",
       "      <td>0.874952</td>\n",
       "    </tr>\n",
       "    <tr>\n",
       "      <th>2019-12-31</th>\n",
       "      <td>0.857113</td>\n",
       "    </tr>\n",
       "    <tr>\n",
       "      <th>2020-01-31</th>\n",
       "      <td>0.858385</td>\n",
       "    </tr>\n",
       "    <tr>\n",
       "      <th>2020-02-29</th>\n",
       "      <td>0.819537</td>\n",
       "    </tr>\n",
       "    <tr>\n",
       "      <th>2020-03-31</th>\n",
       "      <td>0.841546</td>\n",
       "    </tr>\n",
       "    <tr>\n",
       "      <th>2020-04-30</th>\n",
       "      <td>0.577971</td>\n",
       "    </tr>\n",
       "    <tr>\n",
       "      <th>2020-05-31</th>\n",
       "      <td>0.479348</td>\n",
       "    </tr>\n",
       "    <tr>\n",
       "      <th>2020-06-30</th>\n",
       "      <td>0.658997</td>\n",
       "    </tr>\n",
       "    <tr>\n",
       "      <th>2020-07-31</th>\n",
       "      <td>0.855042</td>\n",
       "    </tr>\n",
       "    <tr>\n",
       "      <th>2020-08-31</th>\n",
       "      <td>0</td>\n",
       "    </tr>\n",
       "    <tr>\n",
       "      <th>2020-09-30</th>\n",
       "      <td>0.856232</td>\n",
       "    </tr>\n",
       "    <tr>\n",
       "      <th>2020-10-31</th>\n",
       "      <td>0.832138</td>\n",
       "    </tr>\n",
       "    <tr>\n",
       "      <th>2020-11-30</th>\n",
       "      <td>0.735428</td>\n",
       "    </tr>\n",
       "  </tbody>\n",
       "</table>\n",
       "</div>"
      ],
      "text/plain": [
       "             ratioabstention\n",
       "date_scrutin                \n",
       "2017-07-31          0.772427\n",
       "2017-08-31          0.720696\n",
       "2017-09-30          0.849565\n",
       "2017-10-31          0.826226\n",
       "2017-11-30          0.834126\n",
       "2017-12-31           0.84996\n",
       "2018-01-31          0.821118\n",
       "2018-02-28          0.841739\n",
       "2018-03-31          0.852928\n",
       "2018-04-30           0.80675\n",
       "2018-05-31           0.85122\n",
       "2018-06-30          0.844618\n",
       "2018-07-31          0.821622\n",
       "2018-08-31          0.866087\n",
       "2018-09-30          0.836957\n",
       "2018-10-31          0.844997\n",
       "2018-11-30          0.848949\n",
       "2018-12-31          0.837288\n",
       "2019-01-31          0.830208\n",
       "2019-02-28          0.860972\n",
       "2019-03-31          0.853947\n",
       "2019-04-30          0.820153\n",
       "2019-05-31          0.855355\n",
       "2019-06-30          0.867281\n",
       "2019-07-31          0.838639\n",
       "2019-08-31                 0\n",
       "2019-09-30          0.870389\n",
       "2019-10-31          0.860316\n",
       "2019-11-30          0.874952\n",
       "2019-12-31          0.857113\n",
       "2020-01-31          0.858385\n",
       "2020-02-29          0.819537\n",
       "2020-03-31          0.841546\n",
       "2020-04-30          0.577971\n",
       "2020-05-31          0.479348\n",
       "2020-06-30          0.658997\n",
       "2020-07-31          0.855042\n",
       "2020-08-31                 0\n",
       "2020-09-30          0.856232\n",
       "2020-10-31          0.832138\n",
       "2020-11-30          0.735428"
      ]
     },
     "execution_count": 148,
     "metadata": {},
     "output_type": "execute_result"
    }
   ],
   "source": [
    "df_scrutins = df_scrutins.fillna('0')\n",
    "df_scrutins"
   ]
  },
  {
   "cell_type": "code",
   "execution_count": 162,
   "metadata": {},
   "outputs": [],
   "source": [
    "df_scrutins.loc['2019-08-31'][0] = 1/2*(df_scrutins.loc['2019-07-31'][0] + df_scrutins.loc['2019-09-30'][0])"
   ]
  },
  {
   "cell_type": "code",
   "execution_count": 164,
   "metadata": {},
   "outputs": [],
   "source": [
    "df_scrutins.loc['2020-08-31'][0] = 1/2*(df_scrutins.loc['2020-07-31'][0] + df_scrutins.loc['2020-09-30'][0])"
   ]
  },
  {
   "cell_type": "code",
   "execution_count": 166,
   "metadata": {
    "scrolled": true
   },
   "outputs": [
    {
     "data": {
      "image/png": "[encoded data removed]",
      "text/plain": [
       "<Figure size 432x288 with 1 Axes>"
      ]
     },
     "metadata": {
      "needs_background": "light"
     },
     "output_type": "display_data"
    }
   ],
   "source": [
    "plt.plot(df_scrutins)\n",
    "for label in plt.gca().xaxis.get_ticklabels():\n",
    "    label.set_rotation(60)"
   ]
  },
  {
   "cell_type": "code",
   "execution_count": null,
   "metadata": {},
   "outputs": [],
   "source": [
    "# A INTERPRETER\n",
    "# dans l'ensemble abstention assez forte, autour de 80% car les députés ont d'autres activités que l'AN\n",
    "# abstention faible pour les premiers scrutins post élections : surtout que l'été moins de scrutins \n",
    "#donc normal si l'abstention est \"normale\", il faut regarder septembre pour voir les \"vrais\" chiffres\n",
    "# intérêt aussi de juin 2020 : baisse forte de l'abstention au début du déconfinement \n",
    "#-> moins d'activité autre pour les députés qui ont plus de temps pour l'AN\n",
    "#-> bcp de scrutins sur la gestion de la crise sanitaire \n",
    "\n",
    "\n",
    "# => on récupère  les données du début de la législature jusqu'en mars 2020 pour étudier les tendances ? "
   ]
  },
  {
   "cell_type": "code",
   "execution_count": 168,
   "metadata": {},
   "outputs": [],
   "source": [
    "df_covid_free = df_scrutins[df_scrutins.index < '2020-04-01' ].copy()\n",
    "df_covid = df_scrutins[df_scrutins.index >= '2020-04-01' ].copy()"
   ]
  },
  {
   "cell_type": "code",
   "execution_count": 294,
   "metadata": {},
   "outputs": [
    {
     "data": {
      "text/plain": [
       "date_scrutin\n",
       "2017-07-31    0.772427\n",
       "2017-08-31    0.720696\n",
       "2017-09-30    0.849565\n",
       "2017-10-31    0.826226\n",
       "2017-11-30    0.834126\n",
       "2017-12-31     0.84996\n",
       "2018-01-31    0.821118\n",
       "2018-02-28    0.841739\n",
       "2018-03-31    0.852928\n",
       "2018-04-30     0.80675\n",
       "2018-05-31     0.85122\n",
       "2018-06-30    0.844618\n",
       "2018-07-31    0.821622\n",
       "2018-08-31    0.866087\n",
       "2018-09-30    0.836957\n",
       "2018-10-31    0.844997\n",
       "2018-11-30    0.848949\n",
       "2018-12-31    0.837288\n",
       "2019-01-31    0.830208\n",
       "2019-02-28    0.860972\n",
       "2019-03-31    0.853947\n",
       "2019-04-30    0.820153\n",
       "2019-05-31    0.855355\n",
       "2019-06-30    0.867281\n",
       "2019-07-31    0.838639\n",
       "2019-08-31    0.854514\n",
       "2019-09-30    0.870389\n",
       "2019-10-31    0.860316\n",
       "2019-11-30    0.874952\n",
       "2019-12-31    0.857113\n",
       "2020-01-31    0.858385\n",
       "2020-02-29    0.819537\n",
       "2020-03-31    0.841546\n",
       "Freq: M, Name: ratioabstention, dtype: object"
      ]
     },
     "execution_count": 294,
     "metadata": {},
     "output_type": "execute_result"
    }
   ],
   "source": [
    "df_covid_free"
   ]
  },
  {
   "cell_type": "code",
   "execution_count": 310,
   "metadata": {},
   "outputs": [],
   "source": [
    "df_sans_drop = df_covid_free[df_covid_free.index > '2017-08-31'].copy()"
   ]
  },
  {
   "cell_type": "code",
   "execution_count": 169,
   "metadata": {
    "scrolled": true
   },
   "outputs": [
    {
     "data": {
      "image/png": "[encoded data removed]",
      "text/plain": [
       "<Figure size 432x288 with 1 Axes>"
      ]
     },
     "metadata": {
      "needs_background": "light"
     },
     "output_type": "display_data"
    }
   ],
   "source": [
    "plt.plot(df_covid_free)\n",
    "for label in plt.gca().xaxis.get_ticklabels():\n",
    "    label.set_rotation(60)"
   ]
  },
  {
   "cell_type": "code",
   "execution_count": 187,
   "metadata": {},
   "outputs": [],
   "source": [
    "# On décompose nos données en tendance + saisonnalité + résidu\n",
    "from statsmodels.tsa.seasonal import seasonal_decompose\n",
    "result = seasonal_decompose(df_covid_free, model = 'additive')\n",
    "\n",
    "\n",
    "df_covid_free['saisonnalité'] = result.seasonal\n",
    "df_covid_free['tendance'] = result.trend"
   ]
  },
  {
   "cell_type": "code",
   "execution_count": 206,
   "metadata": {},
   "outputs": [
    {
     "data": {
      "image/png": "[encoded data removed]",
      "text/plain": [
       "<Figure size 432x288 with 4 Axes>"
      ]
     },
     "execution_count": 206,
     "metadata": {},
     "output_type": "execute_result"
    },
    {
     "data": {
      "image/png": "[encoded data removed]",
      "text/plain": [
       "<Figure size 432x288 with 4 Axes>"
      ]
     },
     "metadata": {
      "needs_background": "light"
     },
     "output_type": "display_data"
    }
   ],
   "source": [
    "result.plot()"
   ]
  },
  {
   "cell_type": "code",
   "execution_count": 205,
   "metadata": {
    "scrolled": true
   },
   "outputs": [
    {
     "data": {
      "image/png": "[encoded data removed]",
      "text/plain": [
       "<Figure size 432x288 with 1 Axes>"
      ]
     },
     "metadata": {
      "needs_background": "light"
     },
     "output_type": "display_data"
    }
   ],
   "source": [
    "plt.plot(df_covid_free)\n",
    "labels = df_covid_free.columns\n",
    "plt.legend(labels = labels)\n",
    "for label in plt.gca().xaxis.get_ticklabels():\n",
    "    label.set_rotation(60)"
   ]
  },
  {
   "cell_type": "code",
   "execution_count": null,
   "metadata": {},
   "outputs": [],
   "source": [
    "# tendance très légèrement à la hausse (de 83% à 85%)\n",
    "# attention à l'interprétation des mois d'août puisqu'on a rajouté des valeurs à la main (2020 et 2019)\n",
    "# idée : baisse de l'abstention en mai et en août \n",
    "# août : moins de scrutins et ptt plus resserré dans le temps donc moins d'abstention pour les quelques scrutins passés\n",
    "# mai : élections européennes et municipales ??? => les députés sont plus actifs car ils sont en campagne et leur activité à l'AN fait partie de leur campagne"
   ]
  },
  {
   "cell_type": "code",
   "execution_count": 219,
   "metadata": {},
   "outputs": [
    {
     "data": {
      "image/png": "[encoded data removed]",
      "text/plain": [
       "<Figure size 432x504 with 1 Axes>"
      ]
     },
     "metadata": {
      "needs_background": "light"
     },
     "output_type": "display_data"
    }
   ],
   "source": [
    "# on calcule l'autocorrélation = MA(q)\n",
    "# on cherche l'odre de différenciation d, en utilisant l'autocorrélation\n",
    "from statsmodels.graphics.tsaplots import plot_acf, plot_pacf\n",
    "fig = plt.figure(figsize = (6,7))\n",
    "ax1 = fig.add_subplot(311)\n",
    "fig = plot_acf(df_covid_free, ax = ax1, title = \"Autocorrélation\")\n",
    "\n",
    "\n",
    "#q=1"
   ]
  },
  {
   "cell_type": "code",
   "execution_count": 218,
   "metadata": {},
   "outputs": [
    {
     "data": {
      "image/png": "[encoded data removed]",
      "text/plain": [
       "<Figure size 432x288 with 1 Axes>"
      ]
     },
     "execution_count": 218,
     "metadata": {},
     "output_type": "execute_result"
    },
    {
     "data": {
      "image/png": "[encoded data removed]",
      "text/plain": [
       "<Figure size 432x288 with 1 Axes>"
      ]
     },
     "metadata": {
      "needs_background": "light"
     },
     "output_type": "display_data"
    }
   ],
   "source": [
    "#On calcule l'auto-corrélation partielle = AR(p)\n",
    "plot_pacf(df_covid_free, lags = '15' )\n",
    "\n",
    "# p = 1"
   ]
  },
  {
   "cell_type": "code",
   "execution_count": 207,
   "metadata": {
    "scrolled": true
   },
   "outputs": [
    {
     "name": "stdout",
     "output_type": "stream",
     "text": [
      "Collecting pmdarima\n",
      "  Downloading pmdarima-1.8.0-cp38-cp38-macosx_10_15_x86_64.whl (610 kB)\n",
      "\u001b[K     |████████████████████████████████| 610 kB 5.0 MB/s eta 0:00:01\n",
      "\u001b[?25hRequirement already satisfied: urllib3 in /opt/anaconda3/lib/python3.8/site-packages (from pmdarima) (1.25.11)\n",
      "Requirement already satisfied: setuptools!=50.0.0,>=38.6.0 in /opt/anaconda3/lib/python3.8/site-packages (from pmdarima) (50.3.1.post20201107)\n",
      "Requirement already satisfied: pandas>=0.19 in /opt/anaconda3/lib/python3.8/site-packages (from pmdarima) (1.1.3)\n",
      "Collecting Cython<0.29.18,>=0.29\n",
      "  Downloading Cython-0.29.17-cp38-cp38-macosx_10_9_x86_64.whl (2.0 MB)\n",
      "\u001b[K     |████████████████████████████████| 2.0 MB 7.0 MB/s eta 0:00:01\n",
      "\u001b[?25hRequirement already satisfied: joblib>=0.11 in /opt/anaconda3/lib/python3.8/site-packages (from pmdarima) (0.17.0)\n",
      "Collecting statsmodels!=0.12.0,>=0.11\n",
      "  Downloading statsmodels-0.12.2-cp38-cp38-macosx_10_15_x86_64.whl (9.5 MB)\n",
      "\u001b[K     |████████████████████████████████| 9.5 MB 11.4 MB/s eta 0:00:01\n",
      "\u001b[?25hRequirement already satisfied: numpy>=1.17.3 in /opt/anaconda3/lib/python3.8/site-packages (from pmdarima) (1.18.5)\n",
      "Requirement already satisfied: scikit-learn>=0.22 in /opt/anaconda3/lib/python3.8/site-packages (from pmdarima) (0.23.2)\n",
      "Requirement already satisfied: scipy>=1.3.2 in /opt/anaconda3/lib/python3.8/site-packages (from pmdarima) (1.5.2)\n",
      "Requirement already satisfied: pytz>=2017.2 in /opt/anaconda3/lib/python3.8/site-packages (from pandas>=0.19->pmdarima) (2020.1)\n",
      "Requirement already satisfied: python-dateutil>=2.7.3 in /opt/anaconda3/lib/python3.8/site-packages (from pandas>=0.19->pmdarima) (2.8.1)\n",
      "Requirement already satisfied: patsy>=0.5 in /opt/anaconda3/lib/python3.8/site-packages (from statsmodels!=0.12.0,>=0.11->pmdarima) (0.5.1)\n",
      "Requirement already satisfied: threadpoolctl>=2.0.0 in /opt/anaconda3/lib/python3.8/site-packages (from scikit-learn>=0.22->pmdarima) (2.1.0)\n",
      "Requirement already satisfied: six>=1.5 in /opt/anaconda3/lib/python3.8/site-packages (from python-dateutil>=2.7.3->pandas>=0.19->pmdarima) (1.15.0)\n",
      "Installing collected packages: Cython, statsmodels, pmdarima\n",
      "  Attempting uninstall: Cython\n",
      "    Found existing installation: Cython 0.29.21\n",
      "    Uninstalling Cython-0.29.21:\n",
      "      Successfully uninstalled Cython-0.29.21\n",
      "  Attempting uninstall: statsmodels\n",
      "    Found existing installation: statsmodels 0.12.0\n",
      "    Uninstalling statsmodels-0.12.0:\n",
      "      Successfully uninstalled statsmodels-0.12.0\n",
      "Successfully installed Cython-0.29.17 pmdarima-1.8.0 statsmodels-0.12.2\n",
      "Note: you may need to restart the kernel to use updated packages.\n"
     ]
    }
   ],
   "source": [
    "pip install pmdarima"
   ]
  },
  {
   "cell_type": "code",
   "execution_count": 212,
   "metadata": {},
   "outputs": [],
   "source": [
    "df_covid_free = df_covid_free['ratioabstention']"
   ]
  },
  {
   "cell_type": "code",
   "execution_count": 281,
   "metadata": {},
   "outputs": [
    {
     "name": "stdout",
     "output_type": "stream",
     "text": [
      "-134.44097442790903\n",
      "(0, 1, 1)\n",
      "(0, 0, 0, 12)\n"
     ]
    }
   ],
   "source": [
    "#autoarima permet de déterminer les paramètres qu'on met dans l'arima\n",
    "\n",
    "from pmdarima import auto_arima \n",
    "stepwise_model = auto_arima(df_covid_free, m = 12, # périodicité, 7 = quotidien, 52 = hebdo, 12 = mensuel\n",
    "                           seasonal = True, #permet de déterminer P, Q, D\n",
    "                           d = 1, #order of first-differencing -> à déterminer par test augmented dickey-fuller\n",
    "                           error_action = 'ignore',\n",
    "                           suppress_warnings = True,\n",
    "                           stepwise = True)\n",
    "print(stepwise_model.aic()) #il faut qu'il soit faible cf cours ML et écono2 chap3\n",
    "order = stepwise_model.order #nous donne les paramètres p,d,q dans cet ordre \n",
    "seasonal_order = stepwise_model.seasonal_order\n",
    "print(order)\n",
    "print(seasonal_order)"
   ]
  },
  {
   "cell_type": "code",
   "execution_count": 302,
   "metadata": {},
   "outputs": [
    {
     "name": "stdout",
     "output_type": "stream",
     "text": [
      "-155.39862299990497\n",
      "(2, 1, 0)\n",
      "(0, 0, 0, 12)\n"
     ]
    }
   ],
   "source": [
    "#autoarima permet de déterminer les paramètres qu'on met dans l'arima\n",
    "\n",
    "from pmdarima import auto_arima \n",
    "stepwise_model = auto_arima(df_sans_drop, m = 12, # périodicité, 7 = quotidien, 52 = hebdo, 12 = mensuel\n",
    "                           seasonal = True, #permet de déterminer P, Q, D\n",
    "                           d = 1, #order of first-differencing -> à déterminer par test augmented dickey-fuller\n",
    "                           error_action = 'ignore',\n",
    "                           suppress_warnings = True,\n",
    "                           stepwise = True)\n",
    "print(stepwise_model.bic()) #il faut qu'il soit faible cf cours ML et écono2 chap3\n",
    "orderbis = stepwise_model.order #nous donne les paramètres p,d,q dans cet ordre \n",
    "seasonal_orderbis = stepwise_model.seasonal_order\n",
    "print(orderbis)\n",
    "print(seasonal_orderbis)"
   ]
  },
  {
   "cell_type": "code",
   "execution_count": 300,
   "metadata": {},
   "outputs": [
    {
     "name": "stdout",
     "output_type": "stream",
     "text": [
      "                             ARIMA Model Results                              \n",
      "==============================================================================\n",
      "Dep. Variable:                    D.y   No. Observations:                   30\n",
      "Model:                 ARIMA(2, 1, 0)   Log Likelihood                  82.802\n",
      "Method:                       css-mle   S.D. of innovations              0.015\n",
      "Date:                Fri, 05 Mar 2021   AIC                           -157.603\n",
      "Time:                        11:57:00   BIC                           -151.998\n",
      "Sample:                             1   HQIC                          -155.810\n",
      "                                                                              \n",
      "==============================================================================\n",
      "                 coef    std err          z      P>|z|      [0.025      0.975]\n",
      "------------------------------------------------------------------------------\n",
      "const       3.557e-05      0.001      0.032      0.974      -0.002       0.002\n",
      "ar.L1.D.y     -0.8775      0.132     -6.630      0.000      -1.137      -0.618\n",
      "ar.L2.D.y     -0.6784      0.130     -5.200      0.000      -0.934      -0.423\n",
      "                                    Roots                                    \n",
      "=============================================================================\n",
      "                  Real          Imaginary           Modulus         Frequency\n",
      "-----------------------------------------------------------------------------\n",
      "AR.1           -0.6467           -1.0275j            1.2141           -0.3394\n",
      "AR.2           -0.6467           +1.0275j            1.2141            0.3394\n",
      "-----------------------------------------------------------------------------\n"
     ]
    },
    {
     "name": "stderr",
     "output_type": "stream",
     "text": [
      "/opt/anaconda3/lib/python3.8/site-packages/statsmodels/tsa/arima_model.py:472: FutureWarning: \n",
      "statsmodels.tsa.arima_model.ARMA and statsmodels.tsa.arima_model.ARIMA have\n",
      "been deprecated in favor of statsmodels.tsa.arima.model.ARIMA (note the .\n",
      "between arima and model) and\n",
      "statsmodels.tsa.SARIMAX. These will be removed after the 0.12 release.\n",
      "\n",
      "statsmodels.tsa.arima.model.ARIMA makes use of the statespace framework and\n",
      "is both well tested and maintained.\n",
      "\n",
      "To silence this warning and continue using ARMA and ARIMA until they are\n",
      "removed, use:\n",
      "\n",
      "import warnings\n",
      "warnings.filterwarnings('ignore', 'statsmodels.tsa.arima_model.ARMA',\n",
      "                        FutureWarning)\n",
      "warnings.filterwarnings('ignore', 'statsmodels.tsa.arima_model.ARIMA',\n",
      "                        FutureWarning)\n",
      "\n",
      "  warnings.warn(ARIMA_DEPRECATION_WARN, FutureWarning)\n"
     ]
    }
   ],
   "source": [
    "from statsmodels.tsa.arima_model import ARIMA\n",
    "model = ARIMA(df_sans_drop.values, order=(2,1,0))\n",
    "model_fit = model.fit(disp=0)\n",
    "print(model_fit.summary())"
   ]
  },
  {
   "cell_type": "code",
   "execution_count": 301,
   "metadata": {},
   "outputs": [
    {
     "data": {
      "image/png": "[encoded data removed]",
      "text/plain": [
       "<Figure size 432x288 with 1 Axes>"
      ]
     },
     "metadata": {
      "needs_background": "light"
     },
     "output_type": "display_data"
    }
   ],
   "source": [
    "model_fit.plot_predict(dynamic=False)\n",
    "plt.show()"
   ]
  },
  {
   "cell_type": "code",
   "execution_count": 327,
   "metadata": {},
   "outputs": [],
   "source": [
    "# https://www.machinelearningplus.com/time-series/arima-model-time-series-forecasting-python/"
   ]
  },
  {
   "cell_type": "code",
   "execution_count": 320,
   "metadata": {},
   "outputs": [
    {
     "name": "stderr",
     "output_type": "stream",
     "text": [
      "/opt/anaconda3/lib/python3.8/site-packages/pmdarima/arima/_validation.py:62: UserWarning: m (12) set for non-seasonal fit. Setting to 0\n",
      "  warnings.warn(\"m (%i) set for non-seasonal fit. Setting to 0\" % m)\n"
     ]
    },
    {
     "name": "stdout",
     "output_type": "stream",
     "text": [
      "Performing stepwise search to minimize aic\n",
      " ARIMA(1,2,1)(0,0,0)[0] intercept   : AIC=inf, Time=0.08 sec\n",
      " ARIMA(0,2,0)(0,0,0)[0] intercept   : AIC=-97.071, Time=0.01 sec\n",
      " ARIMA(1,2,0)(0,0,0)[0] intercept   : AIC=-107.719, Time=0.02 sec\n",
      " ARIMA(0,2,1)(0,0,0)[0] intercept   : AIC=inf, Time=0.05 sec\n",
      " ARIMA(0,2,0)(0,0,0)[0]             : AIC=-99.031, Time=0.01 sec\n",
      " ARIMA(2,2,0)(0,0,0)[0] intercept   : AIC=-135.176, Time=0.07 sec\n",
      " ARIMA(3,2,0)(0,0,0)[0] intercept   : AIC=-140.477, Time=0.06 sec\n",
      " ARIMA(3,2,1)(0,0,0)[0] intercept   : AIC=-142.173, Time=0.13 sec\n",
      " ARIMA(2,2,1)(0,0,0)[0] intercept   : AIC=-144.534, Time=0.09 sec\n",
      " ARIMA(2,2,2)(0,0,0)[0] intercept   : AIC=-141.412, Time=0.04 sec\n",
      " ARIMA(1,2,2)(0,0,0)[0] intercept   : AIC=-134.530, Time=0.07 sec\n",
      " ARIMA(3,2,2)(0,0,0)[0] intercept   : AIC=-139.909, Time=0.08 sec\n",
      " ARIMA(2,2,1)(0,0,0)[0]             : AIC=-145.772, Time=0.07 sec\n",
      " ARIMA(1,2,1)(0,0,0)[0]             : AIC=inf, Time=0.04 sec\n",
      " ARIMA(2,2,0)(0,0,0)[0]             : AIC=-137.145, Time=0.05 sec\n",
      " ARIMA(3,2,1)(0,0,0)[0]             : AIC=-143.754, Time=0.07 sec\n",
      " ARIMA(2,2,2)(0,0,0)[0]             : AIC=-143.444, Time=0.10 sec\n",
      " ARIMA(1,2,0)(0,0,0)[0]             : AIC=-109.711, Time=0.03 sec\n",
      " ARIMA(1,2,2)(0,0,0)[0]             : AIC=-138.962, Time=0.06 sec\n",
      " ARIMA(3,2,0)(0,0,0)[0]             : AIC=-142.274, Time=0.07 sec\n",
      " ARIMA(3,2,2)(0,0,0)[0]             : AIC=inf, Time=0.11 sec\n",
      "\n",
      "Best model:  ARIMA(2,2,1)(0,0,0)[0]          \n",
      "Total fit time: 1.325 seconds\n",
      "                               SARIMAX Results                                \n",
      "==============================================================================\n",
      "Dep. Variable:                      y   No. Observations:                   31\n",
      "Model:               SARIMAX(2, 2, 1)   Log Likelihood                  76.886\n",
      "Date:                Sat, 06 Mar 2021   AIC                           -145.772\n",
      "Time:                        18:36:01   BIC                           -140.303\n",
      "Sample:                             0   HQIC                          -144.059\n",
      "                                 - 31                                         \n",
      "Covariance Type:                  opg                                         \n",
      "==============================================================================\n",
      "                 coef    std err          z      P>|z|      [0.025      0.975]\n",
      "------------------------------------------------------------------------------\n",
      "ar.L1         -0.8788      0.190     -4.614      0.000      -1.252      -0.506\n",
      "ar.L2         -0.6748      0.181     -3.720      0.000      -1.030      -0.319\n",
      "ma.L1         -0.9389      0.343     -2.736      0.006      -1.612      -0.266\n",
      "sigma2         0.0002   7.38e-05      3.232      0.001    9.39e-05       0.000\n",
      "===================================================================================\n",
      "Ljung-Box (L1) (Q):                   0.02   Jarque-Bera (JB):                12.83\n",
      "Prob(Q):                              0.89   Prob(JB):                         0.00\n",
      "Heteroskedasticity (H):               2.51   Skew:                            -1.26\n",
      "Prob(H) (two-sided):                  0.16   Kurtosis:                         5.06\n",
      "===================================================================================\n",
      "\n",
      "Warnings:\n",
      "[1] Covariance matrix calculated using the outer product of gradients (complex-step).\n"
     ]
    }
   ],
   "source": [
    "from statsmodels.tsa.arima_model import ARIMA\n",
    "import pmdarima as pm\n",
    "\n",
    "df = df_sans_drop\n",
    "\n",
    "model = pm.auto_arima(df.values, start_p=1, start_q=1,\n",
    "                      test='adf',       # use adftest to find optimal 'd'\n",
    "                      max_p=3, max_q=3, # maximum p and q\n",
    "                      m=12,              # frequency of series : m=12 for monthly data\n",
    "                      d=None,           # let model determine 'd'\n",
    "                      seasonal=False,   # No Seasonality\n",
    "                      start_P=0, \n",
    "                      D=0, \n",
    "                      trace=True,\n",
    "                      error_action='ignore',  \n",
    "                      suppress_warnings=True, \n",
    "                      stepwise=True)\n",
    "\n",
    "print(model.summary())"
   ]
  },
  {
   "cell_type": "code",
   "execution_count": 321,
   "metadata": {
    "scrolled": true
   },
   "outputs": [
    {
     "data": {
      "image/png": "[encoded data removed]",
      "text/plain": [
       "<Figure size 504x360 with 4 Axes>"
      ]
     },
     "metadata": {
      "needs_background": "light"
     },
     "output_type": "display_data"
    }
   ],
   "source": [
    "model.plot_diagnostics(figsize=(7,5))\n",
    "plt.show()"
   ]
  },
  {
   "cell_type": "markdown",
   "metadata": {},
   "source": [
    "Top left: The residual errors seem to fluctuate around a mean of zero and have a uniform variance.\n",
    "\n",
    "Top Right: The density plot suggest normal distribution with mean zero.\n",
    "\n",
    "Bottom left: All the dots should fall perfectly in line with the red line. Any significant deviations would imply the distribution is skewed.\n",
    "\n",
    "Bottom Right: The Correlogram, aka, ACF plot shows the residual errors are not autocorrelated. Any autocorrelation would imply that there is some pattern in the residual errors which are not explained in the model. So you will need to look for more X’s (predictors) to the model."
   ]
  },
  {
   "cell_type": "code",
   "execution_count": 326,
   "metadata": {},
   "outputs": [
    {
     "data": {
      "image/png": "[encoded data removed]",
      "text/plain": [
       "<Figure size 432x288 with 1 Axes>"
      ]
     },
     "metadata": {
      "needs_background": "light"
     },
     "output_type": "display_data"
    }
   ],
   "source": [
    "# Forecast\n",
    "n_periods = 6\n",
    "fc, confint = model.predict(n_periods=n_periods, return_conf_int=True)\n",
    "index_of_fc = np.arange(len(df.values), len(df.values)+n_periods)\n",
    "\n",
    "# make series for plotting purpose\n",
    "fc_series = pd.Series(fc, index=index_of_fc)\n",
    "lower_series = pd.Series(confint[:, 0], index=index_of_fc)\n",
    "upper_series = pd.Series(confint[:, 1], index=index_of_fc)\n",
    "\n",
    "# Plot\n",
    "plt.plot(df.values)\n",
    "plt.plot(fc_series, color='darkgreen')\n",
    "plt.fill_between(lower_series.index, \n",
    "                 lower_series, \n",
    "                 upper_series, \n",
    "                 color='k', alpha=.15)\n",
    "\n",
    "plt.title(\"Final Forecast of WWW Usage\")\n",
    "plt.show()"
   ]
  },
  {
   "cell_type": "code",
   "execution_count": null,
   "metadata": {},
   "outputs": [],
   "source": []
  }
 ],
 "metadata": {
  "kernelspec": {
   "display_name": "Python 3",
   "language": "python",
   "name": "python3"
  },
  "language_info": {
   "codemirror_mode": {
    "name": "ipython",
    "version": 3
   },
   "file_extension": ".py",
   "mimetype": "text/x-python",
   "name": "python",
   "nbconvert_exporter": "python",
   "pygments_lexer": "ipython3",
   "version": "3.8.5"
  }
 },
 "nbformat": 4,
 "nbformat_minor": 4
}
